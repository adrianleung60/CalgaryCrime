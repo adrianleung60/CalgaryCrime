{
  "nbformat": 4,
  "nbformat_minor": 0,
  "metadata": {
    "colab": {
      "name": "webscraper.ipynb",
      "provenance": [],
      "collapsed_sections": [],
      "authorship_tag": "ABX9TyMy6sj9c1TiXeCukxjzrtNH",
      "include_colab_link": true
    },
    "kernelspec": {
      "name": "python3",
      "display_name": "Python 3"
    },
    "widgets": {
      "application/vnd.jupyter.widget-state+json": {
        "4672330d44694c03ba4126df829b3ee1": {
          "model_module": "@jupyter-widgets/controls",
          "model_name": "HBoxModel",
          "state": {
            "_view_name": "HBoxView",
            "_dom_classes": [],
            "_model_name": "HBoxModel",
            "_view_module": "@jupyter-widgets/controls",
            "_model_module_version": "1.5.0",
            "_view_count": null,
            "_view_module_version": "1.5.0",
            "box_style": "",
            "layout": "IPY_MODEL_28ba20d46b4a49078e9e262fbd4f720b",
            "_model_module": "@jupyter-widgets/controls",
            "children": [
              "IPY_MODEL_f469dfe175af42ba8d95b6617c12867b",
              "IPY_MODEL_1891887926784dffaf5b34a398da18b2"
            ]
          }
        },
        "28ba20d46b4a49078e9e262fbd4f720b": {
          "model_module": "@jupyter-widgets/base",
          "model_name": "LayoutModel",
          "state": {
            "_view_name": "LayoutView",
            "grid_template_rows": null,
            "right": null,
            "justify_content": null,
            "_view_module": "@jupyter-widgets/base",
            "overflow": null,
            "_model_module_version": "1.2.0",
            "_view_count": null,
            "flex_flow": null,
            "width": null,
            "min_width": null,
            "border": null,
            "align_items": null,
            "bottom": null,
            "_model_module": "@jupyter-widgets/base",
            "top": null,
            "grid_column": null,
            "overflow_y": null,
            "overflow_x": null,
            "grid_auto_flow": null,
            "grid_area": null,
            "grid_template_columns": null,
            "flex": null,
            "_model_name": "LayoutModel",
            "justify_items": null,
            "grid_row": null,
            "max_height": null,
            "align_content": null,
            "visibility": null,
            "align_self": null,
            "height": null,
            "min_height": null,
            "padding": null,
            "grid_auto_rows": null,
            "grid_gap": null,
            "max_width": null,
            "order": null,
            "_view_module_version": "1.2.0",
            "grid_template_areas": null,
            "object_position": null,
            "object_fit": null,
            "grid_auto_columns": null,
            "margin": null,
            "display": null,
            "left": null
          }
        },
        "f469dfe175af42ba8d95b6617c12867b": {
          "model_module": "@jupyter-widgets/controls",
          "model_name": "FloatProgressModel",
          "state": {
            "_view_name": "ProgressView",
            "style": "IPY_MODEL_c7e01d1a33514e25ad0cf1615bcee94b",
            "_dom_classes": [],
            "description": "100%",
            "_model_name": "FloatProgressModel",
            "bar_style": "success",
            "max": 17467,
            "_view_module": "@jupyter-widgets/controls",
            "_model_module_version": "1.5.0",
            "value": 17467,
            "_view_count": null,
            "_view_module_version": "1.5.0",
            "orientation": "horizontal",
            "min": 0,
            "description_tooltip": null,
            "_model_module": "@jupyter-widgets/controls",
            "layout": "IPY_MODEL_6627c1fc063f429e8f69f4d7c71d9692"
          }
        },
        "1891887926784dffaf5b34a398da18b2": {
          "model_module": "@jupyter-widgets/controls",
          "model_name": "HTMLModel",
          "state": {
            "_view_name": "HTMLView",
            "style": "IPY_MODEL_46056d302daa45e3859ac1ea922c21c3",
            "_dom_classes": [],
            "description": "",
            "_model_name": "HTMLModel",
            "placeholder": "​",
            "_view_module": "@jupyter-widgets/controls",
            "_model_module_version": "1.5.0",
            "value": " 17467/17467 [7:36:53&lt;00:00,  1.57s/it]",
            "_view_count": null,
            "_view_module_version": "1.5.0",
            "description_tooltip": null,
            "_model_module": "@jupyter-widgets/controls",
            "layout": "IPY_MODEL_04ff0ed7bb2e4317a95bb42264f926d1"
          }
        },
        "c7e01d1a33514e25ad0cf1615bcee94b": {
          "model_module": "@jupyter-widgets/controls",
          "model_name": "ProgressStyleModel",
          "state": {
            "_view_name": "StyleView",
            "_model_name": "ProgressStyleModel",
            "description_width": "initial",
            "_view_module": "@jupyter-widgets/base",
            "_model_module_version": "1.5.0",
            "_view_count": null,
            "_view_module_version": "1.2.0",
            "bar_color": null,
            "_model_module": "@jupyter-widgets/controls"
          }
        },
        "6627c1fc063f429e8f69f4d7c71d9692": {
          "model_module": "@jupyter-widgets/base",
          "model_name": "LayoutModel",
          "state": {
            "_view_name": "LayoutView",
            "grid_template_rows": null,
            "right": null,
            "justify_content": null,
            "_view_module": "@jupyter-widgets/base",
            "overflow": null,
            "_model_module_version": "1.2.0",
            "_view_count": null,
            "flex_flow": null,
            "width": null,
            "min_width": null,
            "border": null,
            "align_items": null,
            "bottom": null,
            "_model_module": "@jupyter-widgets/base",
            "top": null,
            "grid_column": null,
            "overflow_y": null,
            "overflow_x": null,
            "grid_auto_flow": null,
            "grid_area": null,
            "grid_template_columns": null,
            "flex": null,
            "_model_name": "LayoutModel",
            "justify_items": null,
            "grid_row": null,
            "max_height": null,
            "align_content": null,
            "visibility": null,
            "align_self": null,
            "height": null,
            "min_height": null,
            "padding": null,
            "grid_auto_rows": null,
            "grid_gap": null,
            "max_width": null,
            "order": null,
            "_view_module_version": "1.2.0",
            "grid_template_areas": null,
            "object_position": null,
            "object_fit": null,
            "grid_auto_columns": null,
            "margin": null,
            "display": null,
            "left": null
          }
        },
        "46056d302daa45e3859ac1ea922c21c3": {
          "model_module": "@jupyter-widgets/controls",
          "model_name": "DescriptionStyleModel",
          "state": {
            "_view_name": "StyleView",
            "_model_name": "DescriptionStyleModel",
            "description_width": "",
            "_view_module": "@jupyter-widgets/base",
            "_model_module_version": "1.5.0",
            "_view_count": null,
            "_view_module_version": "1.2.0",
            "_model_module": "@jupyter-widgets/controls"
          }
        },
        "04ff0ed7bb2e4317a95bb42264f926d1": {
          "model_module": "@jupyter-widgets/base",
          "model_name": "LayoutModel",
          "state": {
            "_view_name": "LayoutView",
            "grid_template_rows": null,
            "right": null,
            "justify_content": null,
            "_view_module": "@jupyter-widgets/base",
            "overflow": null,
            "_model_module_version": "1.2.0",
            "_view_count": null,
            "flex_flow": null,
            "width": null,
            "min_width": null,
            "border": null,
            "align_items": null,
            "bottom": null,
            "_model_module": "@jupyter-widgets/base",
            "top": null,
            "grid_column": null,
            "overflow_y": null,
            "overflow_x": null,
            "grid_auto_flow": null,
            "grid_area": null,
            "grid_template_columns": null,
            "flex": null,
            "_model_name": "LayoutModel",
            "justify_items": null,
            "grid_row": null,
            "max_height": null,
            "align_content": null,
            "visibility": null,
            "align_self": null,
            "height": null,
            "min_height": null,
            "padding": null,
            "grid_auto_rows": null,
            "grid_gap": null,
            "max_width": null,
            "order": null,
            "_view_module_version": "1.2.0",
            "grid_template_areas": null,
            "object_position": null,
            "object_fit": null,
            "grid_auto_columns": null,
            "margin": null,
            "display": null,
            "left": null
          }
        },
        "e376f9b3c83a434e839860c424316545": {
          "model_module": "@jupyter-widgets/controls",
          "model_name": "HBoxModel",
          "state": {
            "_view_name": "HBoxView",
            "_dom_classes": [],
            "_model_name": "HBoxModel",
            "_view_module": "@jupyter-widgets/controls",
            "_model_module_version": "1.5.0",
            "_view_count": null,
            "_view_module_version": "1.5.0",
            "box_style": "",
            "layout": "IPY_MODEL_f240c7f47f0041cbbc2caa417854fd38",
            "_model_module": "@jupyter-widgets/controls",
            "children": [
              "IPY_MODEL_60cbbb1e8b9e440fb8d1fcc32c676c8b",
              "IPY_MODEL_2e1106e7536e4bd4be051081f708e34a"
            ]
          }
        },
        "f240c7f47f0041cbbc2caa417854fd38": {
          "model_module": "@jupyter-widgets/base",
          "model_name": "LayoutModel",
          "state": {
            "_view_name": "LayoutView",
            "grid_template_rows": null,
            "right": null,
            "justify_content": null,
            "_view_module": "@jupyter-widgets/base",
            "overflow": null,
            "_model_module_version": "1.2.0",
            "_view_count": null,
            "flex_flow": null,
            "width": null,
            "min_width": null,
            "border": null,
            "align_items": null,
            "bottom": null,
            "_model_module": "@jupyter-widgets/base",
            "top": null,
            "grid_column": null,
            "overflow_y": null,
            "overflow_x": null,
            "grid_auto_flow": null,
            "grid_area": null,
            "grid_template_columns": null,
            "flex": null,
            "_model_name": "LayoutModel",
            "justify_items": null,
            "grid_row": null,
            "max_height": null,
            "align_content": null,
            "visibility": null,
            "align_self": null,
            "height": null,
            "min_height": null,
            "padding": null,
            "grid_auto_rows": null,
            "grid_gap": null,
            "max_width": null,
            "order": null,
            "_view_module_version": "1.2.0",
            "grid_template_areas": null,
            "object_position": null,
            "object_fit": null,
            "grid_auto_columns": null,
            "margin": null,
            "display": null,
            "left": null
          }
        },
        "60cbbb1e8b9e440fb8d1fcc32c676c8b": {
          "model_module": "@jupyter-widgets/controls",
          "model_name": "FloatProgressModel",
          "state": {
            "_view_name": "ProgressView",
            "style": "IPY_MODEL_e823aba9979e480c836bea8f4c3e8af4",
            "_dom_classes": [],
            "description": "100%",
            "_model_name": "FloatProgressModel",
            "bar_style": "success",
            "max": 174,
            "_view_module": "@jupyter-widgets/controls",
            "_model_module_version": "1.5.0",
            "value": 174,
            "_view_count": null,
            "_view_module_version": "1.5.0",
            "orientation": "horizontal",
            "min": 0,
            "description_tooltip": null,
            "_model_module": "@jupyter-widgets/controls",
            "layout": "IPY_MODEL_a54d41fa1bc642f2963f0c6c93c22390"
          }
        },
        "2e1106e7536e4bd4be051081f708e34a": {
          "model_module": "@jupyter-widgets/controls",
          "model_name": "HTMLModel",
          "state": {
            "_view_name": "HTMLView",
            "style": "IPY_MODEL_70844e5d760545b6875b372bff7a5299",
            "_dom_classes": [],
            "description": "",
            "_model_name": "HTMLModel",
            "placeholder": "​",
            "_view_module": "@jupyter-widgets/controls",
            "_model_module_version": "1.5.0",
            "value": " 174/174 [9:56:44&lt;00:00, 205.77s/it]",
            "_view_count": null,
            "_view_module_version": "1.5.0",
            "description_tooltip": null,
            "_model_module": "@jupyter-widgets/controls",
            "layout": "IPY_MODEL_3e8746607ec94f229e4a382f68e7d77a"
          }
        },
        "e823aba9979e480c836bea8f4c3e8af4": {
          "model_module": "@jupyter-widgets/controls",
          "model_name": "ProgressStyleModel",
          "state": {
            "_view_name": "StyleView",
            "_model_name": "ProgressStyleModel",
            "description_width": "initial",
            "_view_module": "@jupyter-widgets/base",
            "_model_module_version": "1.5.0",
            "_view_count": null,
            "_view_module_version": "1.2.0",
            "bar_color": null,
            "_model_module": "@jupyter-widgets/controls"
          }
        },
        "a54d41fa1bc642f2963f0c6c93c22390": {
          "model_module": "@jupyter-widgets/base",
          "model_name": "LayoutModel",
          "state": {
            "_view_name": "LayoutView",
            "grid_template_rows": null,
            "right": null,
            "justify_content": null,
            "_view_module": "@jupyter-widgets/base",
            "overflow": null,
            "_model_module_version": "1.2.0",
            "_view_count": null,
            "flex_flow": null,
            "width": null,
            "min_width": null,
            "border": null,
            "align_items": null,
            "bottom": null,
            "_model_module": "@jupyter-widgets/base",
            "top": null,
            "grid_column": null,
            "overflow_y": null,
            "overflow_x": null,
            "grid_auto_flow": null,
            "grid_area": null,
            "grid_template_columns": null,
            "flex": null,
            "_model_name": "LayoutModel",
            "justify_items": null,
            "grid_row": null,
            "max_height": null,
            "align_content": null,
            "visibility": null,
            "align_self": null,
            "height": null,
            "min_height": null,
            "padding": null,
            "grid_auto_rows": null,
            "grid_gap": null,
            "max_width": null,
            "order": null,
            "_view_module_version": "1.2.0",
            "grid_template_areas": null,
            "object_position": null,
            "object_fit": null,
            "grid_auto_columns": null,
            "margin": null,
            "display": null,
            "left": null
          }
        },
        "70844e5d760545b6875b372bff7a5299": {
          "model_module": "@jupyter-widgets/controls",
          "model_name": "DescriptionStyleModel",
          "state": {
            "_view_name": "StyleView",
            "_model_name": "DescriptionStyleModel",
            "description_width": "",
            "_view_module": "@jupyter-widgets/base",
            "_model_module_version": "1.5.0",
            "_view_count": null,
            "_view_module_version": "1.2.0",
            "_model_module": "@jupyter-widgets/controls"
          }
        },
        "3e8746607ec94f229e4a382f68e7d77a": {
          "model_module": "@jupyter-widgets/base",
          "model_name": "LayoutModel",
          "state": {
            "_view_name": "LayoutView",
            "grid_template_rows": null,
            "right": null,
            "justify_content": null,
            "_view_module": "@jupyter-widgets/base",
            "overflow": null,
            "_model_module_version": "1.2.0",
            "_view_count": null,
            "flex_flow": null,
            "width": null,
            "min_width": null,
            "border": null,
            "align_items": null,
            "bottom": null,
            "_model_module": "@jupyter-widgets/base",
            "top": null,
            "grid_column": null,
            "overflow_y": null,
            "overflow_x": null,
            "grid_auto_flow": null,
            "grid_area": null,
            "grid_template_columns": null,
            "flex": null,
            "_model_name": "LayoutModel",
            "justify_items": null,
            "grid_row": null,
            "max_height": null,
            "align_content": null,
            "visibility": null,
            "align_self": null,
            "height": null,
            "min_height": null,
            "padding": null,
            "grid_auto_rows": null,
            "grid_gap": null,
            "max_width": null,
            "order": null,
            "_view_module_version": "1.2.0",
            "grid_template_areas": null,
            "object_position": null,
            "object_fit": null,
            "grid_auto_columns": null,
            "margin": null,
            "display": null,
            "left": null
          }
        }
      }
    }
  },
  "cells": [
    {
      "cell_type": "markdown",
      "metadata": {
        "id": "view-in-github",
        "colab_type": "text"
      },
      "source": [
        "<a href=\"https://colab.research.google.com/github/adrianleung60/thelayoff/blob/main/webscraper.ipynb\" target=\"_parent\"><img src=\"https://colab.research.google.com/assets/colab-badge.svg\" alt=\"Open In Colab\"/></a>"
      ]
    },
    {
      "cell_type": "code",
      "metadata": {
        "id": "mnIF7Gmpv8XO",
        "colab": {
          "base_uri": "https://localhost:8080/"
        },
        "outputId": "804d667d-1999-4c54-b469-8aaf06e74303"
      },
      "source": [
        "from bs4 import BeautifulSoup\r\n",
        "import glob\r\n",
        "import requests\r\n",
        "import pandas as pd\r\n",
        "import numpy as np\r\n",
        "import re\r\n",
        "import string\r\n",
        "import csv\r\n",
        "import time\r\n",
        "import random\r\n",
        "from datetime import datetime\r\n",
        "from google.colab import drive\r\n",
        "from tqdm.notebook import tqdm\r\n",
        "import matplotlib.pyplot as plt\r\n",
        "import plotly.express as px\r\n",
        "from plotly.subplots import make_subplots\r\n",
        "import plotly.graph_objects as go\r\n",
        "drive.mount('/content/drive')"
      ],
      "execution_count": null,
      "outputs": [
        {
          "output_type": "stream",
          "text": [
            "Mounted at /content/drive\n"
          ],
          "name": "stdout"
        }
      ]
    },
    {
      "cell_type": "code",
      "metadata": {
        "id": "CMtGapmpUF8k"
      },
      "source": [
        "#function to find number after a text, used to parse html\r\n",
        "def find_number(text, c):\r\n",
        "    return re.findall(r'%s(\\d+)' % c, text)\r\n",
        "\r\n",
        "def get_div_content(url):\r\n",
        "  site = requests.get(url).text\r\n",
        "  soup = BeautifulSoup(site)\r\n",
        "  content = str(soup.find_all('div', attrs = {'id':'content'}))\r\n",
        "  return BeautifulSoup(content)"
      ],
      "execution_count": null,
      "outputs": []
    },
    {
      "cell_type": "markdown",
      "metadata": {
        "id": "0NOtiDohQo_a"
      },
      "source": [
        "#Section to extract all company sites"
      ]
    },
    {
      "cell_type": "code",
      "metadata": {
        "colab": {
          "base_uri": "https://localhost:8080/"
        },
        "id": "SJ5PtmbZmZZm",
        "outputId": "b0ed4aa1-b555-4489-b0a9-436776875751"
      },
      "source": [
        "# get company indexes\r\n",
        "numindex=list(range(0,10))\r\n",
        "for x in numindex:\r\n",
        "  numindex[x] = str(numindex[x])\r\n",
        "\r\n",
        "alphindex=list(string.ascii_lowercase)\r\n",
        "alphindex1 = alphindex[:len(alphindex)//2]\r\n",
        "alphindex2 = alphindex[len(alphindex)//2:]\r\n",
        "\r\n",
        "index = numindex + alphindex1 + alphindex2\r\n",
        "alphindex1"
      ],
      "execution_count": null,
      "outputs": [
        {
          "output_type": "execute_result",
          "data": {
            "text/plain": [
              "['a', 'b', 'c', 'd', 'e', 'f', 'g', 'h', 'i', 'j', 'k', 'l', 'm']"
            ]
          },
          "metadata": {
            "tags": []
          },
          "execution_count": 3
        }
      ]
    },
    {
      "cell_type": "code",
      "metadata": {
        "id": "L40uiqSxW2lu"
      },
      "source": [
        "customindex=['a','b','c','d','e','f','g']\r\n",
        "customindex2=['f','g','h','i','j','k','l','m']\r\n",
        "customindex3=['l','m','n']"
      ],
      "execution_count": null,
      "outputs": []
    },
    {
      "cell_type": "code",
      "metadata": {
        "id": "h7tkwtoRp_lT"
      },
      "source": [
        "# get list of all active companies\r\n",
        "pd.set_option('display.max_rows', None)\r\n",
        "urls = pd.DataFrame(data = siteurls[41:363], columns=['URL']) #extract 41-363 for most active companies\r\n",
        "print(urls)"
      ],
      "execution_count": null,
      "outputs": []
    },
    {
      "cell_type": "code",
      "metadata": {
        "id": "R_qZWXQPxt2e"
      },
      "source": [
        "#get list of URL from all companies\r\n",
        "url = 'https://www.thelayoff.com'\r\n",
        "siteurls=[]\r\n",
        "\r\n",
        "for x in range(len(index)):\r\n",
        "  indexurl = url + \"/index/\" + index[x]\r\n",
        "  contentsoup = get_div_content(indexurl)\r\n",
        "\r\n",
        "  #check if there are additional pages\r\n",
        "  flag = len(contentsoup.find('ul', attrs={'class':'pagination'}))\r\n",
        "\r\n",
        "  if flag == 1: #loop through additional pages if they exist\r\n",
        "    pageindex = []\r\n",
        "    for link in contentsoup.find_all('a'):\r\n",
        "      pageindex.append(url + link.get('href'))\r\n",
        "\r\n",
        "    #remove duplicate page urls\r\n",
        "    pageindex = list(dict.fromkeys(pageindex))\r\n",
        "\r\n",
        "    #loop through companies in pages\r\n",
        "    for y in range(len(pageindex)):\r\n",
        "      pageurl = pageindex[y]\r\n",
        "      pagecontentsoup = get_div_content(pageurl)\r\n",
        "      for link in pagecontentsoup.find_all('a'):\r\n",
        "        siteurls.append(url + link.get('href'))\r\n",
        "\r\n",
        "  else: #output links for indexes with no additional pages\r\n",
        "    for link in contentsoup.find_all('a'):\r\n",
        "      siteurls.append(url + link.get('href'))\r\n",
        "\r\n",
        "# df = pd.DataFrame(data=siteurls, columns=['url'])\r\n",
        "# df.to_csv('sites.csv')"
      ],
      "execution_count": null,
      "outputs": []
    },
    {
      "cell_type": "code",
      "metadata": {
        "id": "uU08MWWvJtoD"
      },
      "source": [
        "df = pd.DataFrame(data=siteurls, columns=['url'])\r\n",
        "df.to_csv('sites.csv')"
      ],
      "execution_count": null,
      "outputs": []
    },
    {
      "cell_type": "code",
      "metadata": {
        "id": "ZD47A0WYHcXp"
      },
      "source": [
        "# merge all csv into one dataframe\r\n",
        "\r\n",
        "import glob\r\n",
        "path = '/content'\r\n",
        "all_files = glob.glob(path + \"/*.csv\")\r\n",
        "li=[]\r\n",
        "\r\n",
        "for filename in all_files:\r\n",
        "    df = pd.read_csv(filename, index_col=None, header=0)\r\n",
        "    li.append(df)\r\n",
        "df = pd.concat(li, axis=0, ignore_index=True)"
      ],
      "execution_count": null,
      "outputs": []
    },
    {
      "cell_type": "code",
      "metadata": {
        "colab": {
          "base_uri": "https://localhost:8080/"
        },
        "id": "XAu9tlKGJ_Fs",
        "outputId": "2b2b9554-25f7-4c7f-bbdd-ff4ab52dc832"
      },
      "source": [
        "df = df.drop(['Unnamed: 0'], axis=1)\r\n",
        "df.shape"
      ],
      "execution_count": null,
      "outputs": [
        {
          "output_type": "execute_result",
          "data": {
            "text/plain": [
              "(41739, 1)"
            ]
          },
          "metadata": {
            "tags": []
          },
          "execution_count": 42
        }
      ]
    },
    {
      "cell_type": "code",
      "metadata": {
        "colab": {
          "base_uri": "https://localhost:8080/",
          "height": 391
        },
        "id": "WAxhdhw9O6QL",
        "outputId": "70ffba81-3ade-47c5-e76f-57084f8ffd7b"
      },
      "source": [
        "df.sort_values(by=['url'], ignore_index=True)"
      ],
      "execution_count": null,
      "outputs": [
        {
          "output_type": "execute_result",
          "data": {
            "text/html": [
              "<div>\n",
              "<style scoped>\n",
              "    .dataframe tbody tr th:only-of-type {\n",
              "        vertical-align: middle;\n",
              "    }\n",
              "\n",
              "    .dataframe tbody tr th {\n",
              "        vertical-align: top;\n",
              "    }\n",
              "\n",
              "    .dataframe thead th {\n",
              "        text-align: right;\n",
              "    }\n",
              "</style>\n",
              "<table border=\"1\" class=\"dataframe\">\n",
              "  <thead>\n",
              "    <tr style=\"text-align: right;\">\n",
              "      <th></th>\n",
              "      <th>url</th>\n",
              "    </tr>\n",
              "  </thead>\n",
              "  <tbody>\n",
              "    <tr>\n",
              "      <th>0</th>\n",
              "      <td>https://www.thelayoff.com/-eleven</td>\n",
              "    </tr>\n",
              "    <tr>\n",
              "      <th>1</th>\n",
              "      <td>https://www.thelayoff.com/01-communique-labora...</td>\n",
              "    </tr>\n",
              "    <tr>\n",
              "      <th>2</th>\n",
              "      <td>https://www.thelayoff.com/1-800-radiator</td>\n",
              "    </tr>\n",
              "    <tr>\n",
              "      <th>3</th>\n",
              "      <td>https://www.thelayoff.com/1-source-consulting</td>\n",
              "    </tr>\n",
              "    <tr>\n",
              "      <th>4</th>\n",
              "      <td>https://www.thelayoff.com/1000bulbs</td>\n",
              "    </tr>\n",
              "    <tr>\n",
              "      <th>...</th>\n",
              "      <td>...</td>\n",
              "    </tr>\n",
              "    <tr>\n",
              "      <th>41734</th>\n",
              "      <td>https://www.thelayoff.com/zymeworks</td>\n",
              "    </tr>\n",
              "    <tr>\n",
              "      <th>41735</th>\n",
              "      <td>https://www.thelayoff.com/zymogenetics</td>\n",
              "    </tr>\n",
              "    <tr>\n",
              "      <th>41736</th>\n",
              "      <td>https://www.thelayoff.com/zynerba-pharmaceuticals</td>\n",
              "    </tr>\n",
              "    <tr>\n",
              "      <th>41737</th>\n",
              "      <td>https://www.thelayoff.com/zynga</td>\n",
              "    </tr>\n",
              "    <tr>\n",
              "      <th>41738</th>\n",
              "      <td>https://www.thelayoff.com/zywave</td>\n",
              "    </tr>\n",
              "  </tbody>\n",
              "</table>\n",
              "<p>41739 rows × 1 columns</p>\n",
              "</div>"
            ],
            "text/plain": [
              "                                                     url\n",
              "0                      https://www.thelayoff.com/-eleven\n",
              "1      https://www.thelayoff.com/01-communique-labora...\n",
              "2               https://www.thelayoff.com/1-800-radiator\n",
              "3          https://www.thelayoff.com/1-source-consulting\n",
              "4                    https://www.thelayoff.com/1000bulbs\n",
              "...                                                  ...\n",
              "41734                https://www.thelayoff.com/zymeworks\n",
              "41735             https://www.thelayoff.com/zymogenetics\n",
              "41736  https://www.thelayoff.com/zynerba-pharmaceuticals\n",
              "41737                    https://www.thelayoff.com/zynga\n",
              "41738                   https://www.thelayoff.com/zywave\n",
              "\n",
              "[41739 rows x 1 columns]"
            ]
          },
          "metadata": {
            "tags": []
          },
          "execution_count": 45
        }
      ]
    },
    {
      "cell_type": "code",
      "metadata": {
        "colab": {
          "base_uri": "https://localhost:8080/"
        },
        "id": "1h6PBkZxLYN_",
        "outputId": "bc661b63-173e-443a-cbc0-c2ac2ab8b94b"
      },
      "source": [
        "duplicatedRowsDF = df[df.duplicated()]\r\n",
        "print(duplicatedRowsDF)"
      ],
      "execution_count": null,
      "outputs": [
        {
          "output_type": "stream",
          "text": [
            "                                                     url\n",
            "8049    https://www.thelayoff.com/l-1-identity-solutions\n",
            "8050   https://www.thelayoff.com/l-3-communications-h...\n",
            "8051        https://www.thelayoff.com/l-and-h-industrial\n",
            "8052   https://www.thelayoff.com/l-anse-area-schools-...\n",
            "8053   https://www.thelayoff.com/l-anse-creuse-public...\n",
            "...                                                  ...\n",
            "41734    https://www.thelayoff.com/firehouse-productions\n",
            "41735  https://www.thelayoff.com/firelands-local-scho...\n",
            "41736  https://www.thelayoff.com/firelands-regional-m...\n",
            "41737     https://www.thelayoff.com/firestream-worldwide\n",
            "41738  https://www.thelayoff.com/firm-capital-mortgag...\n",
            "\n",
            "[4270 rows x 1 columns]\n"
          ],
          "name": "stdout"
        }
      ]
    },
    {
      "cell_type": "code",
      "metadata": {
        "colab": {
          "base_uri": "https://localhost:8080/"
        },
        "id": "mGZCFoLxPxNM",
        "outputId": "e672f579-1880-4ba0-ca68-7c02c3289450"
      },
      "source": [
        "dfsites = df.drop_duplicates(keep='first', ignore_index=True)\r\n",
        "dfsites.shape"
      ],
      "execution_count": null,
      "outputs": [
        {
          "output_type": "execute_result",
          "data": {
            "text/plain": [
              "(37469, 1)"
            ]
          },
          "metadata": {
            "tags": []
          },
          "execution_count": 52
        }
      ]
    },
    {
      "cell_type": "code",
      "metadata": {
        "colab": {
          "base_uri": "https://localhost:8080/",
          "height": 272
        },
        "id": "Jao74T6YSWtL",
        "outputId": "1f241774-059c-4e1f-a926-6c1c9f1d1c61"
      },
      "source": [
        "dfsites.sort_values(by=['url'], ignore_index=True, inplace=True)\r\n",
        "dfsites.head()"
      ],
      "execution_count": null,
      "outputs": [
        {
          "output_type": "stream",
          "text": [
            "/usr/local/lib/python3.6/dist-packages/ipykernel_launcher.py:1: SettingWithCopyWarning: \n",
            "A value is trying to be set on a copy of a slice from a DataFrame\n",
            "\n",
            "See the caveats in the documentation: https://pandas.pydata.org/pandas-docs/stable/user_guide/indexing.html#returning-a-view-versus-a-copy\n",
            "  \"\"\"Entry point for launching an IPython kernel.\n"
          ],
          "name": "stderr"
        },
        {
          "output_type": "execute_result",
          "data": {
            "text/html": [
              "<div>\n",
              "<style scoped>\n",
              "    .dataframe tbody tr th:only-of-type {\n",
              "        vertical-align: middle;\n",
              "    }\n",
              "\n",
              "    .dataframe tbody tr th {\n",
              "        vertical-align: top;\n",
              "    }\n",
              "\n",
              "    .dataframe thead th {\n",
              "        text-align: right;\n",
              "    }\n",
              "</style>\n",
              "<table border=\"1\" class=\"dataframe\">\n",
              "  <thead>\n",
              "    <tr style=\"text-align: right;\">\n",
              "      <th></th>\n",
              "      <th>url</th>\n",
              "    </tr>\n",
              "  </thead>\n",
              "  <tbody>\n",
              "    <tr>\n",
              "      <th>0</th>\n",
              "      <td>https://www.thelayoff.com/-eleven</td>\n",
              "    </tr>\n",
              "    <tr>\n",
              "      <th>1</th>\n",
              "      <td>https://www.thelayoff.com/01-communique-labora...</td>\n",
              "    </tr>\n",
              "    <tr>\n",
              "      <th>2</th>\n",
              "      <td>https://www.thelayoff.com/1-800-radiator</td>\n",
              "    </tr>\n",
              "    <tr>\n",
              "      <th>3</th>\n",
              "      <td>https://www.thelayoff.com/1-source-consulting</td>\n",
              "    </tr>\n",
              "    <tr>\n",
              "      <th>4</th>\n",
              "      <td>https://www.thelayoff.com/1000bulbs</td>\n",
              "    </tr>\n",
              "  </tbody>\n",
              "</table>\n",
              "</div>"
            ],
            "text/plain": [
              "                                                 url\n",
              "0                  https://www.thelayoff.com/-eleven\n",
              "1  https://www.thelayoff.com/01-communique-labora...\n",
              "2           https://www.thelayoff.com/1-800-radiator\n",
              "3      https://www.thelayoff.com/1-source-consulting\n",
              "4                https://www.thelayoff.com/1000bulbs"
            ]
          },
          "metadata": {
            "tags": []
          },
          "execution_count": 54
        }
      ]
    },
    {
      "cell_type": "code",
      "metadata": {
        "id": "mkQ4sWrVQhtQ"
      },
      "source": [
        "dfsites.to_csv('allsites.csv')"
      ],
      "execution_count": null,
      "outputs": []
    },
    {
      "cell_type": "markdown",
      "metadata": {
        "id": "ta3zOewpQxN-"
      },
      "source": [
        "#Loop through all sites - Create subset for sites with no next page"
      ]
    },
    {
      "cell_type": "code",
      "metadata": {
        "colab": {
          "base_uri": "https://localhost:8080/"
        },
        "id": "pxIxShh5o-bY",
        "outputId": "b8f6e196-010b-4b8c-d86b-c34758339961"
      },
      "source": [
        "dfsites = pd.read_csv('drive/MyDrive/allsites.csv')\r\n",
        "sitelist = dfsites.url\r\n",
        "sitelist"
      ],
      "execution_count": null,
      "outputs": [
        {
          "output_type": "execute_result",
          "data": {
            "text/plain": [
              "0                        https://www.thelayoff.com/-eleven\n",
              "1        https://www.thelayoff.com/01-communique-labora...\n",
              "2                 https://www.thelayoff.com/1-800-radiator\n",
              "3            https://www.thelayoff.com/1-source-consulting\n",
              "4                      https://www.thelayoff.com/1000bulbs\n",
              "                               ...                        \n",
              "37464                  https://www.thelayoff.com/zymeworks\n",
              "37465               https://www.thelayoff.com/zymogenetics\n",
              "37466    https://www.thelayoff.com/zynerba-pharmaceuticals\n",
              "37467                      https://www.thelayoff.com/zynga\n",
              "37468                     https://www.thelayoff.com/zywave\n",
              "Name: url, Length: 37469, dtype: object"
            ]
          },
          "metadata": {
            "tags": []
          },
          "execution_count": 3
        }
      ]
    },
    {
      "cell_type": "code",
      "metadata": {
        "colab": {
          "base_uri": "https://localhost:8080/",
          "height": 35
        },
        "id": "KW_yXUq4uTe2",
        "outputId": "55bb2af5-23d3-4dbc-cd8f-cfb213aefe20"
      },
      "source": [
        "sitelist[20000]"
      ],
      "execution_count": null,
      "outputs": [
        {
          "output_type": "execute_result",
          "data": {
            "application/vnd.google.colaboratory.intrinsic+json": {
              "type": "string"
            },
            "text/plain": [
              "'https://www.thelayoff.com/marshall-medical-center-lewisburg'"
            ]
          },
          "metadata": {
            "tags": []
          },
          "execution_count": 3
        }
      ]
    },
    {
      "cell_type": "code",
      "metadata": {
        "colab": {
          "base_uri": "https://localhost:8080/",
          "height": 76
        },
        "id": "BUCrUdVKWDum",
        "outputId": "e89033ab-f6a7-4b09-847e-63fcf75f8944"
      },
      "source": [
        "dfsites[dfsites['url'].str.contains('imperial-oil')]"
      ],
      "execution_count": null,
      "outputs": [
        {
          "output_type": "execute_result",
          "data": {
            "text/html": [
              "<div>\n",
              "<style scoped>\n",
              "    .dataframe tbody tr th:only-of-type {\n",
              "        vertical-align: middle;\n",
              "    }\n",
              "\n",
              "    .dataframe tbody tr th {\n",
              "        vertical-align: top;\n",
              "    }\n",
              "\n",
              "    .dataframe thead th {\n",
              "        text-align: right;\n",
              "    }\n",
              "</style>\n",
              "<table border=\"1\" class=\"dataframe\">\n",
              "  <thead>\n",
              "    <tr style=\"text-align: right;\">\n",
              "      <th></th>\n",
              "      <th>Unnamed: 0</th>\n",
              "      <th>url</th>\n",
              "    </tr>\n",
              "  </thead>\n",
              "  <tbody>\n",
              "    <tr>\n",
              "      <th>15733</th>\n",
              "      <td>15733</td>\n",
              "      <td>https://www.thelayoff.com/imperial-oil</td>\n",
              "    </tr>\n",
              "  </tbody>\n",
              "</table>\n",
              "</div>"
            ],
            "text/plain": [
              "       Unnamed: 0                                     url\n",
              "15733       15733  https://www.thelayoff.com/imperial-oil"
            ]
          },
          "metadata": {
            "tags": []
          },
          "execution_count": 75
        }
      ]
    },
    {
      "cell_type": "code",
      "metadata": {
        "id": "9hqXlphRvVxS"
      },
      "source": [
        "user_agent_list = [\r\n",
        "    'Mozilla/5.0 (Macintosh; Intel Mac OS X 10_15_5) AppleWebKit/605.1.15 (KHTML, like Gecko) Version/13.1.1 Safari/605.1.15',\r\n",
        "    'Mozilla/5.0 (Windows NT 10.0; Win64; x64; rv:77.0) Gecko/20100101 Firefox/77.0',\r\n",
        "    'Mozilla/5.0 (Macintosh; Intel Mac OS X 10_15_5) AppleWebKit/537.36 (KHTML, like Gecko) Chrome/83.0.4103.97 Safari/537.36',\r\n",
        "    'Mozilla/5.0 (Macintosh; Intel Mac OS X 10.15; rv:77.0) Gecko/20100101 Firefox/77.0',\r\n",
        "    'Mozilla/5.0 (Windows NT 10.0; Win64; x64) AppleWebKit/537.36 (KHTML, like Gecko) Chrome/83.0.4103.97 Safari/537.36',\r\n",
        "]"
      ],
      "execution_count": null,
      "outputs": []
    },
    {
      "cell_type": "code",
      "metadata": {
        "id": "sRCSIXJnBy77",
        "colab": {
          "base_uri": "https://localhost:8080/",
          "height": 65,
          "referenced_widgets": [
            "4672330d44694c03ba4126df829b3ee1",
            "28ba20d46b4a49078e9e262fbd4f720b",
            "f469dfe175af42ba8d95b6617c12867b",
            "1891887926784dffaf5b34a398da18b2",
            "c7e01d1a33514e25ad0cf1615bcee94b",
            "6627c1fc063f429e8f69f4d7c71d9692",
            "46056d302daa45e3859ac1ea922c21c3",
            "04ff0ed7bb2e4317a95bb42264f926d1"
          ]
        },
        "outputId": "861ef40e-cdc5-407a-ae4b-cae2e68aea5f"
      },
      "source": [
        "company = []\r\n",
        "industry = []\r\n",
        "OnePage = []\r\n",
        "\r\n",
        "for x in tqdm(range(20001,37468)):\r\n",
        "\r\n",
        "  user_agent = random.choice(user_agent_list)\r\n",
        "  headers = {'User-Agent': user_agent}\r\n",
        "\r\n",
        "  companyurl = sitelist[x] #get url\r\n",
        "  companysite = requests.get(companyurl, headers=headers).text #get html\r\n",
        "  companysoup = BeautifulSoup(companysite)\r\n",
        "\r\n",
        "  # get company and industry\r\n",
        "  try: companystr = companysoup.find('aside', attrs={'id':'company'}).h2.text.replace(' company profile',\"\")\r\n",
        "  except Exception: companystr = companyurl\r\n",
        "  try:\r\n",
        "    industrystr = companysoup.find('dl', attrs={'class':'header-profile'}).dd.text\r\n",
        "  except Exception: industrystr = None\r\n",
        "\r\n",
        "  # check for next site\r\n",
        "  next = companysoup.find('li', attrs={'class':'next'})\r\n",
        "  if next == None:\r\n",
        "    OnePageBool = \"Yes\"\r\n",
        "  else:\r\n",
        "    OnePageBool = \"No\"\r\n",
        "\r\n",
        "  company.append(companystr)\r\n",
        "  industry.append(industrystr)\r\n",
        "  OnePage.append(OnePageBool)\r\n",
        "\r\n",
        "  time.sleep(0.9)\r\n",
        "\r\n",
        "  if x % 2500 == 0:\r\n",
        "    data = {'company':company, 'industry':industry, 'OnePageBool':OnePage}\r\n",
        "    tempdata = pd.DataFrame(data)\r\n",
        "    tempdata.to_csv('drive/MyDrive/companydata' + str(x) + '.csv')\r\n",
        "\r\n",
        "data = {'company':company, 'industry':industry, 'OnePageBool':OnePage}\r\n",
        "tempdata = pd.DataFrame(data)\r\n",
        "tempdata.to_csv('drive/MyDrive/companydata' + str(x) + '.csv')\r\n"
      ],
      "execution_count": null,
      "outputs": [
        {
          "output_type": "display_data",
          "data": {
            "application/vnd.jupyter.widget-view+json": {
              "model_id": "4672330d44694c03ba4126df829b3ee1",
              "version_minor": 0,
              "version_major": 2
            },
            "text/plain": [
              "HBox(children=(FloatProgress(value=0.0, max=17467.0), HTML(value='')))"
            ]
          },
          "metadata": {
            "tags": []
          }
        },
        {
          "output_type": "stream",
          "text": [
            "\n"
          ],
          "name": "stdout"
        }
      ]
    },
    {
      "cell_type": "code",
      "metadata": {
        "id": "KYzt3nlbbKLq",
        "colab": {
          "base_uri": "https://localhost:8080/",
          "height": 335
        },
        "outputId": "f38fd699-3124-4430-db54-d9b3c557a594"
      },
      "source": [
        "  data = {'company':company, 'industry':industry, 'OnePageBool':OnePage}\r\n",
        "  tempdata = pd.DataFrame(data)\r\n",
        "  #tempdata.to_csv('companydata' + str(x) + '.csv')\r\n",
        "  tempdata.head(10)"
      ],
      "execution_count": null,
      "outputs": [
        {
          "output_type": "execute_result",
          "data": {
            "text/html": [
              "<div>\n",
              "<style scoped>\n",
              "    .dataframe tbody tr th:only-of-type {\n",
              "        vertical-align: middle;\n",
              "    }\n",
              "\n",
              "    .dataframe tbody tr th {\n",
              "        vertical-align: top;\n",
              "    }\n",
              "\n",
              "    .dataframe thead th {\n",
              "        text-align: right;\n",
              "    }\n",
              "</style>\n",
              "<table border=\"1\" class=\"dataframe\">\n",
              "  <thead>\n",
              "    <tr style=\"text-align: right;\">\n",
              "      <th></th>\n",
              "      <th>company</th>\n",
              "      <th>industry</th>\n",
              "      <th>OnePageBool</th>\n",
              "    </tr>\n",
              "  </thead>\n",
              "  <tbody>\n",
              "    <tr>\n",
              "      <th>0</th>\n",
              "      <td>Imperial Holdings Inc.</td>\n",
              "      <td>Financials // Finance, Special Products</td>\n",
              "      <td>Yes</td>\n",
              "    </tr>\n",
              "    <tr>\n",
              "      <th>1</th>\n",
              "      <td>Imperial Industries Inc.</td>\n",
              "      <td>Heavy Machinery &amp; Materials</td>\n",
              "      <td>Yes</td>\n",
              "    </tr>\n",
              "    <tr>\n",
              "      <th>2</th>\n",
              "      <td>Imperial Metals Corporation</td>\n",
              "      <td>III</td>\n",
              "      <td>Yes</td>\n",
              "    </tr>\n",
              "    <tr>\n",
              "      <th>3</th>\n",
              "      <td>Imperial Oil Limited</td>\n",
              "      <td>IMO</td>\n",
              "      <td>No</td>\n",
              "    </tr>\n",
              "    <tr>\n",
              "      <th>4</th>\n",
              "      <td>Imperial Sugar Co.</td>\n",
              "      <td>Food &amp; Tobacco</td>\n",
              "      <td>Yes</td>\n",
              "    </tr>\n",
              "    <tr>\n",
              "      <th>5</th>\n",
              "      <td>Imperial Tobacco Group PLC</td>\n",
              "      <td>Food &amp; Tobacco</td>\n",
              "      <td>Yes</td>\n",
              "    </tr>\n",
              "    <tr>\n",
              "      <th>6</th>\n",
              "      <td>Imperial Unified School District</td>\n",
              "      <td>Local and State Government, education and hosp...</td>\n",
              "      <td>Yes</td>\n",
              "    </tr>\n",
              "    <tr>\n",
              "      <th>7</th>\n",
              "      <td>Imperial Valley ROP JPA</td>\n",
              "      <td>Local and State Government, education and hosp...</td>\n",
              "      <td>Yes</td>\n",
              "    </tr>\n",
              "    <tr>\n",
              "      <th>8</th>\n",
              "      <td>Imperva Inc.</td>\n",
              "      <td>Technology // Software and Intellectual Property</td>\n",
              "      <td>Yes</td>\n",
              "    </tr>\n",
              "    <tr>\n",
              "      <th>9</th>\n",
              "      <td>Impinj</td>\n",
              "      <td>Technology//Semiconductors</td>\n",
              "      <td>Yes</td>\n",
              "    </tr>\n",
              "  </tbody>\n",
              "</table>\n",
              "</div>"
            ],
            "text/plain": [
              "                            company  ... OnePageBool\n",
              "0            Imperial Holdings Inc.  ...         Yes\n",
              "1          Imperial Industries Inc.  ...         Yes\n",
              "2       Imperial Metals Corporation  ...         Yes\n",
              "3              Imperial Oil Limited  ...          No\n",
              "4                Imperial Sugar Co.  ...         Yes\n",
              "5        Imperial Tobacco Group PLC  ...         Yes\n",
              "6  Imperial Unified School District  ...         Yes\n",
              "7           Imperial Valley ROP JPA  ...         Yes\n",
              "8                      Imperva Inc.  ...         Yes\n",
              "9                            Impinj  ...         Yes\n",
              "\n",
              "[10 rows x 3 columns]"
            ]
          },
          "metadata": {
            "tags": []
          },
          "execution_count": 79
        }
      ]
    },
    {
      "cell_type": "code",
      "metadata": {
        "id": "AFRxTyPqrlnJ"
      },
      "source": [
        "print(companysoup.prettify())"
      ],
      "execution_count": null,
      "outputs": []
    },
    {
      "cell_type": "code",
      "metadata": {
        "id": "7jJvL_fdIH5U"
      },
      "source": [
        "# get data file names\r\n",
        "\r\n",
        "path = '/content'\r\n",
        "all_files = glob.glob(path + \"/*.csv\")\r\n",
        "li=[]\r\n",
        "\r\n",
        "for filename in all_files:\r\n",
        "    df = pd.read_csv(filename, index_col=None, header=0)\r\n",
        "    li.append(df)\r\n",
        "df = pd.concat(li, axis=0, ignore_index=True)\r\n",
        "df = df.drop(['Unnamed: 0'], axis=1)"
      ],
      "execution_count": null,
      "outputs": []
    },
    {
      "cell_type": "code",
      "metadata": {
        "colab": {
          "base_uri": "https://localhost:8080/",
          "height": 191
        },
        "id": "h2kLjkDSBSf6",
        "outputId": "962c6877-c59a-40fd-a082-9c492ff8ad12"
      },
      "source": [
        "dfnew.head()"
      ],
      "execution_count": null,
      "outputs": [
        {
          "output_type": "execute_result",
          "data": {
            "text/html": [
              "<div>\n",
              "<style scoped>\n",
              "    .dataframe tbody tr th:only-of-type {\n",
              "        vertical-align: middle;\n",
              "    }\n",
              "\n",
              "    .dataframe tbody tr th {\n",
              "        vertical-align: top;\n",
              "    }\n",
              "\n",
              "    .dataframe thead th {\n",
              "        text-align: right;\n",
              "    }\n",
              "</style>\n",
              "<table border=\"1\" class=\"dataframe\">\n",
              "  <thead>\n",
              "    <tr style=\"text-align: right;\">\n",
              "      <th></th>\n",
              "      <th>company</th>\n",
              "      <th>industry</th>\n",
              "      <th>OnePageBool</th>\n",
              "      <th>url</th>\n",
              "    </tr>\n",
              "  </thead>\n",
              "  <tbody>\n",
              "    <tr>\n",
              "      <th>0</th>\n",
              "      <td>7-Eleven, Inc.</td>\n",
              "      <td>Convenience Stores</td>\n",
              "      <td>Yes</td>\n",
              "      <td>https://www.thelayoff.com/-eleven</td>\n",
              "    </tr>\n",
              "    <tr>\n",
              "      <th>1</th>\n",
              "      <td>01 Communique Laboratory</td>\n",
              "      <td>Software</td>\n",
              "      <td>Yes</td>\n",
              "      <td>https://www.thelayoff.com/01-communique-labora...</td>\n",
              "    </tr>\n",
              "    <tr>\n",
              "      <th>2</th>\n",
              "      <td>1-800-Radiator</td>\n",
              "      <td>Retail, Retail Sales, Retailing</td>\n",
              "      <td>Yes</td>\n",
              "      <td>https://www.thelayoff.com/1-800-radiator</td>\n",
              "    </tr>\n",
              "    <tr>\n",
              "      <th>3</th>\n",
              "      <td>1 Source Consulting</td>\n",
              "      <td>Government and Local Government services</td>\n",
              "      <td>Yes</td>\n",
              "      <td>https://www.thelayoff.com/1-source-consulting</td>\n",
              "    </tr>\n",
              "    <tr>\n",
              "      <th>4</th>\n",
              "      <td>1000Bulbs.com</td>\n",
              "      <td>Consumer Products and Services</td>\n",
              "      <td>Yes</td>\n",
              "      <td>https://www.thelayoff.com/1000bulbs</td>\n",
              "    </tr>\n",
              "  </tbody>\n",
              "</table>\n",
              "</div>"
            ],
            "text/plain": [
              "                    company  ...                                                url\n",
              "0            7-Eleven, Inc.  ...                  https://www.thelayoff.com/-eleven\n",
              "1  01 Communique Laboratory  ...  https://www.thelayoff.com/01-communique-labora...\n",
              "2            1-800-Radiator  ...           https://www.thelayoff.com/1-800-radiator\n",
              "3       1 Source Consulting  ...      https://www.thelayoff.com/1-source-consulting\n",
              "4             1000Bulbs.com  ...                https://www.thelayoff.com/1000bulbs\n",
              "\n",
              "[5 rows x 4 columns]"
            ]
          },
          "metadata": {
            "tags": []
          },
          "execution_count": 76
        }
      ]
    },
    {
      "cell_type": "code",
      "metadata": {
        "id": "w-plmr-oBCgH"
      },
      "source": [
        "dfnew.loc[len(dfnew.index)] = ['Zywave', 'Management and Business Services', 'Yes']  "
      ],
      "execution_count": null,
      "outputs": []
    },
    {
      "cell_type": "code",
      "metadata": {
        "colab": {
          "base_uri": "https://localhost:8080/"
        },
        "id": "iZ4DhoXL_gob",
        "outputId": "ab7f8cf5-9e44-495d-a6fc-1ee406ff6ea5"
      },
      "source": [
        "df3 = pd.DataFrame(sitelist, columns=['url'])\r\n",
        "df3.shape"
      ],
      "execution_count": null,
      "outputs": [
        {
          "output_type": "execute_result",
          "data": {
            "text/plain": [
              "(37469, 1)"
            ]
          },
          "metadata": {
            "tags": []
          },
          "execution_count": 53
        }
      ]
    },
    {
      "cell_type": "code",
      "metadata": {
        "colab": {
          "base_uri": "https://localhost:8080/"
        },
        "id": "V7VyB1fP_qJj",
        "outputId": "ad8334be-2e79-45bf-bb88-be75fc29616d"
      },
      "source": [
        "x = 30000\r\n",
        "y = 37469\r\n",
        "print(dfnew[x:y])\r\n",
        "print(df3[x:y])"
      ],
      "execution_count": null,
      "outputs": [
        {
          "output_type": "stream",
          "text": [
            "                              company  ...                                                url\n",
            "30000                  Signature Bank  ...           https://www.thelayoff.com/signature-bank\n",
            "30001           Signature Consultants  ...    https://www.thelayoff.com/signature-consultants\n",
            "30002                 Signature Foods  ...          https://www.thelayoff.com/signature-foods\n",
            "30003  Signature Genomic Laboratories  ...  https://www.thelayoff.com/signature-genomic-la...\n",
            "30004   Signature Group Holdings Inc.  ...  https://www.thelayoff.com/signature-group-hold...\n",
            "...                               ...  ...                                                ...\n",
            "37464                       Zymeworks  ...                https://www.thelayoff.com/zymeworks\n",
            "37465               ZymoGenetics Inc.  ...             https://www.thelayoff.com/zymogenetics\n",
            "37466         Zynerba Pharmaceuticals  ...  https://www.thelayoff.com/zynerba-pharmaceuticals\n",
            "37467                           Zynga  ...                    https://www.thelayoff.com/zynga\n",
            "37468                          Zywave  ...                   https://www.thelayoff.com/zywave\n",
            "\n",
            "[7469 rows x 4 columns]\n",
            "                                                     url\n",
            "30000           https://www.thelayoff.com/signature-bank\n",
            "30001    https://www.thelayoff.com/signature-consultants\n",
            "30002          https://www.thelayoff.com/signature-foods\n",
            "30003  https://www.thelayoff.com/signature-genomic-la...\n",
            "30004  https://www.thelayoff.com/signature-group-hold...\n",
            "...                                                  ...\n",
            "37464                https://www.thelayoff.com/zymeworks\n",
            "37465             https://www.thelayoff.com/zymogenetics\n",
            "37466  https://www.thelayoff.com/zynerba-pharmaceuticals\n",
            "37467                    https://www.thelayoff.com/zynga\n",
            "37468                   https://www.thelayoff.com/zywave\n",
            "\n",
            "[7469 rows x 1 columns]\n"
          ],
          "name": "stdout"
        }
      ]
    },
    {
      "cell_type": "code",
      "metadata": {
        "id": "_ot8mrO_8DJK"
      },
      "source": [
        "dfnew['url'] = df3"
      ],
      "execution_count": null,
      "outputs": []
    },
    {
      "cell_type": "code",
      "metadata": {
        "id": "gMxTez4gJjl4"
      },
      "source": [
        "dfnew.to_csv('allcompanies.csv')"
      ],
      "execution_count": null,
      "outputs": []
    },
    {
      "cell_type": "markdown",
      "metadata": {
        "id": "CmdkfMQfDNc5"
      },
      "source": [
        "#Exploration of data from the site"
      ]
    },
    {
      "cell_type": "code",
      "metadata": {
        "colab": {
          "base_uri": "https://localhost:8080/",
          "height": 191
        },
        "id": "9tOKeYAWDRII",
        "outputId": "8bc164aa-be32-4d4e-edce-913bed60025e"
      },
      "source": [
        "df = pd.read_csv('drive/MyDrive/allcompanies.csv')\r\n",
        "df = df.drop(['Unnamed: 0'], axis=1)\r\n",
        "df.head()"
      ],
      "execution_count": null,
      "outputs": [
        {
          "output_type": "execute_result",
          "data": {
            "text/html": [
              "<div>\n",
              "<style scoped>\n",
              "    .dataframe tbody tr th:only-of-type {\n",
              "        vertical-align: middle;\n",
              "    }\n",
              "\n",
              "    .dataframe tbody tr th {\n",
              "        vertical-align: top;\n",
              "    }\n",
              "\n",
              "    .dataframe thead th {\n",
              "        text-align: right;\n",
              "    }\n",
              "</style>\n",
              "<table border=\"1\" class=\"dataframe\">\n",
              "  <thead>\n",
              "    <tr style=\"text-align: right;\">\n",
              "      <th></th>\n",
              "      <th>company</th>\n",
              "      <th>industry</th>\n",
              "      <th>OnePageBool</th>\n",
              "      <th>url</th>\n",
              "    </tr>\n",
              "  </thead>\n",
              "  <tbody>\n",
              "    <tr>\n",
              "      <th>0</th>\n",
              "      <td>7-Eleven, Inc.</td>\n",
              "      <td>Convenience Stores</td>\n",
              "      <td>Yes</td>\n",
              "      <td>https://www.thelayoff.com/-eleven</td>\n",
              "    </tr>\n",
              "    <tr>\n",
              "      <th>1</th>\n",
              "      <td>01 Communique Laboratory</td>\n",
              "      <td>Software</td>\n",
              "      <td>Yes</td>\n",
              "      <td>https://www.thelayoff.com/01-communique-labora...</td>\n",
              "    </tr>\n",
              "    <tr>\n",
              "      <th>2</th>\n",
              "      <td>1-800-Radiator</td>\n",
              "      <td>Retail, Retail Sales, Retailing</td>\n",
              "      <td>Yes</td>\n",
              "      <td>https://www.thelayoff.com/1-800-radiator</td>\n",
              "    </tr>\n",
              "    <tr>\n",
              "      <th>3</th>\n",
              "      <td>1 Source Consulting</td>\n",
              "      <td>Government and Local Government services</td>\n",
              "      <td>Yes</td>\n",
              "      <td>https://www.thelayoff.com/1-source-consulting</td>\n",
              "    </tr>\n",
              "    <tr>\n",
              "      <th>4</th>\n",
              "      <td>1000Bulbs.com</td>\n",
              "      <td>Consumer Products and Services</td>\n",
              "      <td>Yes</td>\n",
              "      <td>https://www.thelayoff.com/1000bulbs</td>\n",
              "    </tr>\n",
              "  </tbody>\n",
              "</table>\n",
              "</div>"
            ],
            "text/plain": [
              "                    company  ...                                                url\n",
              "0            7-Eleven, Inc.  ...                  https://www.thelayoff.com/-eleven\n",
              "1  01 Communique Laboratory  ...  https://www.thelayoff.com/01-communique-labora...\n",
              "2            1-800-Radiator  ...           https://www.thelayoff.com/1-800-radiator\n",
              "3       1 Source Consulting  ...      https://www.thelayoff.com/1-source-consulting\n",
              "4             1000Bulbs.com  ...                https://www.thelayoff.com/1000bulbs\n",
              "\n",
              "[5 rows x 4 columns]"
            ]
          },
          "metadata": {
            "tags": []
          },
          "execution_count": 2
        }
      ]
    },
    {
      "cell_type": "code",
      "metadata": {
        "colab": {
          "base_uri": "https://localhost:8080/"
        },
        "id": "a3YbTnOYFkHF",
        "outputId": "0393bc6a-1cd6-4572-8b03-c27e6bc1bf7f"
      },
      "source": [
        "df.shape[0]"
      ],
      "execution_count": null,
      "outputs": [
        {
          "output_type": "execute_result",
          "data": {
            "text/plain": [
              "37469"
            ]
          },
          "metadata": {
            "tags": []
          },
          "execution_count": 107
        }
      ]
    },
    {
      "cell_type": "code",
      "metadata": {
        "colab": {
          "base_uri": "https://localhost:8080/"
        },
        "id": "4KrdCLoiEHLs",
        "outputId": "076c37f2-c9cb-4842-ab1b-7e5dd3ed77ce"
      },
      "source": [
        "industries = df['industry'].value_counts()\r\n",
        "numindustries = 20\r\n",
        "industries[:numindustries]\r\n",
        "print('Percent of total data:', \"{:.1%}\".format(int(industries[:numindustries].sum())/df.shape[0]))\r\n",
        "print('Top', numindustries, 'Industries Represented')\r\n",
        "print(industries[:numindustries])"
      ],
      "execution_count": null,
      "outputs": [
        {
          "output_type": "stream",
          "text": [
            "Percent of total data: 73.4%\n",
            "Top 20 Industries Represented\n",
            "Local and State Government, education and hospitals ||| School Districts    12547\n",
            "Health-Care Providers // Acute Care Hospitals                                3365\n",
            "County government employeer.                                                 3075\n",
            "Higher education, colleges and universities.                                 1670\n",
            "Health-Care Providers // Critical Access Hospitals                           1336\n",
            "Local and State Government, excluding education and hospitals                 984\n",
            "Information Technology Services                                               544\n",
            "Banks                                                                         507\n",
            "Management and Business Services                                              496\n",
            "Contracting, Building and Construction                                        396\n",
            "Good production, manufacturing                                                331\n",
            "Advertising, Marketing, Ads, Promotion and Online Advertising                 330\n",
            "Software                                                                      269\n",
            "Software, Programming, Code development and services                          255\n",
            "Advertising & Publishing                                                      238\n",
            "Business & Industrial Services                                                235\n",
            "Electronic & Electrical Equipment                                             234\n",
            "Oil & Gas Producers                                                           228\n",
            "Medical Equipment & Supplies                                                  227\n",
            "Biotechnology                                                                 220\n",
            "Name: industry, dtype: int64\n"
          ],
          "name": "stdout"
        }
      ]
    },
    {
      "cell_type": "markdown",
      "metadata": {
        "id": "9xR9kfI_O9Wx"
      },
      "source": [
        "# Create dataframe for companies with more than one page"
      ]
    },
    {
      "cell_type": "code",
      "metadata": {
        "id": "1Z7euCwPj3d4"
      },
      "source": [
        "dfno = df[df['OnePageBool'] == \"No\"].reset_index(drop=True)"
      ],
      "execution_count": null,
      "outputs": []
    },
    {
      "cell_type": "code",
      "metadata": {
        "colab": {
          "base_uri": "https://localhost:8080/"
        },
        "id": "Bzw5Rarqj_Ex",
        "outputId": "7bbdceaa-2994-4985-db6e-4c435db3e69d"
      },
      "source": [
        "#395 companies with more than 1 page\r\n",
        "dfno.shape"
      ],
      "execution_count": null,
      "outputs": [
        {
          "output_type": "execute_result",
          "data": {
            "text/plain": [
              "(395, 4)"
            ]
          },
          "metadata": {
            "tags": []
          },
          "execution_count": 164
        }
      ]
    },
    {
      "cell_type": "code",
      "metadata": {
        "colab": {
          "base_uri": "https://localhost:8080/",
          "height": 191
        },
        "id": "a4Umj4W3qxPl",
        "outputId": "1b0d2267-cb08-4774-bceb-9c90105b142f"
      },
      "source": [
        "dfno.head()"
      ],
      "execution_count": null,
      "outputs": [
        {
          "output_type": "execute_result",
          "data": {
            "text/html": [
              "<div>\n",
              "<style scoped>\n",
              "    .dataframe tbody tr th:only-of-type {\n",
              "        vertical-align: middle;\n",
              "    }\n",
              "\n",
              "    .dataframe tbody tr th {\n",
              "        vertical-align: top;\n",
              "    }\n",
              "\n",
              "    .dataframe thead th {\n",
              "        text-align: right;\n",
              "    }\n",
              "</style>\n",
              "<table border=\"1\" class=\"dataframe\">\n",
              "  <thead>\n",
              "    <tr style=\"text-align: right;\">\n",
              "      <th></th>\n",
              "      <th>company</th>\n",
              "      <th>industry</th>\n",
              "      <th>OnePageBool</th>\n",
              "      <th>url</th>\n",
              "    </tr>\n",
              "  </thead>\n",
              "  <tbody>\n",
              "    <tr>\n",
              "      <th>0</th>\n",
              "      <td>2U Inc.</td>\n",
              "      <td>Technology // Software and Intellectual Property</td>\n",
              "      <td>No</td>\n",
              "      <td>https://www.thelayoff.com/2u</td>\n",
              "    </tr>\n",
              "    <tr>\n",
              "      <th>1</th>\n",
              "      <td>3M</td>\n",
              "      <td>General Industrials</td>\n",
              "      <td>No</td>\n",
              "      <td>https://www.thelayoff.com/a-3m</td>\n",
              "    </tr>\n",
              "    <tr>\n",
              "      <th>2</th>\n",
              "      <td>Academy Sports &amp; Outdoors</td>\n",
              "      <td>Specialty Retailers &amp; Services</td>\n",
              "      <td>No</td>\n",
              "      <td>https://www.thelayoff.com/academy-sports-and-o...</td>\n",
              "    </tr>\n",
              "    <tr>\n",
              "      <th>3</th>\n",
              "      <td>Accenture</td>\n",
              "      <td>Business &amp; Industrial Services</td>\n",
              "      <td>No</td>\n",
              "      <td>https://www.thelayoff.com/accenture</td>\n",
              "    </tr>\n",
              "    <tr>\n",
              "      <th>4</th>\n",
              "      <td>ADT Corp.</td>\n",
              "      <td>Industrials // Services, Business Support</td>\n",
              "      <td>No</td>\n",
              "      <td>https://www.thelayoff.com/adt</td>\n",
              "    </tr>\n",
              "  </tbody>\n",
              "</table>\n",
              "</div>"
            ],
            "text/plain": [
              "                     company  ...                                                url\n",
              "0                    2U Inc.  ...                       https://www.thelayoff.com/2u\n",
              "1                         3M  ...                     https://www.thelayoff.com/a-3m\n",
              "2  Academy Sports & Outdoors  ...  https://www.thelayoff.com/academy-sports-and-o...\n",
              "3                  Accenture  ...                https://www.thelayoff.com/accenture\n",
              "4                  ADT Corp.  ...                      https://www.thelayoff.com/adt\n",
              "\n",
              "[5 rows x 4 columns]"
            ]
          },
          "metadata": {
            "tags": []
          },
          "execution_count": 167
        }
      ]
    },
    {
      "cell_type": "code",
      "metadata": {
        "colab": {
          "base_uri": "https://localhost:8080/",
          "height": 1000
        },
        "id": "-2WRY4tdq0cb",
        "outputId": "f9a3154d-921e-42b6-ce7b-b0e67739baac"
      },
      "source": [
        "dfno[dfno['industry'].str.contains('Oil')]"
      ],
      "execution_count": null,
      "outputs": [
        {
          "output_type": "execute_result",
          "data": {
            "text/html": [
              "<div>\n",
              "<style scoped>\n",
              "    .dataframe tbody tr th:only-of-type {\n",
              "        vertical-align: middle;\n",
              "    }\n",
              "\n",
              "    .dataframe tbody tr th {\n",
              "        vertical-align: top;\n",
              "    }\n",
              "\n",
              "    .dataframe thead th {\n",
              "        text-align: right;\n",
              "    }\n",
              "</style>\n",
              "<table border=\"1\" class=\"dataframe\">\n",
              "  <thead>\n",
              "    <tr style=\"text-align: right;\">\n",
              "      <th></th>\n",
              "      <th>company</th>\n",
              "      <th>industry</th>\n",
              "      <th>OnePageBool</th>\n",
              "      <th>url</th>\n",
              "    </tr>\n",
              "  </thead>\n",
              "  <tbody>\n",
              "    <tr>\n",
              "      <th>16</th>\n",
              "      <td>Anadarko Petroleum Corp.</td>\n",
              "      <td>Oil &amp; Gas Producers</td>\n",
              "      <td>No</td>\n",
              "      <td>https://www.thelayoff.com/anadarko-petroleum</td>\n",
              "    </tr>\n",
              "    <tr>\n",
              "      <th>18</th>\n",
              "      <td>Apache Corp.</td>\n",
              "      <td>Oil &amp; Gas Producers</td>\n",
              "      <td>No</td>\n",
              "      <td>https://www.thelayoff.com/apache</td>\n",
              "    </tr>\n",
              "    <tr>\n",
              "      <th>30</th>\n",
              "      <td>Baker Hughes</td>\n",
              "      <td>Oil Equipment, Services &amp; Distribution</td>\n",
              "      <td>No</td>\n",
              "      <td>https://www.thelayoff.com/baker-hughes</td>\n",
              "    </tr>\n",
              "    <tr>\n",
              "      <th>47</th>\n",
              "      <td>BP PLC</td>\n",
              "      <td>Oil &amp; Gas Producers</td>\n",
              "      <td>No</td>\n",
              "      <td>https://www.thelayoff.com/bp-plc</td>\n",
              "    </tr>\n",
              "    <tr>\n",
              "      <th>55</th>\n",
              "      <td>Cameron International Corp.</td>\n",
              "      <td>Oil Equipment, Services &amp; Distribution</td>\n",
              "      <td>No</td>\n",
              "      <td>https://www.thelayoff.com/cameron-international</td>\n",
              "    </tr>\n",
              "    <tr>\n",
              "      <th>65</th>\n",
              "      <td>Cenovus Energy</td>\n",
              "      <td>Oil and Natural Gas</td>\n",
              "      <td>No</td>\n",
              "      <td>https://www.thelayoff.com/cenovus-energy</td>\n",
              "    </tr>\n",
              "    <tr>\n",
              "      <th>68</th>\n",
              "      <td>CGG Veritas</td>\n",
              "      <td>Oil Equipment, Services &amp; Distribution</td>\n",
              "      <td>No</td>\n",
              "      <td>https://www.thelayoff.com/cgg-veritas</td>\n",
              "    </tr>\n",
              "    <tr>\n",
              "      <th>70</th>\n",
              "      <td>Chaparral Energy</td>\n",
              "      <td>Oil &amp; Gas Producers</td>\n",
              "      <td>No</td>\n",
              "      <td>https://www.thelayoff.com/chaparral</td>\n",
              "    </tr>\n",
              "    <tr>\n",
              "      <th>74</th>\n",
              "      <td>Chesapeake Energy Corp.</td>\n",
              "      <td>Oil &amp; Gas Producers</td>\n",
              "      <td>No</td>\n",
              "      <td>https://www.thelayoff.com/chesapeake-energy</td>\n",
              "    </tr>\n",
              "    <tr>\n",
              "      <th>75</th>\n",
              "      <td>Chevron Corp.</td>\n",
              "      <td>Oil &amp; Gas Producers</td>\n",
              "      <td>No</td>\n",
              "      <td>https://www.thelayoff.com/chevron</td>\n",
              "    </tr>\n",
              "    <tr>\n",
              "      <th>89</th>\n",
              "      <td>Concho Resources Inc.</td>\n",
              "      <td>Oil &amp; Gas Producers</td>\n",
              "      <td>No</td>\n",
              "      <td>https://www.thelayoff.com/concho-resources</td>\n",
              "    </tr>\n",
              "    <tr>\n",
              "      <th>91</th>\n",
              "      <td>ConocoPhillips</td>\n",
              "      <td>Oil &amp; Gas Producers</td>\n",
              "      <td>No</td>\n",
              "      <td>https://www.thelayoff.com/conocophillips</td>\n",
              "    </tr>\n",
              "    <tr>\n",
              "      <th>94</th>\n",
              "      <td>California Resources Corporation</td>\n",
              "      <td>Oil &amp; Gas Producers</td>\n",
              "      <td>No</td>\n",
              "      <td>https://www.thelayoff.com/crc</td>\n",
              "    </tr>\n",
              "    <tr>\n",
              "      <th>103</th>\n",
              "      <td>Denbury Resources Inc.</td>\n",
              "      <td>Oil &amp; Gas Producers</td>\n",
              "      <td>No</td>\n",
              "      <td>https://www.thelayoff.com/denbury-resources</td>\n",
              "    </tr>\n",
              "    <tr>\n",
              "      <th>105</th>\n",
              "      <td>Devon Energy Corp.</td>\n",
              "      <td>Oil &amp; Gas Producers</td>\n",
              "      <td>No</td>\n",
              "      <td>https://www.thelayoff.com/devon-energy</td>\n",
              "    </tr>\n",
              "    <tr>\n",
              "      <th>111</th>\n",
              "      <td>Dril-Quip Inc.</td>\n",
              "      <td>Oil Equipment, Services &amp; Distribution</td>\n",
              "      <td>No</td>\n",
              "      <td>https://www.thelayoff.com/dril-quip</td>\n",
              "    </tr>\n",
              "    <tr>\n",
              "      <th>125</th>\n",
              "      <td>Ovintiv</td>\n",
              "      <td>Oil &amp; Gas Producers</td>\n",
              "      <td>No</td>\n",
              "      <td>https://www.thelayoff.com/encana</td>\n",
              "    </tr>\n",
              "    <tr>\n",
              "      <th>132</th>\n",
              "      <td>Exterran Partners L.P.</td>\n",
              "      <td>Oil Equipment, Services &amp; Distribution</td>\n",
              "      <td>No</td>\n",
              "      <td>https://www.thelayoff.com/exterran-partners</td>\n",
              "    </tr>\n",
              "    <tr>\n",
              "      <th>134</th>\n",
              "      <td>ExxonMobil Corp.</td>\n",
              "      <td>Oil &amp; Gas Producers</td>\n",
              "      <td>No</td>\n",
              "      <td>https://www.thelayoff.com/exxon-mobil</td>\n",
              "    </tr>\n",
              "    <tr>\n",
              "      <th>140</th>\n",
              "      <td>TechnipFMC plc</td>\n",
              "      <td>Oil Equipment, Services &amp; Distribution</td>\n",
              "      <td>No</td>\n",
              "      <td>https://www.thelayoff.com/fmc-technologies</td>\n",
              "    </tr>\n",
              "    <tr>\n",
              "      <th>153</th>\n",
              "      <td>GE Oil &amp; Gas</td>\n",
              "      <td>Oil Equipment, Services &amp; Distribution</td>\n",
              "      <td>No</td>\n",
              "      <td>https://www.thelayoff.com/ge-oil-and-gas</td>\n",
              "    </tr>\n",
              "    <tr>\n",
              "      <th>166</th>\n",
              "      <td>Halliburton Co.</td>\n",
              "      <td>Oil Equipment, Services &amp; Distribution</td>\n",
              "      <td>No</td>\n",
              "      <td>https://www.thelayoff.com/halliburton</td>\n",
              "    </tr>\n",
              "    <tr>\n",
              "      <th>170</th>\n",
              "      <td>Helmerich &amp; Payne Inc.</td>\n",
              "      <td>Oil Equipment, Services &amp; Distribution</td>\n",
              "      <td>No</td>\n",
              "      <td>https://www.thelayoff.com/helmerich-and-payne</td>\n",
              "    </tr>\n",
              "    <tr>\n",
              "      <th>172</th>\n",
              "      <td>Hess Corp.</td>\n",
              "      <td>Oil &amp; Gas Producers</td>\n",
              "      <td>No</td>\n",
              "      <td>https://www.thelayoff.com/hess</td>\n",
              "    </tr>\n",
              "    <tr>\n",
              "      <th>190</th>\n",
              "      <td>ION Geophysical Corp.</td>\n",
              "      <td>Oil Equipment, Services &amp; Distribution</td>\n",
              "      <td>No</td>\n",
              "      <td>https://www.thelayoff.com/ion-geophysical</td>\n",
              "    </tr>\n",
              "    <tr>\n",
              "      <th>219</th>\n",
              "      <td>Marathon Oil Corp.</td>\n",
              "      <td>Oil &amp; Gas Producers</td>\n",
              "      <td>No</td>\n",
              "      <td>https://www.thelayoff.com/marathon-oil</td>\n",
              "    </tr>\n",
              "    <tr>\n",
              "      <th>239</th>\n",
              "      <td>National Oilwell Varco Inc.</td>\n",
              "      <td>Oil Equipment, Services &amp; Distribution</td>\n",
              "      <td>No</td>\n",
              "      <td>https://www.thelayoff.com/national-oilwell-varco</td>\n",
              "    </tr>\n",
              "    <tr>\n",
              "      <th>245</th>\n",
              "      <td>NEOS GeoSolutions</td>\n",
              "      <td>Oil &amp; Gas Services</td>\n",
              "      <td>No</td>\n",
              "      <td>https://www.thelayoff.com/neos-geosolutions</td>\n",
              "    </tr>\n",
              "    <tr>\n",
              "      <th>248</th>\n",
              "      <td>Newpark Resources Inc.</td>\n",
              "      <td>Oil Equipment, Services &amp; Distribution</td>\n",
              "      <td>No</td>\n",
              "      <td>https://www.thelayoff.com/newpark-resources</td>\n",
              "    </tr>\n",
              "    <tr>\n",
              "      <th>251</th>\n",
              "      <td>Noble Energy Inc.</td>\n",
              "      <td>Oil &amp; Gas Producers</td>\n",
              "      <td>No</td>\n",
              "      <td>https://www.thelayoff.com/noble-energy</td>\n",
              "    </tr>\n",
              "    <tr>\n",
              "      <th>262</th>\n",
              "      <td>Occidental Petroleum Corp.</td>\n",
              "      <td>Oil &amp; Gas Producers</td>\n",
              "      <td>No</td>\n",
              "      <td>https://www.thelayoff.com/occidental-petroleum</td>\n",
              "    </tr>\n",
              "    <tr>\n",
              "      <th>263</th>\n",
              "      <td>Oceaneering International Inc.</td>\n",
              "      <td>Oil Equipment, Services &amp; Distribution</td>\n",
              "      <td>No</td>\n",
              "      <td>https://www.thelayoff.com/oceaneering-internat...</td>\n",
              "    </tr>\n",
              "    <tr>\n",
              "      <th>275</th>\n",
              "      <td>Phillips 66</td>\n",
              "      <td>Oil and Gas / Energy Storage and Distribution</td>\n",
              "      <td>No</td>\n",
              "      <td>https://www.thelayoff.com/phillips-66</td>\n",
              "    </tr>\n",
              "    <tr>\n",
              "      <th>277</th>\n",
              "      <td>Pioneer Natural Resources Co.</td>\n",
              "      <td>Oil &amp; Gas Producers</td>\n",
              "      <td>No</td>\n",
              "      <td>https://www.thelayoff.com/pioneer-natural-reso...</td>\n",
              "    </tr>\n",
              "    <tr>\n",
              "      <th>301</th>\n",
              "      <td>SandRidge Energy Inc.</td>\n",
              "      <td>Oil &amp; Gas Producers</td>\n",
              "      <td>No</td>\n",
              "      <td>https://www.thelayoff.com/sandridge-energy</td>\n",
              "    </tr>\n",
              "    <tr>\n",
              "      <th>303</th>\n",
              "      <td>Saudi Aramco</td>\n",
              "      <td>Oil &amp; Gas Producers</td>\n",
              "      <td>No</td>\n",
              "      <td>https://www.thelayoff.com/saudi-aramco</td>\n",
              "    </tr>\n",
              "    <tr>\n",
              "      <th>304</th>\n",
              "      <td>Schlumberger Ltd.</td>\n",
              "      <td>Oil Equipment, Services &amp; Distribution</td>\n",
              "      <td>No</td>\n",
              "      <td>https://www.thelayoff.com/schlumberger</td>\n",
              "    </tr>\n",
              "    <tr>\n",
              "      <th>310</th>\n",
              "      <td>Shell Oil</td>\n",
              "      <td>Oil &amp; Gas Producers</td>\n",
              "      <td>No</td>\n",
              "      <td>https://www.thelayoff.com/shell-oil</td>\n",
              "    </tr>\n",
              "    <tr>\n",
              "      <th>316</th>\n",
              "      <td>Southwestern Energy Co.</td>\n",
              "      <td>Oil &amp; Gas Producers</td>\n",
              "      <td>No</td>\n",
              "      <td>https://www.thelayoff.com/southwestern-energy</td>\n",
              "    </tr>\n",
              "    <tr>\n",
              "      <th>349</th>\n",
              "      <td>TransCanada Corp.</td>\n",
              "      <td>Oil Equipment, Services &amp; Distribution</td>\n",
              "      <td>No</td>\n",
              "      <td>https://www.thelayoff.com/transcanada</td>\n",
              "    </tr>\n",
              "    <tr>\n",
              "      <th>376</th>\n",
              "      <td>Weatherford International Ltd.</td>\n",
              "      <td>Oil Equipment, Services &amp; Distribution</td>\n",
              "      <td>No</td>\n",
              "      <td>https://www.thelayoff.com/weatherford-internat...</td>\n",
              "    </tr>\n",
              "    <tr>\n",
              "      <th>383</th>\n",
              "      <td>Whiting Petroleum Corp.</td>\n",
              "      <td>Oil &amp; Gas Producers</td>\n",
              "      <td>No</td>\n",
              "      <td>https://www.thelayoff.com/whiting-petroleum</td>\n",
              "    </tr>\n",
              "  </tbody>\n",
              "</table>\n",
              "</div>"
            ],
            "text/plain": [
              "                              company  ...                                                url\n",
              "16           Anadarko Petroleum Corp.  ...       https://www.thelayoff.com/anadarko-petroleum\n",
              "18                       Apache Corp.  ...                   https://www.thelayoff.com/apache\n",
              "30                       Baker Hughes  ...             https://www.thelayoff.com/baker-hughes\n",
              "47                             BP PLC  ...                   https://www.thelayoff.com/bp-plc\n",
              "55        Cameron International Corp.  ...    https://www.thelayoff.com/cameron-international\n",
              "65                     Cenovus Energy  ...           https://www.thelayoff.com/cenovus-energy\n",
              "68                        CGG Veritas  ...              https://www.thelayoff.com/cgg-veritas\n",
              "70                   Chaparral Energy  ...                https://www.thelayoff.com/chaparral\n",
              "74            Chesapeake Energy Corp.  ...        https://www.thelayoff.com/chesapeake-energy\n",
              "75                      Chevron Corp.  ...                  https://www.thelayoff.com/chevron\n",
              "89              Concho Resources Inc.  ...         https://www.thelayoff.com/concho-resources\n",
              "91                     ConocoPhillips  ...           https://www.thelayoff.com/conocophillips\n",
              "94   California Resources Corporation  ...                      https://www.thelayoff.com/crc\n",
              "103            Denbury Resources Inc.  ...        https://www.thelayoff.com/denbury-resources\n",
              "105                Devon Energy Corp.  ...             https://www.thelayoff.com/devon-energy\n",
              "111                    Dril-Quip Inc.  ...                https://www.thelayoff.com/dril-quip\n",
              "125                           Ovintiv  ...                   https://www.thelayoff.com/encana\n",
              "132            Exterran Partners L.P.  ...        https://www.thelayoff.com/exterran-partners\n",
              "134                  ExxonMobil Corp.  ...              https://www.thelayoff.com/exxon-mobil\n",
              "140                    TechnipFMC plc  ...         https://www.thelayoff.com/fmc-technologies\n",
              "153                      GE Oil & Gas  ...           https://www.thelayoff.com/ge-oil-and-gas\n",
              "166                   Halliburton Co.  ...              https://www.thelayoff.com/halliburton\n",
              "170            Helmerich & Payne Inc.  ...      https://www.thelayoff.com/helmerich-and-payne\n",
              "172                        Hess Corp.  ...                     https://www.thelayoff.com/hess\n",
              "190             ION Geophysical Corp.  ...          https://www.thelayoff.com/ion-geophysical\n",
              "219                Marathon Oil Corp.  ...             https://www.thelayoff.com/marathon-oil\n",
              "239       National Oilwell Varco Inc.  ...   https://www.thelayoff.com/national-oilwell-varco\n",
              "245                 NEOS GeoSolutions  ...        https://www.thelayoff.com/neos-geosolutions\n",
              "248            Newpark Resources Inc.  ...        https://www.thelayoff.com/newpark-resources\n",
              "251                 Noble Energy Inc.  ...             https://www.thelayoff.com/noble-energy\n",
              "262        Occidental Petroleum Corp.  ...     https://www.thelayoff.com/occidental-petroleum\n",
              "263    Oceaneering International Inc.  ...  https://www.thelayoff.com/oceaneering-internat...\n",
              "275                       Phillips 66  ...              https://www.thelayoff.com/phillips-66\n",
              "277     Pioneer Natural Resources Co.  ...  https://www.thelayoff.com/pioneer-natural-reso...\n",
              "301             SandRidge Energy Inc.  ...         https://www.thelayoff.com/sandridge-energy\n",
              "303                      Saudi Aramco  ...             https://www.thelayoff.com/saudi-aramco\n",
              "304                 Schlumberger Ltd.  ...             https://www.thelayoff.com/schlumberger\n",
              "310                         Shell Oil  ...                https://www.thelayoff.com/shell-oil\n",
              "316           Southwestern Energy Co.  ...      https://www.thelayoff.com/southwestern-energy\n",
              "349                 TransCanada Corp.  ...              https://www.thelayoff.com/transcanada\n",
              "376    Weatherford International Ltd.  ...  https://www.thelayoff.com/weatherford-internat...\n",
              "383           Whiting Petroleum Corp.  ...        https://www.thelayoff.com/whiting-petroleum\n",
              "\n",
              "[42 rows x 4 columns]"
            ]
          },
          "metadata": {
            "tags": []
          },
          "execution_count": 168
        }
      ]
    },
    {
      "cell_type": "code",
      "metadata": {
        "colab": {
          "base_uri": "https://localhost:8080/",
          "height": 105
        },
        "id": "3bzR_VDnrnWM",
        "outputId": "f6701647-952c-43b9-a909-39aab04ecfd6"
      },
      "source": [
        "dfno[dfno['company'].str.contains('Trans')]"
      ],
      "execution_count": null,
      "outputs": [
        {
          "output_type": "execute_result",
          "data": {
            "text/html": [
              "<div>\n",
              "<style scoped>\n",
              "    .dataframe tbody tr th:only-of-type {\n",
              "        vertical-align: middle;\n",
              "    }\n",
              "\n",
              "    .dataframe tbody tr th {\n",
              "        vertical-align: top;\n",
              "    }\n",
              "\n",
              "    .dataframe thead th {\n",
              "        text-align: right;\n",
              "    }\n",
              "</style>\n",
              "<table border=\"1\" class=\"dataframe\">\n",
              "  <thead>\n",
              "    <tr style=\"text-align: right;\">\n",
              "      <th></th>\n",
              "      <th>company</th>\n",
              "      <th>industry</th>\n",
              "      <th>OnePageBool</th>\n",
              "      <th>url</th>\n",
              "    </tr>\n",
              "  </thead>\n",
              "  <tbody>\n",
              "    <tr>\n",
              "      <th>32222</th>\n",
              "      <td>Swift Transportation Co.</td>\n",
              "      <td>Industrials // Transportation, Trucking</td>\n",
              "      <td>No</td>\n",
              "      <td>https://www.thelayoff.com/swift-transportation-co</td>\n",
              "    </tr>\n",
              "    <tr>\n",
              "      <th>33465</th>\n",
              "      <td>TransCanada Corp.</td>\n",
              "      <td>Oil Equipment, Services &amp; Distribution</td>\n",
              "      <td>No</td>\n",
              "      <td>https://www.thelayoff.com/transcanada</td>\n",
              "    </tr>\n",
              "  </tbody>\n",
              "</table>\n",
              "</div>"
            ],
            "text/plain": [
              "                        company  ...                                                url\n",
              "32222  Swift Transportation Co.  ...  https://www.thelayoff.com/swift-transportation-co\n",
              "33465         TransCanada Corp.  ...              https://www.thelayoff.com/transcanada\n",
              "\n",
              "[2 rows x 4 columns]"
            ]
          },
          "metadata": {
            "tags": []
          },
          "execution_count": 143
        }
      ]
    },
    {
      "cell_type": "code",
      "metadata": {
        "id": "fUfohhXKsanJ"
      },
      "source": [
        "dfno.at[21657,'industry'] = 'Health-Care Providers'"
      ],
      "execution_count": null,
      "outputs": []
    },
    {
      "cell_type": "code",
      "metadata": {
        "colab": {
          "base_uri": "https://localhost:8080/"
        },
        "id": "nkwjaBHwkBZ_",
        "outputId": "dc9a0f9e-9cca-4c6c-a994-5be97853199e"
      },
      "source": [
        "industries = dfno['industry'].value_counts()\r\n",
        "numindustries = 20\r\n",
        "industries[:numindustries]\r\n",
        "print('Percent of total data:', \"{:.1%}\".format(int(industries[:numindustries].sum())/dfno.shape[0]))\r\n",
        "print('Top', numindustries, 'Industries Represented')\r\n",
        "print(industries[:numindustries])"
      ],
      "execution_count": null,
      "outputs": [
        {
          "output_type": "stream",
          "text": [
            "Percent of total data: 60.3%\n",
            "Top 20 Industries Represented\n",
            "Oil & Gas Producers                             23\n",
            "Specialty Retailers & Services                  21\n",
            "Oil Equipment, Services & Distribution          16\n",
            "Software                                        15\n",
            "Computers & Office Equipment                    15\n",
            "Retailers: Broad Line & Apparel                 14\n",
            "Business & Industrial Services                  14\n",
            "Banks                                           12\n",
            "Higher education, colleges and universities.    12\n",
            "Aerospace & Defense                             12\n",
            "Internet & Computer Services                    12\n",
            "Broadcasting & Entertainment                    10\n",
            "Telecommunications Equipment                    10\n",
            "Health-Care Providers                            9\n",
            "Retailers: Food & Drug                           9\n",
            "Advertising & Publishing                         7\n",
            "Heavy Machinery & Materials                      7\n",
            "Food & Tobacco                                   7\n",
            "Industrial Transportation                        7\n",
            "Hotels & Casinos                                 6\n",
            "Name: industry, dtype: int64\n"
          ],
          "name": "stdout"
        }
      ]
    },
    {
      "cell_type": "code",
      "metadata": {
        "colab": {
          "base_uri": "https://localhost:8080/",
          "height": 763
        },
        "id": "G8s2l7Tje76R",
        "outputId": "08c636a3-02a9-427d-fab5-40abd7055d28"
      },
      "source": [
        "numindarray = []\r\n",
        "percentindarray = []\r\n",
        "derivative = []\r\n",
        "\r\n",
        "for x in range(0,100):\r\n",
        "  numindarray.append(x)\r\n",
        "  percentindarray.append(int(industries[:x].sum())/dfno.shape[0])\r\n",
        "\r\n",
        "  if x == 0:\r\n",
        "    derivative.append(0)\r\n",
        "  else:\r\n",
        "    der = (percentindarray[x] - percentindarray[x-1]) / (numindarray[x] - numindarray[x-1])\r\n",
        "    derivative.append(der)\r\n",
        "    \r\n",
        "fig = make_subplots(rows=1, cols=2)\r\n",
        "\r\n",
        "fig.add_trace(\r\n",
        "    go.Line(x=numindarray, y=percentindarray),\r\n",
        "    row=1, col=1\r\n",
        ")\r\n",
        "\r\n",
        "fig.add_trace(\r\n",
        "    go.Line(x=numindarray, y=derivative),\r\n",
        "    row=1, col=2\r\n",
        ")\r\n",
        "\r\n",
        "fig.update_layout(height=600, width=1200, title_text=\"Side By Side Subplots\")\r\n",
        "fig.show()"
      ],
      "execution_count": null,
      "outputs": [
        {
          "output_type": "stream",
          "text": [
            "/usr/local/lib/python3.6/dist-packages/plotly/graph_objs/_deprecations.py:385: DeprecationWarning:\n",
            "\n",
            "plotly.graph_objs.Line is deprecated.\n",
            "Please replace it with one of the following more specific types\n",
            "  - plotly.graph_objs.scatter.Line\n",
            "  - plotly.graph_objs.layout.shape.Line\n",
            "  - etc.\n",
            "\n",
            "\n"
          ],
          "name": "stderr"
        },
        {
          "output_type": "display_data",
          "data": {
            "text/html": [
              "<html>\n",
              "<head><meta charset=\"utf-8\" /></head>\n",
              "<body>\n",
              "    <div>\n",
              "            <script src=\"https://cdnjs.cloudflare.com/ajax/libs/mathjax/2.7.5/MathJax.js?config=TeX-AMS-MML_SVG\"></script><script type=\"text/javascript\">if (window.MathJax) {MathJax.Hub.Config({SVG: {font: \"STIX-Web\"}});}</script>\n",
              "                <script type=\"text/javascript\">window.PlotlyConfig = {MathJaxConfig: 'local'};</script>\n",
              "        <script src=\"https://cdn.plot.ly/plotly-latest.min.js\"></script>    \n",
              "            <div id=\"85b3c575-1e1d-4911-96d7-8acd35571130\" class=\"plotly-graph-div\" style=\"height:600px; width:1200px;\"></div>\n",
              "            <script type=\"text/javascript\">\n",
              "                \n",
              "                    window.PLOTLYENV=window.PLOTLYENV || {};\n",
              "                    \n",
              "                if (document.getElementById(\"85b3c575-1e1d-4911-96d7-8acd35571130\")) {\n",
              "                    Plotly.newPlot(\n",
              "                        '85b3c575-1e1d-4911-96d7-8acd35571130',\n",
              "                        [{\"type\": \"scatter\", \"x\": [0, 1, 2, 3, 4, 5, 6, 7, 8, 9, 10, 11, 12, 13, 14, 15, 16, 17, 18, 19, 20, 21, 22, 23, 24, 25, 26, 27, 28, 29, 30, 31, 32, 33, 34, 35, 36, 37, 38, 39, 40, 41, 42, 43, 44, 45, 46, 47, 48, 49, 50, 51, 52, 53, 54, 55, 56, 57, 58, 59, 60, 61, 62, 63, 64, 65, 66, 67, 68, 69, 70, 71, 72, 73, 74, 75, 76, 77, 78, 79, 80, 81, 82, 83, 84, 85, 86, 87, 88, 89, 90, 91, 92, 93, 94, 95, 96, 97, 98, 99], \"xaxis\": \"x\", \"y\": [0.0, 0.05822784810126582, 0.11139240506329114, 0.1518987341772152, 0.189873417721519, 0.22784810126582278, 0.26329113924050634, 0.29873417721518986, 0.3291139240506329, 0.3594936708860759, 0.389873417721519, 0.42025316455696204, 0.44556962025316454, 0.4708860759493671, 0.4936708860759494, 0.5164556962025316, 0.5341772151898734, 0.5518987341772152, 0.569620253164557, 0.5873417721518988, 0.6025316455696202, 0.6177215189873417, 0.6329113924050633, 0.6481012658227848, 0.660759493670886, 0.6734177215189874, 0.6860759493670886, 0.6987341772151898, 0.7113924050632912, 0.7215189873417721, 0.7316455696202532, 0.739240506329114, 0.7468354430379747, 0.7544303797468355, 0.759493670886076, 0.7645569620253164, 0.769620253164557, 0.7746835443037975, 0.779746835443038, 0.7848101265822784, 0.789873417721519, 0.7949367088607595, 0.8, 0.8050632911392405, 0.810126582278481, 0.8151898734177215, 0.8202531645569621, 0.8253164556962025, 0.830379746835443, 0.8354430379746836, 0.8405063291139241, 0.8455696202531645, 0.850632911392405, 0.8556962025316456, 0.8607594936708861, 0.8658227848101265, 0.8708860759493671, 0.8734177215189873, 0.8759493670886076, 0.8784810126582279, 0.8810126582278481, 0.8835443037974684, 0.8860759493670886, 0.8886075949367088, 0.8911392405063291, 0.8936708860759494, 0.8962025316455696, 0.8987341772151899, 0.9012658227848102, 0.9037974683544304, 0.9063291139240506, 0.9088607594936708, 0.9113924050632911, 0.9139240506329114, 0.9164556962025316, 0.9189873417721519, 0.9215189873417722, 0.9240506329113924, 0.9265822784810127, 0.9291139240506329, 0.9316455696202531, 0.9341772151898734, 0.9367088607594937, 0.9392405063291139, 0.9417721518987342, 0.9443037974683545, 0.9468354430379747, 0.9493670886075949, 0.9518987341772152, 0.9544303797468354, 0.9569620253164557, 0.959493670886076, 0.9620253164556962, 0.9645569620253165, 0.9670886075949368, 0.9696202531645569, 0.9721518987341772, 0.9746835443037974, 0.9772151898734177, 0.979746835443038], \"yaxis\": \"y\"}, {\"type\": \"scatter\", \"x\": [0, 1, 2, 3, 4, 5, 6, 7, 8, 9, 10, 11, 12, 13, 14, 15, 16, 17, 18, 19, 20, 21, 22, 23, 24, 25, 26, 27, 28, 29, 30, 31, 32, 33, 34, 35, 36, 37, 38, 39, 40, 41, 42, 43, 44, 45, 46, 47, 48, 49, 50, 51, 52, 53, 54, 55, 56, 57, 58, 59, 60, 61, 62, 63, 64, 65, 66, 67, 68, 69, 70, 71, 72, 73, 74, 75, 76, 77, 78, 79, 80, 81, 82, 83, 84, 85, 86, 87, 88, 89, 90, 91, 92, 93, 94, 95, 96, 97, 98, 99], \"xaxis\": \"x2\", \"y\": [0, 0.05822784810126582, 0.053164556962025315, 0.04050632911392406, 0.037974683544303806, 0.03797468354430378, 0.03544303797468357, 0.03544303797468351, 0.030379746835443033, 0.030379746835443033, 0.03037974683544309, 0.030379746835443033, 0.0253164556962025, 0.025316455696202556, 0.02278481012658229, 0.022784810126582233, 0.017721518987341756, 0.017721518987341867, 0.017721518987341756, 0.017721518987341756, 0.015189873417721489, 0.015189873417721489, 0.0151898734177216, 0.015189873417721489, 0.012658227848101222, 0.012658227848101333, 0.012658227848101222, 0.012658227848101222, 0.012658227848101333, 0.010126582278480956, 0.010126582278481067, 0.0075949367088608, 0.007594936708860689, 0.0075949367088608, 0.005063291139240533, 0.005063291139240422, 0.005063291139240533, 0.005063291139240533, 0.005063291139240533, 0.005063291139240422, 0.005063291139240533, 0.005063291139240533, 0.005063291139240533, 0.005063291139240422, 0.005063291139240533, 0.005063291139240533, 0.005063291139240533, 0.005063291139240422, 0.005063291139240533, 0.005063291139240533, 0.005063291139240533, 0.005063291139240422, 0.005063291139240533, 0.005063291139240533, 0.005063291139240533, 0.005063291139240422, 0.005063291139240533, 0.0025316455696202667, 0.0025316455696202667, 0.0025316455696202667, 0.0025316455696202667, 0.0025316455696202667, 0.0025316455696201556, 0.0025316455696202667, 0.0025316455696202667, 0.0025316455696202667, 0.0025316455696202667, 0.0025316455696202667, 0.0025316455696202667, 0.0025316455696202667, 0.0025316455696201556, 0.0025316455696202667, 0.0025316455696202667, 0.0025316455696202667, 0.0025316455696202667, 0.0025316455696202667, 0.0025316455696202667, 0.0025316455696202667, 0.0025316455696202667, 0.0025316455696201556, 0.0025316455696202667, 0.0025316455696202667, 0.0025316455696202667, 0.0025316455696202667, 0.0025316455696202667, 0.0025316455696202667, 0.0025316455696202667, 0.0025316455696201556, 0.0025316455696202667, 0.0025316455696202667, 0.0025316455696202667, 0.0025316455696202667, 0.0025316455696202667, 0.0025316455696202667, 0.0025316455696202667, 0.0025316455696201556, 0.0025316455696202667, 0.0025316455696202667, 0.0025316455696202667, 0.0025316455696202667], \"yaxis\": \"y2\"}],\n",
              "                        {\"height\": 600, \"template\": {\"data\": {\"bar\": [{\"error_x\": {\"color\": \"#2a3f5f\"}, \"error_y\": {\"color\": \"#2a3f5f\"}, \"marker\": {\"line\": {\"color\": \"#E5ECF6\", \"width\": 0.5}}, \"type\": \"bar\"}], \"barpolar\": [{\"marker\": {\"line\": {\"color\": \"#E5ECF6\", \"width\": 0.5}}, \"type\": \"barpolar\"}], \"carpet\": [{\"aaxis\": {\"endlinecolor\": \"#2a3f5f\", \"gridcolor\": \"white\", \"linecolor\": \"white\", \"minorgridcolor\": \"white\", \"startlinecolor\": \"#2a3f5f\"}, \"baxis\": {\"endlinecolor\": \"#2a3f5f\", \"gridcolor\": \"white\", \"linecolor\": \"white\", \"minorgridcolor\": \"white\", \"startlinecolor\": \"#2a3f5f\"}, \"type\": \"carpet\"}], \"choropleth\": [{\"colorbar\": {\"outlinewidth\": 0, \"ticks\": \"\"}, \"type\": \"choropleth\"}], \"contour\": [{\"colorbar\": {\"outlinewidth\": 0, \"ticks\": \"\"}, \"colorscale\": [[0.0, \"#0d0887\"], [0.1111111111111111, \"#46039f\"], [0.2222222222222222, \"#7201a8\"], [0.3333333333333333, \"#9c179e\"], [0.4444444444444444, \"#bd3786\"], [0.5555555555555556, \"#d8576b\"], [0.6666666666666666, \"#ed7953\"], [0.7777777777777778, \"#fb9f3a\"], [0.8888888888888888, \"#fdca26\"], [1.0, \"#f0f921\"]], \"type\": \"contour\"}], \"contourcarpet\": [{\"colorbar\": {\"outlinewidth\": 0, \"ticks\": \"\"}, \"type\": \"contourcarpet\"}], \"heatmap\": [{\"colorbar\": {\"outlinewidth\": 0, \"ticks\": \"\"}, \"colorscale\": [[0.0, \"#0d0887\"], [0.1111111111111111, \"#46039f\"], [0.2222222222222222, \"#7201a8\"], [0.3333333333333333, \"#9c179e\"], [0.4444444444444444, \"#bd3786\"], [0.5555555555555556, \"#d8576b\"], [0.6666666666666666, \"#ed7953\"], [0.7777777777777778, \"#fb9f3a\"], [0.8888888888888888, \"#fdca26\"], [1.0, \"#f0f921\"]], \"type\": \"heatmap\"}], \"heatmapgl\": [{\"colorbar\": {\"outlinewidth\": 0, \"ticks\": \"\"}, \"colorscale\": [[0.0, \"#0d0887\"], [0.1111111111111111, \"#46039f\"], [0.2222222222222222, \"#7201a8\"], [0.3333333333333333, \"#9c179e\"], [0.4444444444444444, \"#bd3786\"], [0.5555555555555556, \"#d8576b\"], [0.6666666666666666, \"#ed7953\"], [0.7777777777777778, \"#fb9f3a\"], [0.8888888888888888, \"#fdca26\"], [1.0, \"#f0f921\"]], \"type\": \"heatmapgl\"}], \"histogram\": [{\"marker\": {\"colorbar\": {\"outlinewidth\": 0, \"ticks\": \"\"}}, \"type\": \"histogram\"}], \"histogram2d\": [{\"colorbar\": {\"outlinewidth\": 0, \"ticks\": \"\"}, \"colorscale\": [[0.0, \"#0d0887\"], [0.1111111111111111, \"#46039f\"], [0.2222222222222222, \"#7201a8\"], [0.3333333333333333, \"#9c179e\"], [0.4444444444444444, \"#bd3786\"], [0.5555555555555556, \"#d8576b\"], [0.6666666666666666, \"#ed7953\"], [0.7777777777777778, \"#fb9f3a\"], [0.8888888888888888, \"#fdca26\"], [1.0, \"#f0f921\"]], \"type\": \"histogram2d\"}], \"histogram2dcontour\": [{\"colorbar\": {\"outlinewidth\": 0, \"ticks\": \"\"}, \"colorscale\": [[0.0, \"#0d0887\"], [0.1111111111111111, \"#46039f\"], [0.2222222222222222, \"#7201a8\"], [0.3333333333333333, \"#9c179e\"], [0.4444444444444444, \"#bd3786\"], [0.5555555555555556, \"#d8576b\"], [0.6666666666666666, \"#ed7953\"], [0.7777777777777778, \"#fb9f3a\"], [0.8888888888888888, \"#fdca26\"], [1.0, \"#f0f921\"]], \"type\": \"histogram2dcontour\"}], \"mesh3d\": [{\"colorbar\": {\"outlinewidth\": 0, \"ticks\": \"\"}, \"type\": \"mesh3d\"}], \"parcoords\": [{\"line\": {\"colorbar\": {\"outlinewidth\": 0, \"ticks\": \"\"}}, \"type\": \"parcoords\"}], \"pie\": [{\"automargin\": true, \"type\": \"pie\"}], \"scatter\": [{\"marker\": {\"colorbar\": {\"outlinewidth\": 0, \"ticks\": \"\"}}, \"type\": \"scatter\"}], \"scatter3d\": [{\"line\": {\"colorbar\": {\"outlinewidth\": 0, \"ticks\": \"\"}}, \"marker\": {\"colorbar\": {\"outlinewidth\": 0, \"ticks\": \"\"}}, \"type\": \"scatter3d\"}], \"scattercarpet\": [{\"marker\": {\"colorbar\": {\"outlinewidth\": 0, \"ticks\": \"\"}}, \"type\": \"scattercarpet\"}], \"scattergeo\": [{\"marker\": {\"colorbar\": {\"outlinewidth\": 0, \"ticks\": \"\"}}, \"type\": \"scattergeo\"}], \"scattergl\": [{\"marker\": {\"colorbar\": {\"outlinewidth\": 0, \"ticks\": \"\"}}, \"type\": \"scattergl\"}], \"scattermapbox\": [{\"marker\": {\"colorbar\": {\"outlinewidth\": 0, \"ticks\": \"\"}}, \"type\": \"scattermapbox\"}], \"scatterpolar\": [{\"marker\": {\"colorbar\": {\"outlinewidth\": 0, \"ticks\": \"\"}}, \"type\": \"scatterpolar\"}], \"scatterpolargl\": [{\"marker\": {\"colorbar\": {\"outlinewidth\": 0, \"ticks\": \"\"}}, \"type\": \"scatterpolargl\"}], \"scatterternary\": [{\"marker\": {\"colorbar\": {\"outlinewidth\": 0, \"ticks\": \"\"}}, \"type\": \"scatterternary\"}], \"surface\": [{\"colorbar\": {\"outlinewidth\": 0, \"ticks\": \"\"}, \"colorscale\": [[0.0, \"#0d0887\"], [0.1111111111111111, \"#46039f\"], [0.2222222222222222, \"#7201a8\"], [0.3333333333333333, \"#9c179e\"], [0.4444444444444444, \"#bd3786\"], [0.5555555555555556, \"#d8576b\"], [0.6666666666666666, \"#ed7953\"], [0.7777777777777778, \"#fb9f3a\"], [0.8888888888888888, \"#fdca26\"], [1.0, \"#f0f921\"]], \"type\": \"surface\"}], \"table\": [{\"cells\": {\"fill\": {\"color\": \"#EBF0F8\"}, \"line\": {\"color\": \"white\"}}, \"header\": {\"fill\": {\"color\": \"#C8D4E3\"}, \"line\": {\"color\": \"white\"}}, \"type\": \"table\"}]}, \"layout\": {\"annotationdefaults\": {\"arrowcolor\": \"#2a3f5f\", \"arrowhead\": 0, \"arrowwidth\": 1}, \"coloraxis\": {\"colorbar\": {\"outlinewidth\": 0, \"ticks\": \"\"}}, \"colorscale\": {\"diverging\": [[0, \"#8e0152\"], [0.1, \"#c51b7d\"], [0.2, \"#de77ae\"], [0.3, \"#f1b6da\"], [0.4, \"#fde0ef\"], [0.5, \"#f7f7f7\"], [0.6, \"#e6f5d0\"], [0.7, \"#b8e186\"], [0.8, \"#7fbc41\"], [0.9, \"#4d9221\"], [1, \"#276419\"]], \"sequential\": [[0.0, \"#0d0887\"], [0.1111111111111111, \"#46039f\"], [0.2222222222222222, \"#7201a8\"], [0.3333333333333333, \"#9c179e\"], [0.4444444444444444, \"#bd3786\"], [0.5555555555555556, \"#d8576b\"], [0.6666666666666666, \"#ed7953\"], [0.7777777777777778, \"#fb9f3a\"], [0.8888888888888888, \"#fdca26\"], [1.0, \"#f0f921\"]], \"sequentialminus\": [[0.0, \"#0d0887\"], [0.1111111111111111, \"#46039f\"], [0.2222222222222222, \"#7201a8\"], [0.3333333333333333, \"#9c179e\"], [0.4444444444444444, \"#bd3786\"], [0.5555555555555556, \"#d8576b\"], [0.6666666666666666, \"#ed7953\"], [0.7777777777777778, \"#fb9f3a\"], [0.8888888888888888, \"#fdca26\"], [1.0, \"#f0f921\"]]}, \"colorway\": [\"#636efa\", \"#EF553B\", \"#00cc96\", \"#ab63fa\", \"#FFA15A\", \"#19d3f3\", \"#FF6692\", \"#B6E880\", \"#FF97FF\", \"#FECB52\"], \"font\": {\"color\": \"#2a3f5f\"}, \"geo\": {\"bgcolor\": \"white\", \"lakecolor\": \"white\", \"landcolor\": \"#E5ECF6\", \"showlakes\": true, \"showland\": true, \"subunitcolor\": \"white\"}, \"hoverlabel\": {\"align\": \"left\"}, \"hovermode\": \"closest\", \"mapbox\": {\"style\": \"light\"}, \"paper_bgcolor\": \"white\", \"plot_bgcolor\": \"#E5ECF6\", \"polar\": {\"angularaxis\": {\"gridcolor\": \"white\", \"linecolor\": \"white\", \"ticks\": \"\"}, \"bgcolor\": \"#E5ECF6\", \"radialaxis\": {\"gridcolor\": \"white\", \"linecolor\": \"white\", \"ticks\": \"\"}}, \"scene\": {\"xaxis\": {\"backgroundcolor\": \"#E5ECF6\", \"gridcolor\": \"white\", \"gridwidth\": 2, \"linecolor\": \"white\", \"showbackground\": true, \"ticks\": \"\", \"zerolinecolor\": \"white\"}, \"yaxis\": {\"backgroundcolor\": \"#E5ECF6\", \"gridcolor\": \"white\", \"gridwidth\": 2, \"linecolor\": \"white\", \"showbackground\": true, \"ticks\": \"\", \"zerolinecolor\": \"white\"}, \"zaxis\": {\"backgroundcolor\": \"#E5ECF6\", \"gridcolor\": \"white\", \"gridwidth\": 2, \"linecolor\": \"white\", \"showbackground\": true, \"ticks\": \"\", \"zerolinecolor\": \"white\"}}, \"shapedefaults\": {\"line\": {\"color\": \"#2a3f5f\"}}, \"ternary\": {\"aaxis\": {\"gridcolor\": \"white\", \"linecolor\": \"white\", \"ticks\": \"\"}, \"baxis\": {\"gridcolor\": \"white\", \"linecolor\": \"white\", \"ticks\": \"\"}, \"bgcolor\": \"#E5ECF6\", \"caxis\": {\"gridcolor\": \"white\", \"linecolor\": \"white\", \"ticks\": \"\"}}, \"title\": {\"x\": 0.05}, \"xaxis\": {\"automargin\": true, \"gridcolor\": \"white\", \"linecolor\": \"white\", \"ticks\": \"\", \"title\": {\"standoff\": 15}, \"zerolinecolor\": \"white\", \"zerolinewidth\": 2}, \"yaxis\": {\"automargin\": true, \"gridcolor\": \"white\", \"linecolor\": \"white\", \"ticks\": \"\", \"title\": {\"standoff\": 15}, \"zerolinecolor\": \"white\", \"zerolinewidth\": 2}}}, \"title\": {\"text\": \"Side By Side Subplots\"}, \"width\": 1200, \"xaxis\": {\"anchor\": \"y\", \"domain\": [0.0, 0.45]}, \"xaxis2\": {\"anchor\": \"y2\", \"domain\": [0.55, 1.0]}, \"yaxis\": {\"anchor\": \"x\", \"domain\": [0.0, 1.0]}, \"yaxis2\": {\"anchor\": \"x2\", \"domain\": [0.0, 1.0]}},\n",
              "                        {\"responsive\": true}\n",
              "                    ).then(function(){\n",
              "                            \n",
              "var gd = document.getElementById('85b3c575-1e1d-4911-96d7-8acd35571130');\n",
              "var x = new MutationObserver(function (mutations, observer) {{\n",
              "        var display = window.getComputedStyle(gd).display;\n",
              "        if (!display || display === 'none') {{\n",
              "            console.log([gd, 'removed!']);\n",
              "            Plotly.purge(gd);\n",
              "            observer.disconnect();\n",
              "        }}\n",
              "}});\n",
              "\n",
              "// Listen for the removal of the full notebook cells\n",
              "var notebookContainer = gd.closest('#notebook-container');\n",
              "if (notebookContainer) {{\n",
              "    x.observe(notebookContainer, {childList: true});\n",
              "}}\n",
              "\n",
              "// Listen for the clearing of the current output cell\n",
              "var outputEl = gd.closest('.output');\n",
              "if (outputEl) {{\n",
              "    x.observe(outputEl, {childList: true});\n",
              "}}\n",
              "\n",
              "                        })\n",
              "                };\n",
              "                \n",
              "            </script>\n",
              "        </div>\n",
              "</body>\n",
              "</html>"
            ]
          },
          "metadata": {
            "tags": []
          }
        }
      ]
    },
    {
      "cell_type": "code",
      "metadata": {
        "colab": {
          "base_uri": "https://localhost:8080/"
        },
        "id": "G80qe5xxnLk4",
        "outputId": "d64f8973-f237-41c5-d923-5a3710572010"
      },
      "source": [
        "industries.shape"
      ],
      "execution_count": null,
      "outputs": [
        {
          "output_type": "execute_result",
          "data": {
            "text/plain": [
              "(107,)"
            ]
          },
          "metadata": {
            "tags": []
          },
          "execution_count": 65
        }
      ]
    },
    {
      "cell_type": "code",
      "metadata": {
        "colab": {
          "base_uri": "https://localhost:8080/",
          "height": 817
        },
        "id": "I3LiOg-bQuMz",
        "outputId": "d437aa72-24bb-41eb-d338-c7626142589f"
      },
      "source": [
        "numindustries = 20\r\n",
        "\r\n",
        "indexarray =[]\r\n",
        "for x in range(0, numindustries):\r\n",
        "  indexarray.append(x)\r\n",
        "\r\n",
        "dfindustrycount = pd.DataFrame(industries[:numindustries])\r\n",
        "dfindustrycount.columns = ['Num Companies']\r\n",
        "dfindustrycount['index'] = indexarray\r\n",
        "dfindustrycount['Top Industries'] = dfindustrycount.index\r\n",
        "dfindustrycount.set_index('index')\r\n",
        "px.bar(dfindustrycount, x='Top Industries', y='Num Companies', height=800, width = 1200, \r\n",
        "       title='Top Industries Represented on TheLayoff.com')"
      ],
      "execution_count": null,
      "outputs": [
        {
          "output_type": "display_data",
          "data": {
            "text/html": [
              "<html>\n",
              "<head><meta charset=\"utf-8\" /></head>\n",
              "<body>\n",
              "    <div>\n",
              "            <script src=\"https://cdnjs.cloudflare.com/ajax/libs/mathjax/2.7.5/MathJax.js?config=TeX-AMS-MML_SVG\"></script><script type=\"text/javascript\">if (window.MathJax) {MathJax.Hub.Config({SVG: {font: \"STIX-Web\"}});}</script>\n",
              "                <script type=\"text/javascript\">window.PlotlyConfig = {MathJaxConfig: 'local'};</script>\n",
              "        <script src=\"https://cdn.plot.ly/plotly-latest.min.js\"></script>    \n",
              "            <div id=\"e6e93d54-a2c9-481a-ab97-685a80cfcda9\" class=\"plotly-graph-div\" style=\"height:800px; width:1200px;\"></div>\n",
              "            <script type=\"text/javascript\">\n",
              "                \n",
              "                    window.PLOTLYENV=window.PLOTLYENV || {};\n",
              "                    \n",
              "                if (document.getElementById(\"e6e93d54-a2c9-481a-ab97-685a80cfcda9\")) {\n",
              "                    Plotly.newPlot(\n",
              "                        'e6e93d54-a2c9-481a-ab97-685a80cfcda9',\n",
              "                        [{\"alignmentgroup\": \"True\", \"hoverlabel\": {\"namelength\": 0}, \"hovertemplate\": \"Top Industries=%{x}<br>Num Companies=%{y}\", \"legendgroup\": \"\", \"marker\": {\"color\": \"#636efa\"}, \"name\": \"\", \"offsetgroup\": \"\", \"orientation\": \"v\", \"showlegend\": false, \"textposition\": \"auto\", \"type\": \"bar\", \"x\": [\"Oil & Gas Producers\", \"Specialty Retailers & Services\", \"Oil Equipment, Services & Distribution\", \"Software\", \"Computers & Office Equipment\", \"Retailers: Broad Line & Apparel\", \"Business & Industrial Services\", \"Banks\", \"Higher education, colleges and universities.\", \"Aerospace & Defense\", \"Internet & Computer Services\", \"Broadcasting & Entertainment\", \"Telecommunications Equipment\", \"Health-Care Providers\", \"Retailers: Food & Drug\", \"Advertising & Publishing\", \"Heavy Machinery & Materials\", \"Food & Tobacco\", \"Industrial Transportation\", \"Hotels & Casinos\"], \"xaxis\": \"x\", \"y\": [23, 21, 16, 15, 15, 14, 14, 12, 12, 12, 12, 10, 10, 9, 9, 7, 7, 7, 7, 6], \"yaxis\": \"y\"}],\n",
              "                        {\"barmode\": \"relative\", \"height\": 800, \"legend\": {\"tracegroupgap\": 0}, \"template\": {\"data\": {\"bar\": [{\"error_x\": {\"color\": \"#2a3f5f\"}, \"error_y\": {\"color\": \"#2a3f5f\"}, \"marker\": {\"line\": {\"color\": \"#E5ECF6\", \"width\": 0.5}}, \"type\": \"bar\"}], \"barpolar\": [{\"marker\": {\"line\": {\"color\": \"#E5ECF6\", \"width\": 0.5}}, \"type\": \"barpolar\"}], \"carpet\": [{\"aaxis\": {\"endlinecolor\": \"#2a3f5f\", \"gridcolor\": \"white\", \"linecolor\": \"white\", \"minorgridcolor\": \"white\", \"startlinecolor\": \"#2a3f5f\"}, \"baxis\": {\"endlinecolor\": \"#2a3f5f\", \"gridcolor\": \"white\", \"linecolor\": \"white\", \"minorgridcolor\": \"white\", \"startlinecolor\": \"#2a3f5f\"}, \"type\": \"carpet\"}], \"choropleth\": [{\"colorbar\": {\"outlinewidth\": 0, \"ticks\": \"\"}, \"type\": \"choropleth\"}], \"contour\": [{\"colorbar\": {\"outlinewidth\": 0, \"ticks\": \"\"}, \"colorscale\": [[0.0, \"#0d0887\"], [0.1111111111111111, \"#46039f\"], [0.2222222222222222, \"#7201a8\"], [0.3333333333333333, \"#9c179e\"], [0.4444444444444444, \"#bd3786\"], [0.5555555555555556, \"#d8576b\"], [0.6666666666666666, \"#ed7953\"], [0.7777777777777778, \"#fb9f3a\"], [0.8888888888888888, \"#fdca26\"], [1.0, \"#f0f921\"]], \"type\": \"contour\"}], \"contourcarpet\": [{\"colorbar\": {\"outlinewidth\": 0, \"ticks\": \"\"}, \"type\": \"contourcarpet\"}], \"heatmap\": [{\"colorbar\": {\"outlinewidth\": 0, \"ticks\": \"\"}, \"colorscale\": [[0.0, \"#0d0887\"], [0.1111111111111111, \"#46039f\"], [0.2222222222222222, \"#7201a8\"], [0.3333333333333333, \"#9c179e\"], [0.4444444444444444, \"#bd3786\"], [0.5555555555555556, \"#d8576b\"], [0.6666666666666666, \"#ed7953\"], [0.7777777777777778, \"#fb9f3a\"], [0.8888888888888888, \"#fdca26\"], [1.0, \"#f0f921\"]], \"type\": \"heatmap\"}], \"heatmapgl\": [{\"colorbar\": {\"outlinewidth\": 0, \"ticks\": \"\"}, \"colorscale\": [[0.0, \"#0d0887\"], [0.1111111111111111, \"#46039f\"], [0.2222222222222222, \"#7201a8\"], [0.3333333333333333, \"#9c179e\"], [0.4444444444444444, \"#bd3786\"], [0.5555555555555556, \"#d8576b\"], [0.6666666666666666, \"#ed7953\"], [0.7777777777777778, \"#fb9f3a\"], [0.8888888888888888, \"#fdca26\"], [1.0, \"#f0f921\"]], \"type\": \"heatmapgl\"}], \"histogram\": [{\"marker\": {\"colorbar\": {\"outlinewidth\": 0, \"ticks\": \"\"}}, \"type\": \"histogram\"}], \"histogram2d\": [{\"colorbar\": {\"outlinewidth\": 0, \"ticks\": \"\"}, \"colorscale\": [[0.0, \"#0d0887\"], [0.1111111111111111, \"#46039f\"], [0.2222222222222222, \"#7201a8\"], [0.3333333333333333, \"#9c179e\"], [0.4444444444444444, \"#bd3786\"], [0.5555555555555556, \"#d8576b\"], [0.6666666666666666, \"#ed7953\"], [0.7777777777777778, \"#fb9f3a\"], [0.8888888888888888, \"#fdca26\"], [1.0, \"#f0f921\"]], \"type\": \"histogram2d\"}], \"histogram2dcontour\": [{\"colorbar\": {\"outlinewidth\": 0, \"ticks\": \"\"}, \"colorscale\": [[0.0, \"#0d0887\"], [0.1111111111111111, \"#46039f\"], [0.2222222222222222, \"#7201a8\"], [0.3333333333333333, \"#9c179e\"], [0.4444444444444444, \"#bd3786\"], [0.5555555555555556, \"#d8576b\"], [0.6666666666666666, \"#ed7953\"], [0.7777777777777778, \"#fb9f3a\"], [0.8888888888888888, \"#fdca26\"], [1.0, \"#f0f921\"]], \"type\": \"histogram2dcontour\"}], \"mesh3d\": [{\"colorbar\": {\"outlinewidth\": 0, \"ticks\": \"\"}, \"type\": \"mesh3d\"}], \"parcoords\": [{\"line\": {\"colorbar\": {\"outlinewidth\": 0, \"ticks\": \"\"}}, \"type\": \"parcoords\"}], \"pie\": [{\"automargin\": true, \"type\": \"pie\"}], \"scatter\": [{\"marker\": {\"colorbar\": {\"outlinewidth\": 0, \"ticks\": \"\"}}, \"type\": \"scatter\"}], \"scatter3d\": [{\"line\": {\"colorbar\": {\"outlinewidth\": 0, \"ticks\": \"\"}}, \"marker\": {\"colorbar\": {\"outlinewidth\": 0, \"ticks\": \"\"}}, \"type\": \"scatter3d\"}], \"scattercarpet\": [{\"marker\": {\"colorbar\": {\"outlinewidth\": 0, \"ticks\": \"\"}}, \"type\": \"scattercarpet\"}], \"scattergeo\": [{\"marker\": {\"colorbar\": {\"outlinewidth\": 0, \"ticks\": \"\"}}, \"type\": \"scattergeo\"}], \"scattergl\": [{\"marker\": {\"colorbar\": {\"outlinewidth\": 0, \"ticks\": \"\"}}, \"type\": \"scattergl\"}], \"scattermapbox\": [{\"marker\": {\"colorbar\": {\"outlinewidth\": 0, \"ticks\": \"\"}}, \"type\": \"scattermapbox\"}], \"scatterpolar\": [{\"marker\": {\"colorbar\": {\"outlinewidth\": 0, \"ticks\": \"\"}}, \"type\": \"scatterpolar\"}], \"scatterpolargl\": [{\"marker\": {\"colorbar\": {\"outlinewidth\": 0, \"ticks\": \"\"}}, \"type\": \"scatterpolargl\"}], \"scatterternary\": [{\"marker\": {\"colorbar\": {\"outlinewidth\": 0, \"ticks\": \"\"}}, \"type\": \"scatterternary\"}], \"surface\": [{\"colorbar\": {\"outlinewidth\": 0, \"ticks\": \"\"}, \"colorscale\": [[0.0, \"#0d0887\"], [0.1111111111111111, \"#46039f\"], [0.2222222222222222, \"#7201a8\"], [0.3333333333333333, \"#9c179e\"], [0.4444444444444444, \"#bd3786\"], [0.5555555555555556, \"#d8576b\"], [0.6666666666666666, \"#ed7953\"], [0.7777777777777778, \"#fb9f3a\"], [0.8888888888888888, \"#fdca26\"], [1.0, \"#f0f921\"]], \"type\": \"surface\"}], \"table\": [{\"cells\": {\"fill\": {\"color\": \"#EBF0F8\"}, \"line\": {\"color\": \"white\"}}, \"header\": {\"fill\": {\"color\": \"#C8D4E3\"}, \"line\": {\"color\": \"white\"}}, \"type\": \"table\"}]}, \"layout\": {\"annotationdefaults\": {\"arrowcolor\": \"#2a3f5f\", \"arrowhead\": 0, \"arrowwidth\": 1}, \"coloraxis\": {\"colorbar\": {\"outlinewidth\": 0, \"ticks\": \"\"}}, \"colorscale\": {\"diverging\": [[0, \"#8e0152\"], [0.1, \"#c51b7d\"], [0.2, \"#de77ae\"], [0.3, \"#f1b6da\"], [0.4, \"#fde0ef\"], [0.5, \"#f7f7f7\"], [0.6, \"#e6f5d0\"], [0.7, \"#b8e186\"], [0.8, \"#7fbc41\"], [0.9, \"#4d9221\"], [1, \"#276419\"]], \"sequential\": [[0.0, \"#0d0887\"], [0.1111111111111111, \"#46039f\"], [0.2222222222222222, \"#7201a8\"], [0.3333333333333333, \"#9c179e\"], [0.4444444444444444, \"#bd3786\"], [0.5555555555555556, \"#d8576b\"], [0.6666666666666666, \"#ed7953\"], [0.7777777777777778, \"#fb9f3a\"], [0.8888888888888888, \"#fdca26\"], [1.0, \"#f0f921\"]], \"sequentialminus\": [[0.0, \"#0d0887\"], [0.1111111111111111, \"#46039f\"], [0.2222222222222222, \"#7201a8\"], [0.3333333333333333, \"#9c179e\"], [0.4444444444444444, \"#bd3786\"], [0.5555555555555556, \"#d8576b\"], [0.6666666666666666, \"#ed7953\"], [0.7777777777777778, \"#fb9f3a\"], [0.8888888888888888, \"#fdca26\"], [1.0, \"#f0f921\"]]}, \"colorway\": [\"#636efa\", \"#EF553B\", \"#00cc96\", \"#ab63fa\", \"#FFA15A\", \"#19d3f3\", \"#FF6692\", \"#B6E880\", \"#FF97FF\", \"#FECB52\"], \"font\": {\"color\": \"#2a3f5f\"}, \"geo\": {\"bgcolor\": \"white\", \"lakecolor\": \"white\", \"landcolor\": \"#E5ECF6\", \"showlakes\": true, \"showland\": true, \"subunitcolor\": \"white\"}, \"hoverlabel\": {\"align\": \"left\"}, \"hovermode\": \"closest\", \"mapbox\": {\"style\": \"light\"}, \"paper_bgcolor\": \"white\", \"plot_bgcolor\": \"#E5ECF6\", \"polar\": {\"angularaxis\": {\"gridcolor\": \"white\", \"linecolor\": \"white\", \"ticks\": \"\"}, \"bgcolor\": \"#E5ECF6\", \"radialaxis\": {\"gridcolor\": \"white\", \"linecolor\": \"white\", \"ticks\": \"\"}}, \"scene\": {\"xaxis\": {\"backgroundcolor\": \"#E5ECF6\", \"gridcolor\": \"white\", \"gridwidth\": 2, \"linecolor\": \"white\", \"showbackground\": true, \"ticks\": \"\", \"zerolinecolor\": \"white\"}, \"yaxis\": {\"backgroundcolor\": \"#E5ECF6\", \"gridcolor\": \"white\", \"gridwidth\": 2, \"linecolor\": \"white\", \"showbackground\": true, \"ticks\": \"\", \"zerolinecolor\": \"white\"}, \"zaxis\": {\"backgroundcolor\": \"#E5ECF6\", \"gridcolor\": \"white\", \"gridwidth\": 2, \"linecolor\": \"white\", \"showbackground\": true, \"ticks\": \"\", \"zerolinecolor\": \"white\"}}, \"shapedefaults\": {\"line\": {\"color\": \"#2a3f5f\"}}, \"ternary\": {\"aaxis\": {\"gridcolor\": \"white\", \"linecolor\": \"white\", \"ticks\": \"\"}, \"baxis\": {\"gridcolor\": \"white\", \"linecolor\": \"white\", \"ticks\": \"\"}, \"bgcolor\": \"#E5ECF6\", \"caxis\": {\"gridcolor\": \"white\", \"linecolor\": \"white\", \"ticks\": \"\"}}, \"title\": {\"x\": 0.05}, \"xaxis\": {\"automargin\": true, \"gridcolor\": \"white\", \"linecolor\": \"white\", \"ticks\": \"\", \"title\": {\"standoff\": 15}, \"zerolinecolor\": \"white\", \"zerolinewidth\": 2}, \"yaxis\": {\"automargin\": true, \"gridcolor\": \"white\", \"linecolor\": \"white\", \"ticks\": \"\", \"title\": {\"standoff\": 15}, \"zerolinecolor\": \"white\", \"zerolinewidth\": 2}}}, \"title\": {\"text\": \"Top Industries Represented on TheLayoff.com\"}, \"width\": 1200, \"xaxis\": {\"anchor\": \"y\", \"domain\": [0.0, 1.0], \"title\": {\"text\": \"Top Industries\"}}, \"yaxis\": {\"anchor\": \"x\", \"domain\": [0.0, 1.0], \"title\": {\"text\": \"Num Companies\"}}},\n",
              "                        {\"responsive\": true}\n",
              "                    ).then(function(){\n",
              "                            \n",
              "var gd = document.getElementById('e6e93d54-a2c9-481a-ab97-685a80cfcda9');\n",
              "var x = new MutationObserver(function (mutations, observer) {{\n",
              "        var display = window.getComputedStyle(gd).display;\n",
              "        if (!display || display === 'none') {{\n",
              "            console.log([gd, 'removed!']);\n",
              "            Plotly.purge(gd);\n",
              "            observer.disconnect();\n",
              "        }}\n",
              "}});\n",
              "\n",
              "// Listen for the removal of the full notebook cells\n",
              "var notebookContainer = gd.closest('#notebook-container');\n",
              "if (notebookContainer) {{\n",
              "    x.observe(notebookContainer, {childList: true});\n",
              "}}\n",
              "\n",
              "// Listen for the clearing of the current output cell\n",
              "var outputEl = gd.closest('.output');\n",
              "if (outputEl) {{\n",
              "    x.observe(outputEl, {childList: true});\n",
              "}}\n",
              "\n",
              "                        })\n",
              "                };\n",
              "                \n",
              "            </script>\n",
              "        </div>\n",
              "</body>\n",
              "</html>"
            ]
          },
          "metadata": {
            "tags": []
          }
        }
      ]
    },
    {
      "cell_type": "code",
      "metadata": {
        "colab": {
          "base_uri": "https://localhost:8080/",
          "height": 542
        },
        "id": "TbkNoL7S2YKv",
        "outputId": "64ab1a8b-292b-4d56-9221-c21e53a696ae"
      },
      "source": [
        "px.pie(dfindustrycount,names='Top Industries', values='Num Companies', width = 1000)"
      ],
      "execution_count": null,
      "outputs": [
        {
          "output_type": "display_data",
          "data": {
            "text/html": [
              "<html>\n",
              "<head><meta charset=\"utf-8\" /></head>\n",
              "<body>\n",
              "    <div>\n",
              "            <script src=\"https://cdnjs.cloudflare.com/ajax/libs/mathjax/2.7.5/MathJax.js?config=TeX-AMS-MML_SVG\"></script><script type=\"text/javascript\">if (window.MathJax) {MathJax.Hub.Config({SVG: {font: \"STIX-Web\"}});}</script>\n",
              "                <script type=\"text/javascript\">window.PlotlyConfig = {MathJaxConfig: 'local'};</script>\n",
              "        <script src=\"https://cdn.plot.ly/plotly-latest.min.js\"></script>    \n",
              "            <div id=\"851db8e6-db3d-4066-860a-06c1b91b6b49\" class=\"plotly-graph-div\" style=\"height:525px; width:1000px;\"></div>\n",
              "            <script type=\"text/javascript\">\n",
              "                \n",
              "                    window.PLOTLYENV=window.PLOTLYENV || {};\n",
              "                    \n",
              "                if (document.getElementById(\"851db8e6-db3d-4066-860a-06c1b91b6b49\")) {\n",
              "                    Plotly.newPlot(\n",
              "                        '851db8e6-db3d-4066-860a-06c1b91b6b49',\n",
              "                        [{\"domain\": {\"x\": [0.0, 1.0], \"y\": [0.0, 1.0]}, \"hoverlabel\": {\"namelength\": 0}, \"hovertemplate\": \"Top Industries=%{label}<br>Num Companies=%{value}\", \"labels\": [\"Oil & Gas Producers\", \"Specialty Retailers & Services\", \"Oil Equipment, Services & Distribution\", \"Software\", \"Computers & Office Equipment\", \"Retailers: Broad Line & Apparel\", \"Business & Industrial Services\", \"Banks\", \"Higher education, colleges and universities.\", \"Aerospace & Defense\", \"Internet & Computer Services\", \"Broadcasting & Entertainment\", \"Telecommunications Equipment\", \"Health-Care Providers\", \"Retailers: Food & Drug\", \"Advertising & Publishing\", \"Heavy Machinery & Materials\", \"Food & Tobacco\", \"Industrial Transportation\", \"Hotels & Casinos\"], \"legendgroup\": \"\", \"name\": \"\", \"showlegend\": true, \"type\": \"pie\", \"values\": [23, 21, 16, 15, 15, 14, 14, 12, 12, 12, 12, 10, 10, 9, 9, 7, 7, 7, 7, 6]}],\n",
              "                        {\"legend\": {\"tracegroupgap\": 0}, \"margin\": {\"t\": 60}, \"template\": {\"data\": {\"bar\": [{\"error_x\": {\"color\": \"#2a3f5f\"}, \"error_y\": {\"color\": \"#2a3f5f\"}, \"marker\": {\"line\": {\"color\": \"#E5ECF6\", \"width\": 0.5}}, \"type\": \"bar\"}], \"barpolar\": [{\"marker\": {\"line\": {\"color\": \"#E5ECF6\", \"width\": 0.5}}, \"type\": \"barpolar\"}], \"carpet\": [{\"aaxis\": {\"endlinecolor\": \"#2a3f5f\", \"gridcolor\": \"white\", \"linecolor\": \"white\", \"minorgridcolor\": \"white\", \"startlinecolor\": \"#2a3f5f\"}, \"baxis\": {\"endlinecolor\": \"#2a3f5f\", \"gridcolor\": \"white\", \"linecolor\": \"white\", \"minorgridcolor\": \"white\", \"startlinecolor\": \"#2a3f5f\"}, \"type\": \"carpet\"}], \"choropleth\": [{\"colorbar\": {\"outlinewidth\": 0, \"ticks\": \"\"}, \"type\": \"choropleth\"}], \"contour\": [{\"colorbar\": {\"outlinewidth\": 0, \"ticks\": \"\"}, \"colorscale\": [[0.0, \"#0d0887\"], [0.1111111111111111, \"#46039f\"], [0.2222222222222222, \"#7201a8\"], [0.3333333333333333, \"#9c179e\"], [0.4444444444444444, \"#bd3786\"], [0.5555555555555556, \"#d8576b\"], [0.6666666666666666, \"#ed7953\"], [0.7777777777777778, \"#fb9f3a\"], [0.8888888888888888, \"#fdca26\"], [1.0, \"#f0f921\"]], \"type\": \"contour\"}], \"contourcarpet\": [{\"colorbar\": {\"outlinewidth\": 0, \"ticks\": \"\"}, \"type\": \"contourcarpet\"}], \"heatmap\": [{\"colorbar\": {\"outlinewidth\": 0, \"ticks\": \"\"}, \"colorscale\": [[0.0, \"#0d0887\"], [0.1111111111111111, \"#46039f\"], [0.2222222222222222, \"#7201a8\"], [0.3333333333333333, \"#9c179e\"], [0.4444444444444444, \"#bd3786\"], [0.5555555555555556, \"#d8576b\"], [0.6666666666666666, \"#ed7953\"], [0.7777777777777778, \"#fb9f3a\"], [0.8888888888888888, \"#fdca26\"], [1.0, \"#f0f921\"]], \"type\": \"heatmap\"}], \"heatmapgl\": [{\"colorbar\": {\"outlinewidth\": 0, \"ticks\": \"\"}, \"colorscale\": [[0.0, \"#0d0887\"], [0.1111111111111111, \"#46039f\"], [0.2222222222222222, \"#7201a8\"], [0.3333333333333333, \"#9c179e\"], [0.4444444444444444, \"#bd3786\"], [0.5555555555555556, \"#d8576b\"], [0.6666666666666666, \"#ed7953\"], [0.7777777777777778, \"#fb9f3a\"], [0.8888888888888888, \"#fdca26\"], [1.0, \"#f0f921\"]], \"type\": \"heatmapgl\"}], \"histogram\": [{\"marker\": {\"colorbar\": {\"outlinewidth\": 0, \"ticks\": \"\"}}, \"type\": \"histogram\"}], \"histogram2d\": [{\"colorbar\": {\"outlinewidth\": 0, \"ticks\": \"\"}, \"colorscale\": [[0.0, \"#0d0887\"], [0.1111111111111111, \"#46039f\"], [0.2222222222222222, \"#7201a8\"], [0.3333333333333333, \"#9c179e\"], [0.4444444444444444, \"#bd3786\"], [0.5555555555555556, \"#d8576b\"], [0.6666666666666666, \"#ed7953\"], [0.7777777777777778, \"#fb9f3a\"], [0.8888888888888888, \"#fdca26\"], [1.0, \"#f0f921\"]], \"type\": \"histogram2d\"}], \"histogram2dcontour\": [{\"colorbar\": {\"outlinewidth\": 0, \"ticks\": \"\"}, \"colorscale\": [[0.0, \"#0d0887\"], [0.1111111111111111, \"#46039f\"], [0.2222222222222222, \"#7201a8\"], [0.3333333333333333, \"#9c179e\"], [0.4444444444444444, \"#bd3786\"], [0.5555555555555556, \"#d8576b\"], [0.6666666666666666, \"#ed7953\"], [0.7777777777777778, \"#fb9f3a\"], [0.8888888888888888, \"#fdca26\"], [1.0, \"#f0f921\"]], \"type\": \"histogram2dcontour\"}], \"mesh3d\": [{\"colorbar\": {\"outlinewidth\": 0, \"ticks\": \"\"}, \"type\": \"mesh3d\"}], \"parcoords\": [{\"line\": {\"colorbar\": {\"outlinewidth\": 0, \"ticks\": \"\"}}, \"type\": \"parcoords\"}], \"pie\": [{\"automargin\": true, \"type\": \"pie\"}], \"scatter\": [{\"marker\": {\"colorbar\": {\"outlinewidth\": 0, \"ticks\": \"\"}}, \"type\": \"scatter\"}], \"scatter3d\": [{\"line\": {\"colorbar\": {\"outlinewidth\": 0, \"ticks\": \"\"}}, \"marker\": {\"colorbar\": {\"outlinewidth\": 0, \"ticks\": \"\"}}, \"type\": \"scatter3d\"}], \"scattercarpet\": [{\"marker\": {\"colorbar\": {\"outlinewidth\": 0, \"ticks\": \"\"}}, \"type\": \"scattercarpet\"}], \"scattergeo\": [{\"marker\": {\"colorbar\": {\"outlinewidth\": 0, \"ticks\": \"\"}}, \"type\": \"scattergeo\"}], \"scattergl\": [{\"marker\": {\"colorbar\": {\"outlinewidth\": 0, \"ticks\": \"\"}}, \"type\": \"scattergl\"}], \"scattermapbox\": [{\"marker\": {\"colorbar\": {\"outlinewidth\": 0, \"ticks\": \"\"}}, \"type\": \"scattermapbox\"}], \"scatterpolar\": [{\"marker\": {\"colorbar\": {\"outlinewidth\": 0, \"ticks\": \"\"}}, \"type\": \"scatterpolar\"}], \"scatterpolargl\": [{\"marker\": {\"colorbar\": {\"outlinewidth\": 0, \"ticks\": \"\"}}, \"type\": \"scatterpolargl\"}], \"scatterternary\": [{\"marker\": {\"colorbar\": {\"outlinewidth\": 0, \"ticks\": \"\"}}, \"type\": \"scatterternary\"}], \"surface\": [{\"colorbar\": {\"outlinewidth\": 0, \"ticks\": \"\"}, \"colorscale\": [[0.0, \"#0d0887\"], [0.1111111111111111, \"#46039f\"], [0.2222222222222222, \"#7201a8\"], [0.3333333333333333, \"#9c179e\"], [0.4444444444444444, \"#bd3786\"], [0.5555555555555556, \"#d8576b\"], [0.6666666666666666, \"#ed7953\"], [0.7777777777777778, \"#fb9f3a\"], [0.8888888888888888, \"#fdca26\"], [1.0, \"#f0f921\"]], \"type\": \"surface\"}], \"table\": [{\"cells\": {\"fill\": {\"color\": \"#EBF0F8\"}, \"line\": {\"color\": \"white\"}}, \"header\": {\"fill\": {\"color\": \"#C8D4E3\"}, \"line\": {\"color\": \"white\"}}, \"type\": \"table\"}]}, \"layout\": {\"annotationdefaults\": {\"arrowcolor\": \"#2a3f5f\", \"arrowhead\": 0, \"arrowwidth\": 1}, \"coloraxis\": {\"colorbar\": {\"outlinewidth\": 0, \"ticks\": \"\"}}, \"colorscale\": {\"diverging\": [[0, \"#8e0152\"], [0.1, \"#c51b7d\"], [0.2, \"#de77ae\"], [0.3, \"#f1b6da\"], [0.4, \"#fde0ef\"], [0.5, \"#f7f7f7\"], [0.6, \"#e6f5d0\"], [0.7, \"#b8e186\"], [0.8, \"#7fbc41\"], [0.9, \"#4d9221\"], [1, \"#276419\"]], \"sequential\": [[0.0, \"#0d0887\"], [0.1111111111111111, \"#46039f\"], [0.2222222222222222, \"#7201a8\"], [0.3333333333333333, \"#9c179e\"], [0.4444444444444444, \"#bd3786\"], [0.5555555555555556, \"#d8576b\"], [0.6666666666666666, \"#ed7953\"], [0.7777777777777778, \"#fb9f3a\"], [0.8888888888888888, \"#fdca26\"], [1.0, \"#f0f921\"]], \"sequentialminus\": [[0.0, \"#0d0887\"], [0.1111111111111111, \"#46039f\"], [0.2222222222222222, \"#7201a8\"], [0.3333333333333333, \"#9c179e\"], [0.4444444444444444, \"#bd3786\"], [0.5555555555555556, \"#d8576b\"], [0.6666666666666666, \"#ed7953\"], [0.7777777777777778, \"#fb9f3a\"], [0.8888888888888888, \"#fdca26\"], [1.0, \"#f0f921\"]]}, \"colorway\": [\"#636efa\", \"#EF553B\", \"#00cc96\", \"#ab63fa\", \"#FFA15A\", \"#19d3f3\", \"#FF6692\", \"#B6E880\", \"#FF97FF\", \"#FECB52\"], \"font\": {\"color\": \"#2a3f5f\"}, \"geo\": {\"bgcolor\": \"white\", \"lakecolor\": \"white\", \"landcolor\": \"#E5ECF6\", \"showlakes\": true, \"showland\": true, \"subunitcolor\": \"white\"}, \"hoverlabel\": {\"align\": \"left\"}, \"hovermode\": \"closest\", \"mapbox\": {\"style\": \"light\"}, \"paper_bgcolor\": \"white\", \"plot_bgcolor\": \"#E5ECF6\", \"polar\": {\"angularaxis\": {\"gridcolor\": \"white\", \"linecolor\": \"white\", \"ticks\": \"\"}, \"bgcolor\": \"#E5ECF6\", \"radialaxis\": {\"gridcolor\": \"white\", \"linecolor\": \"white\", \"ticks\": \"\"}}, \"scene\": {\"xaxis\": {\"backgroundcolor\": \"#E5ECF6\", \"gridcolor\": \"white\", \"gridwidth\": 2, \"linecolor\": \"white\", \"showbackground\": true, \"ticks\": \"\", \"zerolinecolor\": \"white\"}, \"yaxis\": {\"backgroundcolor\": \"#E5ECF6\", \"gridcolor\": \"white\", \"gridwidth\": 2, \"linecolor\": \"white\", \"showbackground\": true, \"ticks\": \"\", \"zerolinecolor\": \"white\"}, \"zaxis\": {\"backgroundcolor\": \"#E5ECF6\", \"gridcolor\": \"white\", \"gridwidth\": 2, \"linecolor\": \"white\", \"showbackground\": true, \"ticks\": \"\", \"zerolinecolor\": \"white\"}}, \"shapedefaults\": {\"line\": {\"color\": \"#2a3f5f\"}}, \"ternary\": {\"aaxis\": {\"gridcolor\": \"white\", \"linecolor\": \"white\", \"ticks\": \"\"}, \"baxis\": {\"gridcolor\": \"white\", \"linecolor\": \"white\", \"ticks\": \"\"}, \"bgcolor\": \"#E5ECF6\", \"caxis\": {\"gridcolor\": \"white\", \"linecolor\": \"white\", \"ticks\": \"\"}}, \"title\": {\"x\": 0.05}, \"xaxis\": {\"automargin\": true, \"gridcolor\": \"white\", \"linecolor\": \"white\", \"ticks\": \"\", \"title\": {\"standoff\": 15}, \"zerolinecolor\": \"white\", \"zerolinewidth\": 2}, \"yaxis\": {\"automargin\": true, \"gridcolor\": \"white\", \"linecolor\": \"white\", \"ticks\": \"\", \"title\": {\"standoff\": 15}, \"zerolinecolor\": \"white\", \"zerolinewidth\": 2}}}, \"width\": 1000},\n",
              "                        {\"responsive\": true}\n",
              "                    ).then(function(){\n",
              "                            \n",
              "var gd = document.getElementById('851db8e6-db3d-4066-860a-06c1b91b6b49');\n",
              "var x = new MutationObserver(function (mutations, observer) {{\n",
              "        var display = window.getComputedStyle(gd).display;\n",
              "        if (!display || display === 'none') {{\n",
              "            console.log([gd, 'removed!']);\n",
              "            Plotly.purge(gd);\n",
              "            observer.disconnect();\n",
              "        }}\n",
              "}});\n",
              "\n",
              "// Listen for the removal of the full notebook cells\n",
              "var notebookContainer = gd.closest('#notebook-container');\n",
              "if (notebookContainer) {{\n",
              "    x.observe(notebookContainer, {childList: true});\n",
              "}}\n",
              "\n",
              "// Listen for the clearing of the current output cell\n",
              "var outputEl = gd.closest('.output');\n",
              "if (outputEl) {{\n",
              "    x.observe(outputEl, {childList: true});\n",
              "}}\n",
              "\n",
              "                        })\n",
              "                };\n",
              "                \n",
              "            </script>\n",
              "        </div>\n",
              "</body>\n",
              "</html>"
            ]
          },
          "metadata": {
            "tags": []
          }
        }
      ]
    },
    {
      "cell_type": "code",
      "metadata": {
        "id": "1ydfzqCFiFDc"
      },
      "source": [
        "dfno.to_csv('drive/MyDrive/dfno.csv')"
      ],
      "execution_count": null,
      "outputs": []
    },
    {
      "cell_type": "markdown",
      "metadata": {
        "id": "36nqMK0kld3z"
      },
      "source": [
        "#This section extracts date time and number of views"
      ]
    },
    {
      "cell_type": "code",
      "metadata": {
        "id": "rgFLAOswiV1Z"
      },
      "source": [
        "dfno = pd.read_csv('drive/MyDrive/dfno.csv')"
      ],
      "execution_count": null,
      "outputs": []
    },
    {
      "cell_type": "code",
      "metadata": {
        "colab": {
          "base_uri": "https://localhost:8080/",
          "height": 191
        },
        "id": "_QqMHHP8Y2Hm",
        "outputId": "789d6a59-9b91-471e-f284-335cc8bd51cd"
      },
      "source": [
        "dfno.head()"
      ],
      "execution_count": null,
      "outputs": [
        {
          "output_type": "execute_result",
          "data": {
            "text/html": [
              "<div>\n",
              "<style scoped>\n",
              "    .dataframe tbody tr th:only-of-type {\n",
              "        vertical-align: middle;\n",
              "    }\n",
              "\n",
              "    .dataframe tbody tr th {\n",
              "        vertical-align: top;\n",
              "    }\n",
              "\n",
              "    .dataframe thead th {\n",
              "        text-align: right;\n",
              "    }\n",
              "</style>\n",
              "<table border=\"1\" class=\"dataframe\">\n",
              "  <thead>\n",
              "    <tr style=\"text-align: right;\">\n",
              "      <th></th>\n",
              "      <th>Unnamed: 0</th>\n",
              "      <th>company</th>\n",
              "      <th>industry</th>\n",
              "      <th>OnePageBool</th>\n",
              "      <th>url</th>\n",
              "    </tr>\n",
              "  </thead>\n",
              "  <tbody>\n",
              "    <tr>\n",
              "      <th>0</th>\n",
              "      <td>0</td>\n",
              "      <td>2U Inc.</td>\n",
              "      <td>Technology // Software and Intellectual Property</td>\n",
              "      <td>No</td>\n",
              "      <td>https://www.thelayoff.com/2u</td>\n",
              "    </tr>\n",
              "    <tr>\n",
              "      <th>1</th>\n",
              "      <td>1</td>\n",
              "      <td>3M</td>\n",
              "      <td>General Industrials</td>\n",
              "      <td>No</td>\n",
              "      <td>https://www.thelayoff.com/a-3m</td>\n",
              "    </tr>\n",
              "    <tr>\n",
              "      <th>2</th>\n",
              "      <td>2</td>\n",
              "      <td>Academy Sports &amp; Outdoors</td>\n",
              "      <td>Specialty Retailers &amp; Services</td>\n",
              "      <td>No</td>\n",
              "      <td>https://www.thelayoff.com/academy-sports-and-o...</td>\n",
              "    </tr>\n",
              "    <tr>\n",
              "      <th>3</th>\n",
              "      <td>3</td>\n",
              "      <td>Accenture</td>\n",
              "      <td>Business &amp; Industrial Services</td>\n",
              "      <td>No</td>\n",
              "      <td>https://www.thelayoff.com/accenture</td>\n",
              "    </tr>\n",
              "    <tr>\n",
              "      <th>4</th>\n",
              "      <td>4</td>\n",
              "      <td>ADT Corp.</td>\n",
              "      <td>Industrials // Services, Business Support</td>\n",
              "      <td>No</td>\n",
              "      <td>https://www.thelayoff.com/adt</td>\n",
              "    </tr>\n",
              "  </tbody>\n",
              "</table>\n",
              "</div>"
            ],
            "text/plain": [
              "   Unnamed: 0  ...                                                url\n",
              "0           0  ...                       https://www.thelayoff.com/2u\n",
              "1           1  ...                     https://www.thelayoff.com/a-3m\n",
              "2           2  ...  https://www.thelayoff.com/academy-sports-and-o...\n",
              "3           3  ...                https://www.thelayoff.com/accenture\n",
              "4           4  ...                      https://www.thelayoff.com/adt\n",
              "\n",
              "[5 rows x 5 columns]"
            ]
          },
          "metadata": {
            "tags": []
          },
          "execution_count": 3
        }
      ]
    },
    {
      "cell_type": "code",
      "metadata": {
        "colab": {
          "base_uri": "https://localhost:8080/"
        },
        "id": "AUe6aJU7CNwh",
        "outputId": "d2155ce9-f660-4428-d1a3-86d0750bc198"
      },
      "source": [
        "dfno.iloc[30]"
      ],
      "execution_count": null,
      "outputs": [
        {
          "output_type": "execute_result",
          "data": {
            "text/plain": [
              "Unnamed: 0                                         30\n",
              "company                                  Baker Hughes\n",
              "industry       Oil Equipment, Services & Distribution\n",
              "OnePageBool                                        No\n",
              "url            https://www.thelayoff.com/baker-hughes\n",
              "Name: 30, dtype: object"
            ]
          },
          "metadata": {
            "tags": []
          },
          "execution_count": 5
        }
      ]
    },
    {
      "cell_type": "code",
      "metadata": {
        "id": "b3pDI3Hhmp4q"
      },
      "source": [
        "views =[]\r\n",
        "datetimearr=[]\r\n",
        "company=[]"
      ],
      "execution_count": null,
      "outputs": []
    },
    {
      "cell_type": "code",
      "metadata": {
        "colab": {
          "base_uri": "https://localhost:8080/",
          "height": 65,
          "referenced_widgets": [
            "e376f9b3c83a434e839860c424316545",
            "f240c7f47f0041cbbc2caa417854fd38",
            "60cbbb1e8b9e440fb8d1fcc32c676c8b",
            "2e1106e7536e4bd4be051081f708e34a",
            "e823aba9979e480c836bea8f4c3e8af4",
            "a54d41fa1bc642f2963f0c6c93c22390",
            "70844e5d760545b6875b372bff7a5299",
            "3e8746607ec94f229e4a382f68e7d77a"
          ]
        },
        "id": "XLAThKyd3Joz",
        "outputId": "70eff83d-e2ba-4f84-bf4e-3fde0931ebf9"
      },
      "source": [
        "#loop through all top websites, create DF with company, postdate, and postviews\r\n",
        "\r\n",
        "user_agent_list = [\r\n",
        "    'Mozilla/5.0 (Macintosh; Intel Mac OS X 10_15_5) AppleWebKit/605.1.15 (KHTML, like Gecko) Version/13.1.1 Safari/605.1.15',\r\n",
        "    'Mozilla/5.0 (Windows NT 10.0; Win64; x64; rv:77.0) Gecko/20100101 Firefox/77.0',\r\n",
        "    'Mozilla/5.0 (Macintosh; Intel Mac OS X 10_15_5) AppleWebKit/537.36 (KHTML, like Gecko) Chrome/83.0.4103.97 Safari/537.36',\r\n",
        "    'Mozilla/5.0 (Macintosh; Intel Mac OS X 10.15; rv:77.0) Gecko/20100101 Firefox/77.0',\r\n",
        "    'Mozilla/5.0 (Windows NT 10.0; Win64; x64) AppleWebKit/537.36 (KHTML, like Gecko) Chrome/83.0.4103.97 Safari/537.36',\r\n",
        "]\r\n",
        "\r\n",
        "for x in tqdm(range(221,dfno.shape[0])):\r\n",
        "\r\n",
        "  user_agent = random.choice(user_agent_list)\r\n",
        "  headers = {'User-Agent': user_agent}\r\n",
        "\r\n",
        "  companyurl = dfno.at[x,'url']\r\n",
        "  companyname = dfno.at[x,'company']\r\n",
        "  y=0\r\n",
        "  endofsite=False\r\n",
        "\r\n",
        "  while (endofsite == False):\r\n",
        "    if y == 0:\r\n",
        "      companysite = requests.get(companyurl, headers=headers)\r\n",
        "    else:\r\n",
        "      companysite = requests.get(companyurl+'?page='+ str(y+1), headers=headers)\r\n",
        "    y=y+1\r\n",
        "\r\n",
        "    pagesoup = BeautifulSoup(companysite.text)\r\n",
        "\r\n",
        "    if pagesoup.title.text == '404 Not Found':\r\n",
        "      endofsite=True\r\n",
        "\r\n",
        "    for view in pagesoup.find_all('span', attrs={'class':'views'}):\r\n",
        "      views.append(find_number(str(view), '>')[0])\r\n",
        "\r\n",
        "    for time1 in pagesoup.find_all('span', attrs='post-timeago'):\r\n",
        "      datetimearr.append(find_number(str(time1), 'data-timestamp=\"')[0])\r\n",
        "      company.append(companyname)\r\n",
        "  \r\n",
        "    time.sleep(1)\r\n",
        "\r\n",
        "    if x % 20 == 0:\r\n",
        "      data = {'company':company, 'date':datetimearr, 'views':views}\r\n",
        "      tempdata = pd.DataFrame(data)\r\n",
        "      tempdata.to_csv('drive/MyDrive/posttime' + str(x) + '.csv')\r\n",
        "\r\n",
        "dfpoststime = pd.DataFrame( {'company':company, 'date':datetimearr, 'views':views})\r\n",
        "dfpoststime.to_csv('drive/MyDrive/dfpoststime.csv')"
      ],
      "execution_count": null,
      "outputs": [
        {
          "output_type": "display_data",
          "data": {
            "application/vnd.jupyter.widget-view+json": {
              "model_id": "e376f9b3c83a434e839860c424316545",
              "version_minor": 0,
              "version_major": 2
            },
            "text/plain": [
              "HBox(children=(FloatProgress(value=0.0, max=174.0), HTML(value='')))"
            ]
          },
          "metadata": {
            "tags": []
          }
        },
        {
          "output_type": "stream",
          "text": [
            "\n"
          ],
          "name": "stdout"
        }
      ]
    },
    {
      "cell_type": "markdown",
      "metadata": {
        "id": "zm6jWMQFmrc1"
      },
      "source": [
        "#Explore data for posts from top companies"
      ]
    },
    {
      "cell_type": "code",
      "metadata": {
        "id": "jKrvcrb1Axzw"
      },
      "source": [
        "df = pd.read_csv('drive/MyDrive/dfallposts.csv')\r\n",
        "df = df.drop(['Unnamed: 0'], axis=1)"
      ],
      "execution_count": null,
      "outputs": []
    },
    {
      "cell_type": "code",
      "metadata": {
        "colab": {
          "base_uri": "https://localhost:8080/",
          "height": 191
        },
        "id": "uJ3E93pTmXB8",
        "outputId": "16490d7f-7610-4da7-8833-ef3974e6363a"
      },
      "source": [
        "df.head()"
      ],
      "execution_count": null,
      "outputs": [
        {
          "output_type": "execute_result",
          "data": {
            "text/html": [
              "<div>\n",
              "<style scoped>\n",
              "    .dataframe tbody tr th:only-of-type {\n",
              "        vertical-align: middle;\n",
              "    }\n",
              "\n",
              "    .dataframe tbody tr th {\n",
              "        vertical-align: top;\n",
              "    }\n",
              "\n",
              "    .dataframe thead th {\n",
              "        text-align: right;\n",
              "    }\n",
              "</style>\n",
              "<table border=\"1\" class=\"dataframe\">\n",
              "  <thead>\n",
              "    <tr style=\"text-align: right;\">\n",
              "      <th></th>\n",
              "      <th>company</th>\n",
              "      <th>date</th>\n",
              "      <th>views</th>\n",
              "    </tr>\n",
              "  </thead>\n",
              "  <tbody>\n",
              "    <tr>\n",
              "      <th>0</th>\n",
              "      <td>2U Inc.</td>\n",
              "      <td>1607652170</td>\n",
              "      <td>356</td>\n",
              "    </tr>\n",
              "    <tr>\n",
              "      <th>1</th>\n",
              "      <td>2U Inc.</td>\n",
              "      <td>1604436037</td>\n",
              "      <td>345</td>\n",
              "    </tr>\n",
              "    <tr>\n",
              "      <th>2</th>\n",
              "      <td>2U Inc.</td>\n",
              "      <td>1603111881</td>\n",
              "      <td>229</td>\n",
              "    </tr>\n",
              "    <tr>\n",
              "      <th>3</th>\n",
              "      <td>2U Inc.</td>\n",
              "      <td>1602291578</td>\n",
              "      <td>212</td>\n",
              "    </tr>\n",
              "    <tr>\n",
              "      <th>4</th>\n",
              "      <td>2U Inc.</td>\n",
              "      <td>1601560418</td>\n",
              "      <td>230</td>\n",
              "    </tr>\n",
              "  </tbody>\n",
              "</table>\n",
              "</div>"
            ],
            "text/plain": [
              "   company        date  views\n",
              "0  2U Inc.  1607652170    356\n",
              "1  2U Inc.  1604436037    345\n",
              "2  2U Inc.  1603111881    229\n",
              "3  2U Inc.  1602291578    212\n",
              "4  2U Inc.  1601560418    230"
            ]
          },
          "metadata": {
            "tags": []
          },
          "execution_count": 117
        }
      ]
    },
    {
      "cell_type": "code",
      "metadata": {
        "colab": {
          "base_uri": "https://localhost:8080/",
          "height": 35
        },
        "id": "LQJllPIJyOFd",
        "outputId": "96de12ea-2686-4700-8675-d7fadd3b5054"
      },
      "source": [
        "#convert epoch date to year/month/day\r\n",
        "datetime.fromtimestamp(int(df['date'][0])).strftime(\"%Y-%m-%d\")"
      ],
      "execution_count": null,
      "outputs": [
        {
          "output_type": "execute_result",
          "data": {
            "application/vnd.google.colaboratory.intrinsic+json": {
              "type": "string"
            },
            "text/plain": [
              "'2020-12-11'"
            ]
          },
          "metadata": {
            "tags": []
          },
          "execution_count": 115
        }
      ]
    },
    {
      "cell_type": "code",
      "metadata": {
        "colab": {
          "base_uri": "https://localhost:8080/"
        },
        "id": "tMZmMaVN20K6",
        "outputId": "f83c7485-ce94-4dc8-d8b3-3c557edeffbb"
      },
      "source": [
        "pd.to_datetime(df['date'])"
      ],
      "execution_count": null,
      "outputs": [
        {
          "output_type": "execute_result",
          "data": {
            "text/plain": [
              "0        1970-01-01 00:00:01.607652170\n",
              "1        1970-01-01 00:00:01.604436037\n",
              "2        1970-01-01 00:00:01.603111881\n",
              "3        1970-01-01 00:00:01.602291578\n",
              "4        1970-01-01 00:00:01.601560418\n",
              "                      ...             \n",
              "233357   1970-01-01 00:00:01.276283686\n",
              "233358   1970-01-01 00:00:01.276283611\n",
              "233359   1970-01-01 00:00:01.276283576\n",
              "233360   1970-01-01 00:00:01.275507149\n",
              "233361   1970-01-01 00:00:01.258243200\n",
              "Name: date, Length: 233362, dtype: datetime64[ns]"
            ]
          },
          "metadata": {
            "tags": []
          },
          "execution_count": 116
        }
      ]
    },
    {
      "cell_type": "code",
      "metadata": {
        "colab": {
          "base_uri": "https://localhost:8080/"
        },
        "id": "s0Bw2HY3Yt9j",
        "outputId": "634447ff-c483-46a9-f244-c281727d978a"
      },
      "source": [
        "print('number of posts on the company')\r\n",
        "print(df['company'].value_counts())"
      ],
      "execution_count": null,
      "outputs": [
        {
          "output_type": "stream",
          "text": [
            "number of posts on the company\n",
            "Verizon Communications Inc.     9785\n",
            "Corinthian Colleges Inc.        9206\n",
            "AT&T                            8748\n",
            "Qualcomm Inc.                   8602\n",
            "Intel Corp.                     7687\n",
            "                                ... \n",
            "C.H. Robinson Worldwide Inc.       5\n",
            "Xylem Inc.                         5\n",
            "Huntsman Corp.                     5\n",
            "EXL Service Holdings Inc.          4\n",
            "Nucor Corp.                        3\n",
            "Name: company, Length: 395, dtype: int64\n"
          ],
          "name": "stdout"
        }
      ]
    },
    {
      "cell_type": "code",
      "metadata": {
        "colab": {
          "base_uri": "https://localhost:8080/",
          "height": 817
        },
        "id": "X4Us3R95mBkr",
        "outputId": "2703fe6b-e55c-47b8-c8e1-55ff2adb8f41"
      },
      "source": [
        "numcompanies = 50\r\n",
        "\r\n",
        "indexarray =[]\r\n",
        "for x in range(0, numcompanies):\r\n",
        "  indexarray.append(x)\r\n",
        "\r\n",
        "dfpostcount = pd.DataFrame(postcount[:numcompanies])\r\n",
        "dfpostcount.columns = ['Num Posts']\r\n",
        "dfpostcount['index'] = indexarray\r\n",
        "dfpostcount['Company'] = dfpostcount.index\r\n",
        "dfpostcount.set_index('index')\r\n",
        "px.bar(dfpostcount, x='Company', y='Num Posts', height=800, width = 1200, \r\n",
        "       title='Top ' + str(numcompanies) + ' Companies Represented on TheLayoff.com by posts')"
      ],
      "execution_count": null,
      "outputs": [
        {
          "output_type": "display_data",
          "data": {
            "text/html": [
              "<html>\n",
              "<head><meta charset=\"utf-8\" /></head>\n",
              "<body>\n",
              "    <div>\n",
              "            <script src=\"https://cdnjs.cloudflare.com/ajax/libs/mathjax/2.7.5/MathJax.js?config=TeX-AMS-MML_SVG\"></script><script type=\"text/javascript\">if (window.MathJax) {MathJax.Hub.Config({SVG: {font: \"STIX-Web\"}});}</script>\n",
              "                <script type=\"text/javascript\">window.PlotlyConfig = {MathJaxConfig: 'local'};</script>\n",
              "        <script src=\"https://cdn.plot.ly/plotly-latest.min.js\"></script>    \n",
              "            <div id=\"7a05a561-93c1-4b87-884f-e5cceac5e73c\" class=\"plotly-graph-div\" style=\"height:800px; width:1200px;\"></div>\n",
              "            <script type=\"text/javascript\">\n",
              "                \n",
              "                    window.PLOTLYENV=window.PLOTLYENV || {};\n",
              "                    \n",
              "                if (document.getElementById(\"7a05a561-93c1-4b87-884f-e5cceac5e73c\")) {\n",
              "                    Plotly.newPlot(\n",
              "                        '7a05a561-93c1-4b87-884f-e5cceac5e73c',\n",
              "                        [{\"alignmentgroup\": \"True\", \"hoverlabel\": {\"namelength\": 0}, \"hovertemplate\": \"Company=%{x}<br>Num Posts=%{y}\", \"legendgroup\": \"\", \"marker\": {\"color\": \"#636efa\"}, \"name\": \"\", \"offsetgroup\": \"\", \"orientation\": \"v\", \"showlegend\": false, \"textposition\": \"auto\", \"type\": \"bar\", \"x\": [\"Verizon Communications Inc.\", \"Corinthian Colleges Inc.\", \"AT&T\", \"Qualcomm Inc.\", \"Intel Corp.\", \"Sears\", \"University of Phoenix\", \"Baker Hughes\", \"Chesapeake Energy Corp.\", \"Sam's Club\", \"Oracle Corp.\", \"Chevron Corp.\", \"Honeywell International Inc.\", \"Follett\", \"IBM\", \"Cisco Systems Inc.\", \"ConocoPhillips\", \"Target Corp.\", \"Whole Foods Market Inc.\", \"Wells Fargo & Co.\", \"Halliburton Co.\", \"Dynegy Inc.\", \"Union Pacific Corp.\", \"Weatherford International Ltd.\", \"Schlumberger Ltd.\", \"L3Harris Technologies\", \"Lowe's Cos.\", \"General Electric Co.\", \"National Oilwell Varco Inc.\", \"Walmart\", \"Education Management Corporation\", \"Macy's Inc.\", \"Xerox Corp.\", \"DXC Technology\", \"Staples Inc.\", \"ExxonMobil Corp.\", \"Humana Inc.\", \"Altice USA (Cablevision)\", \"Bank of America\", \"Allstate Corp.\", \"Windstream Corp.\", \"General Motors\", \"State Farm Insurance\", \"Charlotte Russe Holding Inc.\", \"Mattel Inc.\", \"Bank of New York Mellon Corp.\", \"Ford\", \"Dream Center Education Holdings, LLC (DCEH)\", \"Devon Energy Corp.\", \"Bed Bath & Beyond\"], \"xaxis\": \"x\", \"y\": [9785, 9206, 8748, 8602, 7687, 7096, 6649, 5002, 4980, 4252, 3917, 3443, 3265, 3227, 3220, 3180, 3030, 3006, 2950, 2876, 2866, 2782, 2772, 2753, 2677, 2646, 2492, 2482, 2347, 2301, 2210, 2131, 1958, 1903, 1836, 1686, 1674, 1633, 1625, 1619, 1572, 1539, 1455, 1440, 1404, 1391, 1385, 1316, 1245, 1202], \"yaxis\": \"y\"}],\n",
              "                        {\"barmode\": \"relative\", \"height\": 800, \"legend\": {\"tracegroupgap\": 0}, \"template\": {\"data\": {\"bar\": [{\"error_x\": {\"color\": \"#2a3f5f\"}, \"error_y\": {\"color\": \"#2a3f5f\"}, \"marker\": {\"line\": {\"color\": \"#E5ECF6\", \"width\": 0.5}}, \"type\": \"bar\"}], \"barpolar\": [{\"marker\": {\"line\": {\"color\": \"#E5ECF6\", \"width\": 0.5}}, \"type\": \"barpolar\"}], \"carpet\": [{\"aaxis\": {\"endlinecolor\": \"#2a3f5f\", \"gridcolor\": \"white\", \"linecolor\": \"white\", \"minorgridcolor\": \"white\", \"startlinecolor\": \"#2a3f5f\"}, \"baxis\": {\"endlinecolor\": \"#2a3f5f\", \"gridcolor\": \"white\", \"linecolor\": \"white\", \"minorgridcolor\": \"white\", \"startlinecolor\": \"#2a3f5f\"}, \"type\": \"carpet\"}], \"choropleth\": [{\"colorbar\": {\"outlinewidth\": 0, \"ticks\": \"\"}, \"type\": \"choropleth\"}], \"contour\": [{\"colorbar\": {\"outlinewidth\": 0, \"ticks\": \"\"}, \"colorscale\": [[0.0, \"#0d0887\"], [0.1111111111111111, \"#46039f\"], [0.2222222222222222, \"#7201a8\"], [0.3333333333333333, \"#9c179e\"], [0.4444444444444444, \"#bd3786\"], [0.5555555555555556, \"#d8576b\"], [0.6666666666666666, \"#ed7953\"], [0.7777777777777778, \"#fb9f3a\"], [0.8888888888888888, \"#fdca26\"], [1.0, \"#f0f921\"]], \"type\": \"contour\"}], \"contourcarpet\": [{\"colorbar\": {\"outlinewidth\": 0, \"ticks\": \"\"}, \"type\": \"contourcarpet\"}], \"heatmap\": [{\"colorbar\": {\"outlinewidth\": 0, \"ticks\": \"\"}, \"colorscale\": [[0.0, \"#0d0887\"], [0.1111111111111111, \"#46039f\"], [0.2222222222222222, \"#7201a8\"], [0.3333333333333333, \"#9c179e\"], [0.4444444444444444, \"#bd3786\"], [0.5555555555555556, \"#d8576b\"], [0.6666666666666666, \"#ed7953\"], [0.7777777777777778, \"#fb9f3a\"], [0.8888888888888888, \"#fdca26\"], [1.0, \"#f0f921\"]], \"type\": \"heatmap\"}], \"heatmapgl\": [{\"colorbar\": {\"outlinewidth\": 0, \"ticks\": \"\"}, \"colorscale\": [[0.0, \"#0d0887\"], [0.1111111111111111, \"#46039f\"], [0.2222222222222222, \"#7201a8\"], [0.3333333333333333, \"#9c179e\"], [0.4444444444444444, \"#bd3786\"], [0.5555555555555556, \"#d8576b\"], [0.6666666666666666, \"#ed7953\"], [0.7777777777777778, \"#fb9f3a\"], [0.8888888888888888, \"#fdca26\"], [1.0, \"#f0f921\"]], \"type\": \"heatmapgl\"}], \"histogram\": [{\"marker\": {\"colorbar\": {\"outlinewidth\": 0, \"ticks\": \"\"}}, \"type\": \"histogram\"}], \"histogram2d\": [{\"colorbar\": {\"outlinewidth\": 0, \"ticks\": \"\"}, \"colorscale\": [[0.0, \"#0d0887\"], [0.1111111111111111, \"#46039f\"], [0.2222222222222222, \"#7201a8\"], [0.3333333333333333, \"#9c179e\"], [0.4444444444444444, \"#bd3786\"], [0.5555555555555556, \"#d8576b\"], [0.6666666666666666, \"#ed7953\"], [0.7777777777777778, \"#fb9f3a\"], [0.8888888888888888, \"#fdca26\"], [1.0, \"#f0f921\"]], \"type\": \"histogram2d\"}], \"histogram2dcontour\": [{\"colorbar\": {\"outlinewidth\": 0, \"ticks\": \"\"}, \"colorscale\": [[0.0, \"#0d0887\"], [0.1111111111111111, \"#46039f\"], [0.2222222222222222, \"#7201a8\"], [0.3333333333333333, \"#9c179e\"], [0.4444444444444444, \"#bd3786\"], [0.5555555555555556, \"#d8576b\"], [0.6666666666666666, \"#ed7953\"], [0.7777777777777778, \"#fb9f3a\"], [0.8888888888888888, \"#fdca26\"], [1.0, \"#f0f921\"]], \"type\": \"histogram2dcontour\"}], \"mesh3d\": [{\"colorbar\": {\"outlinewidth\": 0, \"ticks\": \"\"}, \"type\": \"mesh3d\"}], \"parcoords\": [{\"line\": {\"colorbar\": {\"outlinewidth\": 0, \"ticks\": \"\"}}, \"type\": \"parcoords\"}], \"pie\": [{\"automargin\": true, \"type\": \"pie\"}], \"scatter\": [{\"marker\": {\"colorbar\": {\"outlinewidth\": 0, \"ticks\": \"\"}}, \"type\": \"scatter\"}], \"scatter3d\": [{\"line\": {\"colorbar\": {\"outlinewidth\": 0, \"ticks\": \"\"}}, \"marker\": {\"colorbar\": {\"outlinewidth\": 0, \"ticks\": \"\"}}, \"type\": \"scatter3d\"}], \"scattercarpet\": [{\"marker\": {\"colorbar\": {\"outlinewidth\": 0, \"ticks\": \"\"}}, \"type\": \"scattercarpet\"}], \"scattergeo\": [{\"marker\": {\"colorbar\": {\"outlinewidth\": 0, \"ticks\": \"\"}}, \"type\": \"scattergeo\"}], \"scattergl\": [{\"marker\": {\"colorbar\": {\"outlinewidth\": 0, \"ticks\": \"\"}}, \"type\": \"scattergl\"}], \"scattermapbox\": [{\"marker\": {\"colorbar\": {\"outlinewidth\": 0, \"ticks\": \"\"}}, \"type\": \"scattermapbox\"}], \"scatterpolar\": [{\"marker\": {\"colorbar\": {\"outlinewidth\": 0, \"ticks\": \"\"}}, \"type\": \"scatterpolar\"}], \"scatterpolargl\": [{\"marker\": {\"colorbar\": {\"outlinewidth\": 0, \"ticks\": \"\"}}, \"type\": \"scatterpolargl\"}], \"scatterternary\": [{\"marker\": {\"colorbar\": {\"outlinewidth\": 0, \"ticks\": \"\"}}, \"type\": \"scatterternary\"}], \"surface\": [{\"colorbar\": {\"outlinewidth\": 0, \"ticks\": \"\"}, \"colorscale\": [[0.0, \"#0d0887\"], [0.1111111111111111, \"#46039f\"], [0.2222222222222222, \"#7201a8\"], [0.3333333333333333, \"#9c179e\"], [0.4444444444444444, \"#bd3786\"], [0.5555555555555556, \"#d8576b\"], [0.6666666666666666, \"#ed7953\"], [0.7777777777777778, \"#fb9f3a\"], [0.8888888888888888, \"#fdca26\"], [1.0, \"#f0f921\"]], \"type\": \"surface\"}], \"table\": [{\"cells\": {\"fill\": {\"color\": \"#EBF0F8\"}, \"line\": {\"color\": \"white\"}}, \"header\": {\"fill\": {\"color\": \"#C8D4E3\"}, \"line\": {\"color\": \"white\"}}, \"type\": \"table\"}]}, \"layout\": {\"annotationdefaults\": {\"arrowcolor\": \"#2a3f5f\", \"arrowhead\": 0, \"arrowwidth\": 1}, \"coloraxis\": {\"colorbar\": {\"outlinewidth\": 0, \"ticks\": \"\"}}, \"colorscale\": {\"diverging\": [[0, \"#8e0152\"], [0.1, \"#c51b7d\"], [0.2, \"#de77ae\"], [0.3, \"#f1b6da\"], [0.4, \"#fde0ef\"], [0.5, \"#f7f7f7\"], [0.6, \"#e6f5d0\"], [0.7, \"#b8e186\"], [0.8, \"#7fbc41\"], [0.9, \"#4d9221\"], [1, \"#276419\"]], \"sequential\": [[0.0, \"#0d0887\"], [0.1111111111111111, \"#46039f\"], [0.2222222222222222, \"#7201a8\"], [0.3333333333333333, \"#9c179e\"], [0.4444444444444444, \"#bd3786\"], [0.5555555555555556, \"#d8576b\"], [0.6666666666666666, \"#ed7953\"], [0.7777777777777778, \"#fb9f3a\"], [0.8888888888888888, \"#fdca26\"], [1.0, \"#f0f921\"]], \"sequentialminus\": [[0.0, \"#0d0887\"], [0.1111111111111111, \"#46039f\"], [0.2222222222222222, \"#7201a8\"], [0.3333333333333333, \"#9c179e\"], [0.4444444444444444, \"#bd3786\"], [0.5555555555555556, \"#d8576b\"], [0.6666666666666666, \"#ed7953\"], [0.7777777777777778, \"#fb9f3a\"], [0.8888888888888888, \"#fdca26\"], [1.0, \"#f0f921\"]]}, \"colorway\": [\"#636efa\", \"#EF553B\", \"#00cc96\", \"#ab63fa\", \"#FFA15A\", \"#19d3f3\", \"#FF6692\", \"#B6E880\", \"#FF97FF\", \"#FECB52\"], \"font\": {\"color\": \"#2a3f5f\"}, \"geo\": {\"bgcolor\": \"white\", \"lakecolor\": \"white\", \"landcolor\": \"#E5ECF6\", \"showlakes\": true, \"showland\": true, \"subunitcolor\": \"white\"}, \"hoverlabel\": {\"align\": \"left\"}, \"hovermode\": \"closest\", \"mapbox\": {\"style\": \"light\"}, \"paper_bgcolor\": \"white\", \"plot_bgcolor\": \"#E5ECF6\", \"polar\": {\"angularaxis\": {\"gridcolor\": \"white\", \"linecolor\": \"white\", \"ticks\": \"\"}, \"bgcolor\": \"#E5ECF6\", \"radialaxis\": {\"gridcolor\": \"white\", \"linecolor\": \"white\", \"ticks\": \"\"}}, \"scene\": {\"xaxis\": {\"backgroundcolor\": \"#E5ECF6\", \"gridcolor\": \"white\", \"gridwidth\": 2, \"linecolor\": \"white\", \"showbackground\": true, \"ticks\": \"\", \"zerolinecolor\": \"white\"}, \"yaxis\": {\"backgroundcolor\": \"#E5ECF6\", \"gridcolor\": \"white\", \"gridwidth\": 2, \"linecolor\": \"white\", \"showbackground\": true, \"ticks\": \"\", \"zerolinecolor\": \"white\"}, \"zaxis\": {\"backgroundcolor\": \"#E5ECF6\", \"gridcolor\": \"white\", \"gridwidth\": 2, \"linecolor\": \"white\", \"showbackground\": true, \"ticks\": \"\", \"zerolinecolor\": \"white\"}}, \"shapedefaults\": {\"line\": {\"color\": \"#2a3f5f\"}}, \"ternary\": {\"aaxis\": {\"gridcolor\": \"white\", \"linecolor\": \"white\", \"ticks\": \"\"}, \"baxis\": {\"gridcolor\": \"white\", \"linecolor\": \"white\", \"ticks\": \"\"}, \"bgcolor\": \"#E5ECF6\", \"caxis\": {\"gridcolor\": \"white\", \"linecolor\": \"white\", \"ticks\": \"\"}}, \"title\": {\"x\": 0.05}, \"xaxis\": {\"automargin\": true, \"gridcolor\": \"white\", \"linecolor\": \"white\", \"ticks\": \"\", \"title\": {\"standoff\": 15}, \"zerolinecolor\": \"white\", \"zerolinewidth\": 2}, \"yaxis\": {\"automargin\": true, \"gridcolor\": \"white\", \"linecolor\": \"white\", \"ticks\": \"\", \"title\": {\"standoff\": 15}, \"zerolinecolor\": \"white\", \"zerolinewidth\": 2}}}, \"title\": {\"text\": \"Top 50 Companies Represented on TheLayoff.com by posts\"}, \"width\": 1200, \"xaxis\": {\"anchor\": \"y\", \"domain\": [0.0, 1.0], \"title\": {\"text\": \"Company\"}}, \"yaxis\": {\"anchor\": \"x\", \"domain\": [0.0, 1.0], \"title\": {\"text\": \"Num Posts\"}}},\n",
              "                        {\"responsive\": true}\n",
              "                    ).then(function(){\n",
              "                            \n",
              "var gd = document.getElementById('7a05a561-93c1-4b87-884f-e5cceac5e73c');\n",
              "var x = new MutationObserver(function (mutations, observer) {{\n",
              "        var display = window.getComputedStyle(gd).display;\n",
              "        if (!display || display === 'none') {{\n",
              "            console.log([gd, 'removed!']);\n",
              "            Plotly.purge(gd);\n",
              "            observer.disconnect();\n",
              "        }}\n",
              "}});\n",
              "\n",
              "// Listen for the removal of the full notebook cells\n",
              "var notebookContainer = gd.closest('#notebook-container');\n",
              "if (notebookContainer) {{\n",
              "    x.observe(notebookContainer, {childList: true});\n",
              "}}\n",
              "\n",
              "// Listen for the clearing of the current output cell\n",
              "var outputEl = gd.closest('.output');\n",
              "if (outputEl) {{\n",
              "    x.observe(outputEl, {childList: true});\n",
              "}}\n",
              "\n",
              "                        })\n",
              "                };\n",
              "                \n",
              "            </script>\n",
              "        </div>\n",
              "</body>\n",
              "</html>"
            ]
          },
          "metadata": {
            "tags": []
          }
        }
      ]
    },
    {
      "cell_type": "code",
      "metadata": {
        "colab": {
          "base_uri": "https://localhost:8080/",
          "height": 420
        },
        "id": "pZswbDqQo0ev",
        "outputId": "8c156b02-5f90-4dc5-f467-7cfb93942365"
      },
      "source": [
        "dfviewcount = df.groupby(['company']).sum()\r\n",
        "dfviewcount = dfviewcount.sort_values(by='views', ascending=False)\r\n",
        "dfviewcount['index'] = np.arange(0,dfviewcount.shape[0])\r\n",
        "dfviewcount['Company'] = dfviewcount.index\r\n",
        "dfviewcount.set_index('index', inplace=True)\r\n",
        "dfviewcount = dfviewcount.drop(['date'], axis=1)\r\n",
        "dfviewcount"
      ],
      "execution_count": null,
      "outputs": [
        {
          "output_type": "execute_result",
          "data": {
            "text/html": [
              "<div>\n",
              "<style scoped>\n",
              "    .dataframe tbody tr th:only-of-type {\n",
              "        vertical-align: middle;\n",
              "    }\n",
              "\n",
              "    .dataframe tbody tr th {\n",
              "        vertical-align: top;\n",
              "    }\n",
              "\n",
              "    .dataframe thead th {\n",
              "        text-align: right;\n",
              "    }\n",
              "</style>\n",
              "<table border=\"1\" class=\"dataframe\">\n",
              "  <thead>\n",
              "    <tr style=\"text-align: right;\">\n",
              "      <th></th>\n",
              "      <th>views</th>\n",
              "      <th>Company</th>\n",
              "    </tr>\n",
              "    <tr>\n",
              "      <th>index</th>\n",
              "      <th></th>\n",
              "      <th></th>\n",
              "    </tr>\n",
              "  </thead>\n",
              "  <tbody>\n",
              "    <tr>\n",
              "      <th>0</th>\n",
              "      <td>15087616</td>\n",
              "      <td>Verizon Communications Inc.</td>\n",
              "    </tr>\n",
              "    <tr>\n",
              "      <th>1</th>\n",
              "      <td>14008559</td>\n",
              "      <td>AT&amp;T</td>\n",
              "    </tr>\n",
              "    <tr>\n",
              "      <th>2</th>\n",
              "      <td>12154792</td>\n",
              "      <td>Intel Corp.</td>\n",
              "    </tr>\n",
              "    <tr>\n",
              "      <th>3</th>\n",
              "      <td>9499753</td>\n",
              "      <td>Cisco Systems Inc.</td>\n",
              "    </tr>\n",
              "    <tr>\n",
              "      <th>4</th>\n",
              "      <td>9297341</td>\n",
              "      <td>Qualcomm Inc.</td>\n",
              "    </tr>\n",
              "    <tr>\n",
              "      <th>...</th>\n",
              "      <td>...</td>\n",
              "      <td>...</td>\n",
              "    </tr>\n",
              "    <tr>\n",
              "      <th>390</th>\n",
              "      <td>3322</td>\n",
              "      <td>Huntsman Corp.</td>\n",
              "    </tr>\n",
              "    <tr>\n",
              "      <th>391</th>\n",
              "      <td>3271</td>\n",
              "      <td>Noodles &amp; Co.</td>\n",
              "    </tr>\n",
              "    <tr>\n",
              "      <th>392</th>\n",
              "      <td>3066</td>\n",
              "      <td>Regal Entertainment Group</td>\n",
              "    </tr>\n",
              "    <tr>\n",
              "      <th>393</th>\n",
              "      <td>1497</td>\n",
              "      <td>EXL Service Holdings Inc.</td>\n",
              "    </tr>\n",
              "    <tr>\n",
              "      <th>394</th>\n",
              "      <td>452</td>\n",
              "      <td>Nucor Corp.</td>\n",
              "    </tr>\n",
              "  </tbody>\n",
              "</table>\n",
              "<p>395 rows × 2 columns</p>\n",
              "</div>"
            ],
            "text/plain": [
              "          views                      Company\n",
              "index                                       \n",
              "0      15087616  Verizon Communications Inc.\n",
              "1      14008559                         AT&T\n",
              "2      12154792                  Intel Corp.\n",
              "3       9499753           Cisco Systems Inc.\n",
              "4       9297341                Qualcomm Inc.\n",
              "...         ...                          ...\n",
              "390        3322               Huntsman Corp.\n",
              "391        3271                Noodles & Co.\n",
              "392        3066    Regal Entertainment Group\n",
              "393        1497    EXL Service Holdings Inc.\n",
              "394         452                  Nucor Corp.\n",
              "\n",
              "[395 rows x 2 columns]"
            ]
          },
          "metadata": {
            "tags": []
          },
          "execution_count": 107
        }
      ]
    },
    {
      "cell_type": "code",
      "metadata": {
        "colab": {
          "base_uri": "https://localhost:8080/",
          "height": 817
        },
        "id": "kgIZfDH5pUm4",
        "outputId": "13ca4c33-c7a5-4fd5-ee10-3299336cf409"
      },
      "source": [
        "numtopviews=50\r\n",
        "px.bar(dfviewcount.head(numtopviews), x='Company', y='views', height=800, width = 1200, \r\n",
        "       title='Top ' + str(numtopviews) + ' Companies Represented on TheLayoff.com by views')"
      ],
      "execution_count": null,
      "outputs": [
        {
          "output_type": "display_data",
          "data": {
            "text/html": [
              "<html>\n",
              "<head><meta charset=\"utf-8\" /></head>\n",
              "<body>\n",
              "    <div>\n",
              "            <script src=\"https://cdnjs.cloudflare.com/ajax/libs/mathjax/2.7.5/MathJax.js?config=TeX-AMS-MML_SVG\"></script><script type=\"text/javascript\">if (window.MathJax) {MathJax.Hub.Config({SVG: {font: \"STIX-Web\"}});}</script>\n",
              "                <script type=\"text/javascript\">window.PlotlyConfig = {MathJaxConfig: 'local'};</script>\n",
              "        <script src=\"https://cdn.plot.ly/plotly-latest.min.js\"></script>    \n",
              "            <div id=\"294bb0c3-0a8f-48ed-b25f-19e46b6c7643\" class=\"plotly-graph-div\" style=\"height:800px; width:1200px;\"></div>\n",
              "            <script type=\"text/javascript\">\n",
              "                \n",
              "                    window.PLOTLYENV=window.PLOTLYENV || {};\n",
              "                    \n",
              "                if (document.getElementById(\"294bb0c3-0a8f-48ed-b25f-19e46b6c7643\")) {\n",
              "                    Plotly.newPlot(\n",
              "                        '294bb0c3-0a8f-48ed-b25f-19e46b6c7643',\n",
              "                        [{\"alignmentgroup\": \"True\", \"hoverlabel\": {\"namelength\": 0}, \"hovertemplate\": \"Company=%{x}<br>views=%{y}\", \"legendgroup\": \"\", \"marker\": {\"color\": \"#636efa\"}, \"name\": \"\", \"offsetgroup\": \"\", \"orientation\": \"v\", \"showlegend\": false, \"textposition\": \"auto\", \"type\": \"bar\", \"x\": [\"Verizon Communications Inc.\", \"AT&T\", \"Intel Corp.\", \"Cisco Systems Inc.\", \"Qualcomm Inc.\", \"Honeywell International Inc.\", \"Oracle Corp.\", \"Sears\", \"Chevron Corp.\", \"Sam's Club\", \"Walmart\", \"General Electric Co.\", \"Wells Fargo & Co.\", \"IBM\", \"ExxonMobil Corp.\", \"Schlumberger Ltd.\", \"DXC Technology\", \"ConocoPhillips\", \"State Farm Insurance\", \"Lowe's Cos.\", \"Occidental Petroleum Corp.\", \"Baker Hughes\", \"Truist Bank\", \"Union Pacific Corp.\", \"Bank of New York Mellon Corp.\", \"Halliburton Co.\", \"National Oilwell Varco Inc.\", \"Chesapeake Energy Corp.\", \"Xerox Corp.\", \"Weatherford International Ltd.\", \"Allstate Corp.\", \"Macy's Inc.\", \"Whole Foods Market Inc.\", \"Corinthian Colleges Inc.\", \"University of Phoenix\", \"Hewlett Packard Enterprise (HPE)\", \"Follett\", \"Staples Inc.\", \"Bank of America\", \"Humana Inc.\", \"Seagate Technology Inc.\", \"Dell Inc.\", \"Devon Energy Corp.\", \"Windstream Corp.\", \"General Motors\", \"PepsiCo Inc. (Pepsi)\", \"Education Management Corporation\", \"Nike Inc.\", \"Altice USA (Cablevision)\", \"Mattel Inc.\"], \"xaxis\": \"x\", \"y\": [15087616, 14008559, 12154792, 9499753, 9297341, 9170910, 9025402, 7943517, 7238900, 6446977, 6253270, 6235411, 5764323, 5289062, 4602701, 4518707, 4457009, 4307851, 4244750, 4190166, 4178285, 4019455, 3970079, 3945853, 3839451, 3789202, 3462670, 3390229, 3352934, 3336815, 3239756, 2978605, 2890544, 2699087, 2645055, 2602684, 2561025, 2543004, 2481115, 2424579, 2412301, 2397480, 2369752, 2316044, 2263784, 2201622, 2188766, 2119570, 2045589, 2040754], \"yaxis\": \"y\"}],\n",
              "                        {\"barmode\": \"relative\", \"height\": 800, \"legend\": {\"tracegroupgap\": 0}, \"template\": {\"data\": {\"bar\": [{\"error_x\": {\"color\": \"#2a3f5f\"}, \"error_y\": {\"color\": \"#2a3f5f\"}, \"marker\": {\"line\": {\"color\": \"#E5ECF6\", \"width\": 0.5}}, \"type\": \"bar\"}], \"barpolar\": [{\"marker\": {\"line\": {\"color\": \"#E5ECF6\", \"width\": 0.5}}, \"type\": \"barpolar\"}], \"carpet\": [{\"aaxis\": {\"endlinecolor\": \"#2a3f5f\", \"gridcolor\": \"white\", \"linecolor\": \"white\", \"minorgridcolor\": \"white\", \"startlinecolor\": \"#2a3f5f\"}, \"baxis\": {\"endlinecolor\": \"#2a3f5f\", \"gridcolor\": \"white\", \"linecolor\": \"white\", \"minorgridcolor\": \"white\", \"startlinecolor\": \"#2a3f5f\"}, \"type\": \"carpet\"}], \"choropleth\": [{\"colorbar\": {\"outlinewidth\": 0, \"ticks\": \"\"}, \"type\": \"choropleth\"}], \"contour\": [{\"colorbar\": {\"outlinewidth\": 0, \"ticks\": \"\"}, \"colorscale\": [[0.0, \"#0d0887\"], [0.1111111111111111, \"#46039f\"], [0.2222222222222222, \"#7201a8\"], [0.3333333333333333, \"#9c179e\"], [0.4444444444444444, \"#bd3786\"], [0.5555555555555556, \"#d8576b\"], [0.6666666666666666, \"#ed7953\"], [0.7777777777777778, \"#fb9f3a\"], [0.8888888888888888, \"#fdca26\"], [1.0, \"#f0f921\"]], \"type\": \"contour\"}], \"contourcarpet\": [{\"colorbar\": {\"outlinewidth\": 0, \"ticks\": \"\"}, \"type\": \"contourcarpet\"}], \"heatmap\": [{\"colorbar\": {\"outlinewidth\": 0, \"ticks\": \"\"}, \"colorscale\": [[0.0, \"#0d0887\"], [0.1111111111111111, \"#46039f\"], [0.2222222222222222, \"#7201a8\"], [0.3333333333333333, \"#9c179e\"], [0.4444444444444444, \"#bd3786\"], [0.5555555555555556, \"#d8576b\"], [0.6666666666666666, \"#ed7953\"], [0.7777777777777778, \"#fb9f3a\"], [0.8888888888888888, \"#fdca26\"], [1.0, \"#f0f921\"]], \"type\": \"heatmap\"}], \"heatmapgl\": [{\"colorbar\": {\"outlinewidth\": 0, \"ticks\": \"\"}, \"colorscale\": [[0.0, \"#0d0887\"], [0.1111111111111111, \"#46039f\"], [0.2222222222222222, \"#7201a8\"], [0.3333333333333333, \"#9c179e\"], [0.4444444444444444, \"#bd3786\"], [0.5555555555555556, \"#d8576b\"], [0.6666666666666666, \"#ed7953\"], [0.7777777777777778, \"#fb9f3a\"], [0.8888888888888888, \"#fdca26\"], [1.0, \"#f0f921\"]], \"type\": \"heatmapgl\"}], \"histogram\": [{\"marker\": {\"colorbar\": {\"outlinewidth\": 0, \"ticks\": \"\"}}, \"type\": \"histogram\"}], \"histogram2d\": [{\"colorbar\": {\"outlinewidth\": 0, \"ticks\": \"\"}, \"colorscale\": [[0.0, \"#0d0887\"], [0.1111111111111111, \"#46039f\"], [0.2222222222222222, \"#7201a8\"], [0.3333333333333333, \"#9c179e\"], [0.4444444444444444, \"#bd3786\"], [0.5555555555555556, \"#d8576b\"], [0.6666666666666666, \"#ed7953\"], [0.7777777777777778, \"#fb9f3a\"], [0.8888888888888888, \"#fdca26\"], [1.0, \"#f0f921\"]], \"type\": \"histogram2d\"}], \"histogram2dcontour\": [{\"colorbar\": {\"outlinewidth\": 0, \"ticks\": \"\"}, \"colorscale\": [[0.0, \"#0d0887\"], [0.1111111111111111, \"#46039f\"], [0.2222222222222222, \"#7201a8\"], [0.3333333333333333, \"#9c179e\"], [0.4444444444444444, \"#bd3786\"], [0.5555555555555556, \"#d8576b\"], [0.6666666666666666, \"#ed7953\"], [0.7777777777777778, \"#fb9f3a\"], [0.8888888888888888, \"#fdca26\"], [1.0, \"#f0f921\"]], \"type\": \"histogram2dcontour\"}], \"mesh3d\": [{\"colorbar\": {\"outlinewidth\": 0, \"ticks\": \"\"}, \"type\": \"mesh3d\"}], \"parcoords\": [{\"line\": {\"colorbar\": {\"outlinewidth\": 0, \"ticks\": \"\"}}, \"type\": \"parcoords\"}], \"pie\": [{\"automargin\": true, \"type\": \"pie\"}], \"scatter\": [{\"marker\": {\"colorbar\": {\"outlinewidth\": 0, \"ticks\": \"\"}}, \"type\": \"scatter\"}], \"scatter3d\": [{\"line\": {\"colorbar\": {\"outlinewidth\": 0, \"ticks\": \"\"}}, \"marker\": {\"colorbar\": {\"outlinewidth\": 0, \"ticks\": \"\"}}, \"type\": \"scatter3d\"}], \"scattercarpet\": [{\"marker\": {\"colorbar\": {\"outlinewidth\": 0, \"ticks\": \"\"}}, \"type\": \"scattercarpet\"}], \"scattergeo\": [{\"marker\": {\"colorbar\": {\"outlinewidth\": 0, \"ticks\": \"\"}}, \"type\": \"scattergeo\"}], \"scattergl\": [{\"marker\": {\"colorbar\": {\"outlinewidth\": 0, \"ticks\": \"\"}}, \"type\": \"scattergl\"}], \"scattermapbox\": [{\"marker\": {\"colorbar\": {\"outlinewidth\": 0, \"ticks\": \"\"}}, \"type\": \"scattermapbox\"}], \"scatterpolar\": [{\"marker\": {\"colorbar\": {\"outlinewidth\": 0, \"ticks\": \"\"}}, \"type\": \"scatterpolar\"}], \"scatterpolargl\": [{\"marker\": {\"colorbar\": {\"outlinewidth\": 0, \"ticks\": \"\"}}, \"type\": \"scatterpolargl\"}], \"scatterternary\": [{\"marker\": {\"colorbar\": {\"outlinewidth\": 0, \"ticks\": \"\"}}, \"type\": \"scatterternary\"}], \"surface\": [{\"colorbar\": {\"outlinewidth\": 0, \"ticks\": \"\"}, \"colorscale\": [[0.0, \"#0d0887\"], [0.1111111111111111, \"#46039f\"], [0.2222222222222222, \"#7201a8\"], [0.3333333333333333, \"#9c179e\"], [0.4444444444444444, \"#bd3786\"], [0.5555555555555556, \"#d8576b\"], [0.6666666666666666, \"#ed7953\"], [0.7777777777777778, \"#fb9f3a\"], [0.8888888888888888, \"#fdca26\"], [1.0, \"#f0f921\"]], \"type\": \"surface\"}], \"table\": [{\"cells\": {\"fill\": {\"color\": \"#EBF0F8\"}, \"line\": {\"color\": \"white\"}}, \"header\": {\"fill\": {\"color\": \"#C8D4E3\"}, \"line\": {\"color\": \"white\"}}, \"type\": \"table\"}]}, \"layout\": {\"annotationdefaults\": {\"arrowcolor\": \"#2a3f5f\", \"arrowhead\": 0, \"arrowwidth\": 1}, \"coloraxis\": {\"colorbar\": {\"outlinewidth\": 0, \"ticks\": \"\"}}, \"colorscale\": {\"diverging\": [[0, \"#8e0152\"], [0.1, \"#c51b7d\"], [0.2, \"#de77ae\"], [0.3, \"#f1b6da\"], [0.4, \"#fde0ef\"], [0.5, \"#f7f7f7\"], [0.6, \"#e6f5d0\"], [0.7, \"#b8e186\"], [0.8, \"#7fbc41\"], [0.9, \"#4d9221\"], [1, \"#276419\"]], \"sequential\": [[0.0, \"#0d0887\"], [0.1111111111111111, \"#46039f\"], [0.2222222222222222, \"#7201a8\"], [0.3333333333333333, \"#9c179e\"], [0.4444444444444444, \"#bd3786\"], [0.5555555555555556, \"#d8576b\"], [0.6666666666666666, \"#ed7953\"], [0.7777777777777778, \"#fb9f3a\"], [0.8888888888888888, \"#fdca26\"], [1.0, \"#f0f921\"]], \"sequentialminus\": [[0.0, \"#0d0887\"], [0.1111111111111111, \"#46039f\"], [0.2222222222222222, \"#7201a8\"], [0.3333333333333333, \"#9c179e\"], [0.4444444444444444, \"#bd3786\"], [0.5555555555555556, \"#d8576b\"], [0.6666666666666666, \"#ed7953\"], [0.7777777777777778, \"#fb9f3a\"], [0.8888888888888888, \"#fdca26\"], [1.0, \"#f0f921\"]]}, \"colorway\": [\"#636efa\", \"#EF553B\", \"#00cc96\", \"#ab63fa\", \"#FFA15A\", \"#19d3f3\", \"#FF6692\", \"#B6E880\", \"#FF97FF\", \"#FECB52\"], \"font\": {\"color\": \"#2a3f5f\"}, \"geo\": {\"bgcolor\": \"white\", \"lakecolor\": \"white\", \"landcolor\": \"#E5ECF6\", \"showlakes\": true, \"showland\": true, \"subunitcolor\": \"white\"}, \"hoverlabel\": {\"align\": \"left\"}, \"hovermode\": \"closest\", \"mapbox\": {\"style\": \"light\"}, \"paper_bgcolor\": \"white\", \"plot_bgcolor\": \"#E5ECF6\", \"polar\": {\"angularaxis\": {\"gridcolor\": \"white\", \"linecolor\": \"white\", \"ticks\": \"\"}, \"bgcolor\": \"#E5ECF6\", \"radialaxis\": {\"gridcolor\": \"white\", \"linecolor\": \"white\", \"ticks\": \"\"}}, \"scene\": {\"xaxis\": {\"backgroundcolor\": \"#E5ECF6\", \"gridcolor\": \"white\", \"gridwidth\": 2, \"linecolor\": \"white\", \"showbackground\": true, \"ticks\": \"\", \"zerolinecolor\": \"white\"}, \"yaxis\": {\"backgroundcolor\": \"#E5ECF6\", \"gridcolor\": \"white\", \"gridwidth\": 2, \"linecolor\": \"white\", \"showbackground\": true, \"ticks\": \"\", \"zerolinecolor\": \"white\"}, \"zaxis\": {\"backgroundcolor\": \"#E5ECF6\", \"gridcolor\": \"white\", \"gridwidth\": 2, \"linecolor\": \"white\", \"showbackground\": true, \"ticks\": \"\", \"zerolinecolor\": \"white\"}}, \"shapedefaults\": {\"line\": {\"color\": \"#2a3f5f\"}}, \"ternary\": {\"aaxis\": {\"gridcolor\": \"white\", \"linecolor\": \"white\", \"ticks\": \"\"}, \"baxis\": {\"gridcolor\": \"white\", \"linecolor\": \"white\", \"ticks\": \"\"}, \"bgcolor\": \"#E5ECF6\", \"caxis\": {\"gridcolor\": \"white\", \"linecolor\": \"white\", \"ticks\": \"\"}}, \"title\": {\"x\": 0.05}, \"xaxis\": {\"automargin\": true, \"gridcolor\": \"white\", \"linecolor\": \"white\", \"ticks\": \"\", \"title\": {\"standoff\": 15}, \"zerolinecolor\": \"white\", \"zerolinewidth\": 2}, \"yaxis\": {\"automargin\": true, \"gridcolor\": \"white\", \"linecolor\": \"white\", \"ticks\": \"\", \"title\": {\"standoff\": 15}, \"zerolinecolor\": \"white\", \"zerolinewidth\": 2}}}, \"title\": {\"text\": \"Top 50 Companies Represented on TheLayoff.com by views\"}, \"width\": 1200, \"xaxis\": {\"anchor\": \"y\", \"domain\": [0.0, 1.0], \"title\": {\"text\": \"Company\"}}, \"yaxis\": {\"anchor\": \"x\", \"domain\": [0.0, 1.0], \"title\": {\"text\": \"views\"}}},\n",
              "                        {\"responsive\": true}\n",
              "                    ).then(function(){\n",
              "                            \n",
              "var gd = document.getElementById('294bb0c3-0a8f-48ed-b25f-19e46b6c7643');\n",
              "var x = new MutationObserver(function (mutations, observer) {{\n",
              "        var display = window.getComputedStyle(gd).display;\n",
              "        if (!display || display === 'none') {{\n",
              "            console.log([gd, 'removed!']);\n",
              "            Plotly.purge(gd);\n",
              "            observer.disconnect();\n",
              "        }}\n",
              "}});\n",
              "\n",
              "// Listen for the removal of the full notebook cells\n",
              "var notebookContainer = gd.closest('#notebook-container');\n",
              "if (notebookContainer) {{\n",
              "    x.observe(notebookContainer, {childList: true});\n",
              "}}\n",
              "\n",
              "// Listen for the clearing of the current output cell\n",
              "var outputEl = gd.closest('.output');\n",
              "if (outputEl) {{\n",
              "    x.observe(outputEl, {childList: true});\n",
              "}}\n",
              "\n",
              "                        })\n",
              "                };\n",
              "                \n",
              "            </script>\n",
              "        </div>\n",
              "</body>\n",
              "</html>"
            ]
          },
          "metadata": {
            "tags": []
          }
        }
      ]
    }
  ]
}